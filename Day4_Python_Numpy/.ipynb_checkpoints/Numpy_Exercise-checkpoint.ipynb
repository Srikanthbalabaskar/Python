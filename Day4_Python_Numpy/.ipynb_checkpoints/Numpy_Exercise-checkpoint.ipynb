{
 "cells": [
  {
   "cell_type": "markdown",
   "metadata": {},
   "source": [
    "# Exercise 1: NumPy: Create an array with values ranging from 12 to 38¶"
   ]
  },
  {
   "cell_type": "code",
   "execution_count": 2,
   "metadata": {},
   "outputs": [],
   "source": [
    "import numpy as np"
   ]
  },
  {
   "cell_type": "code",
   "execution_count": 4,
   "metadata": {},
   "outputs": [
    {
     "data": {
      "text/plain": [
       "array([12, 13, 14, 15, 16, 17, 18, 19, 20, 21, 22, 23, 24, 25, 26, 27, 28,\n",
       "       29, 30, 31, 32, 33, 34, 35, 36, 37, 38])"
      ]
     },
     "execution_count": 4,
     "metadata": {},
     "output_type": "execute_result"
    }
   ],
   "source": [
    "arr=np.array(range(12,39))\n",
    "arr"
   ]
  },
  {
   "cell_type": "markdown",
   "metadata": {},
   "source": [
    "# Exercise 2: Add a border around an existing array"
   ]
  },
  {
   "cell_type": "code",
   "execution_count": 8,
   "metadata": {},
   "outputs": [
    {
     "data": {
      "text/plain": [
       "array([[1., 1., 1.],\n",
       "       [1., 1., 1.],\n",
       "       [1., 1., 1.]])"
      ]
     },
     "execution_count": 8,
     "metadata": {},
     "output_type": "execute_result"
    }
   ],
   "source": [
    "arr_ones=np.ones([3,3])\n",
    "arr_ones"
   ]
  },
  {
   "cell_type": "code",
   "execution_count": 18,
   "metadata": {},
   "outputs": [
    {
     "data": {
      "text/plain": [
       "array([[0., 0., 0., 0., 0.],\n",
       "       [0., 1., 1., 1., 0.],\n",
       "       [0., 1., 1., 1., 0.],\n",
       "       [0., 1., 1., 1., 0.],\n",
       "       [0., 0., 0., 0., 0.]])"
      ]
     },
     "execution_count": 18,
     "metadata": {},
     "output_type": "execute_result"
    }
   ],
   "source": [
    "np.pad(arr_ones,(1,1),'constant', constant_values=0)"
   ]
  },
  {
   "cell_type": "markdown",
   "metadata": {},
   "source": [
    "# Exercise 3: Convert a list and tuple into arrays"
   ]
  },
  {
   "cell_type": "code",
   "execution_count": 5,
   "metadata": {},
   "outputs": [
    {
     "name": "stdout",
     "output_type": "stream",
     "text": [
      "List to Array: [1 2 3 4 5 6 7 8]\n"
     ]
    }
   ],
   "source": [
    "lst_sample=[1,2,3,4,5,6,7,8]\n",
    "arr1=np.array(lst_sample)\n",
    "print('List to Array:',arr1)"
   ]
  },
  {
   "cell_type": "code",
   "execution_count": 6,
   "metadata": {},
   "outputs": [
    {
     "name": "stdout",
     "output_type": "stream",
     "text": [
      "List to Array using asArray: [1 2 3 4 5 6 7 8]\n"
     ]
    }
   ],
   "source": [
    "arr2=np.asarray(lst_sample)\n",
    "arr2\n",
    "print('List to Array using asArray:',arr2)"
   ]
  },
  {
   "cell_type": "code",
   "execution_count": 11,
   "metadata": {},
   "outputs": [
    {
     "name": "stdout",
     "output_type": "stream",
     "text": [
      "Tuple to Array:\n",
      " [[8 4 6]\n",
      " [1 2 3]]\n"
     ]
    }
   ],
   "source": [
    "tup_sample=(8,4,6,1,2,3)\n",
    "print(\"Tuple to Array:\\n\",np.array(tup_sample).reshape(2,3))"
   ]
  },
  {
   "cell_type": "markdown",
   "metadata": {},
   "source": [
    "# Exercise 4: Convert the values of Centigrade degrees into Fahrenheit degrees"
   ]
  },
  {
   "cell_type": "code",
   "execution_count": 47,
   "metadata": {},
   "outputs": [
    {
     "name": "stdout",
     "output_type": "stream",
     "text": [
      "Fahrenheit to Centigrade: [-17.77777778 -11.11111111   7.33888889   1.11111111  37.72777778]\n"
     ]
    }
   ],
   "source": [
    "Fah_values=np.array([0,12,45.21,34,99.91])\n",
    "Cel_values=(Fah_values-32)*(5/9)\n",
    "print(\"Fahrenheit to Centigrade:\",Cel_values)"
   ]
  },
  {
   "cell_type": "markdown",
   "metadata": {},
   "source": [
    "# Exercise 5: Write a NumPy program to find the number of elements of an array, length of one array element in bytes and total bytes consumed by the elements."
   ]
  },
  {
   "cell_type": "code",
   "execution_count": 32,
   "metadata": {},
   "outputs": [
    {
     "name": "stdout",
     "output_type": "stream",
     "text": [
      "Number of elements in Array: 3\n",
      "1 Element Byte size: 8\n",
      "Total Bytes consumed 24\n"
     ]
    }
   ],
   "source": [
    "array_sample=np.array(range(1,4),dtype='int64')      # or use dtype='float'\n",
    "print(\"Number of elements in Array:\",len(array_sample))     #use array_sample.size() also\n",
    "print(\"1 Element Byte size:\",array_sample.itemsize)\n",
    "print(\"Total Bytes consumed\",array_sample.nbytes)"
   ]
  },
  {
   "cell_type": "markdown",
   "metadata": {},
   "source": [
    "# Exercise 6: Get the unique elements of an array¶"
   ]
  },
  {
   "cell_type": "code",
   "execution_count": 64,
   "metadata": {},
   "outputs": [
    {
     "name": "stdout",
     "output_type": "stream",
     "text": [
      "First Unique Array: [10 20 30]\n"
     ]
    }
   ],
   "source": [
    "org_array_first=np.array([10,10,20,20,30,30])\n",
    "print(\"First Unique Array:\",np.unique(org_array_first))"
   ]
  },
  {
   "cell_type": "code",
   "execution_count": 67,
   "metadata": {},
   "outputs": [
    {
     "name": "stdout",
     "output_type": "stream",
     "text": [
      "Second Unique Array: [1 2 3]\n"
     ]
    }
   ],
   "source": [
    "org_array_second=np.array([[1,1],[2,3]])\n",
    "print(\"Second Unique Array:\",np.unique(org_array_second))"
   ]
  },
  {
   "cell_type": "markdown",
   "metadata": {},
   "source": [
    "# Exercise 7: Change the dimension of an array¶"
   ]
  },
  {
   "cell_type": "code",
   "execution_count": 72,
   "metadata": {},
   "outputs": [
    {
     "name": "stdout",
     "output_type": "stream",
     "text": [
      "Reshaped array:\n",
      " [[1 2 3]\n",
      " [4 5 6]\n",
      " [7 8 9]]\n"
     ]
    }
   ],
   "source": [
    "org_array=np.array(range(1,10))\n",
    "print(\"Reshaped array:\\n\",np.reshape(org_array,(3,3)))"
   ]
  },
  {
   "cell_type": "markdown",
   "metadata": {},
   "source": [
    "# Exercise 8: Create a 1-D array of 30 evenly spaced elements between 2.5. and 6.5, inclusive"
   ]
  },
  {
   "cell_type": "code",
   "execution_count": 78,
   "metadata": {},
   "outputs": [
    {
     "name": "stdout",
     "output_type": "stream",
     "text": [
      "30 evenly Spaced Elements: \n",
      " [2.5        2.63793103 2.77586207 2.9137931  3.05172414 3.18965517\n",
      " 3.32758621 3.46551724 3.60344828 3.74137931 3.87931034 4.01724138\n",
      " 4.15517241 4.29310345 4.43103448 4.56896552 4.70689655 4.84482759\n",
      " 4.98275862 5.12068966 5.25862069 5.39655172 5.53448276 5.67241379\n",
      " 5.81034483 5.94827586 6.0862069  6.22413793 6.36206897 6.5       ]\n"
     ]
    }
   ],
   "source": [
    "array1d=np.linspace(2.5,6.5,30)\n",
    "print(\"30 evenly Spaced Elements: \\n\",array1d)"
   ]
  },
  {
   "cell_type": "markdown",
   "metadata": {},
   "source": [
    "# Exercise 9: Convert 1-D arrays as columns into a 2-D array¶"
   ]
  },
  {
   "cell_type": "code",
   "execution_count": 23,
   "metadata": {},
   "outputs": [
    {
     "name": "stdout",
     "output_type": "stream",
     "text": [
      "1st Array: [10 20 30]\n",
      "2nd Array: [40 50 60]\n"
     ]
    }
   ],
   "source": [
    "arr1=np.array(range(10,31,10))\n",
    "arr2=np.array(range(40,61,10))\n",
    "print(\"1st Array:\",arr1)\n",
    "print(\"2nd Array:\",arr2)"
   ]
  },
  {
   "cell_type": "code",
   "execution_count": 24,
   "metadata": {},
   "outputs": [
    {
     "data": {
      "text/plain": [
       "array([[10, 40],\n",
       "       [20, 50],\n",
       "       [30, 60]])"
      ]
     },
     "execution_count": 24,
     "metadata": {},
     "output_type": "execute_result"
    }
   ],
   "source": [
    "arr_final=np.column_stack((arr1,arr2))\n",
    "arr_final"
   ]
  },
  {
   "cell_type": "markdown",
   "metadata": {},
   "source": [
    "# Exercise 10: Create a 5x5 matrix with row values ranging from 0 to 4¶"
   ]
  },
  {
   "cell_type": "code",
   "execution_count": 19,
   "metadata": {},
   "outputs": [
    {
     "name": "stdout",
     "output_type": "stream",
     "text": [
      "Original Array:\n",
      " [[0 0 0 0 0]\n",
      " [0 0 0 0 0]\n",
      " [0 0 0 0 0]\n",
      " [0 0 0 0 0]\n",
      " [0 0 0 0 0]]\n"
     ]
    }
   ],
   "source": [
    "org_array=np.zeros([5,5],dtype=int)\n",
    "print(\"Original Array:\\n\",org_array)"
   ]
  },
  {
   "cell_type": "code",
   "execution_count": 21,
   "metadata": {},
   "outputs": [
    {
     "name": "stdout",
     "output_type": "stream",
     "text": [
      "Modified Array:\n",
      " [[0 1 2 3 4]\n",
      " [0 1 2 3 4]\n",
      " [0 1 2 3 4]\n",
      " [0 1 2 3 4]\n",
      " [0 1 2 3 4]]\n"
     ]
    }
   ],
   "source": [
    "\n",
    "r=5\n",
    "c=5\n",
    "for i in range(r):\n",
    "    for j in range(c):\n",
    "        org_array[i,j]=j\n",
    "print(\"Modified Array:\\n\",org_array)"
   ]
  },
  {
   "cell_type": "markdown",
   "metadata": {},
   "source": [
    "# Exercise 11: Sum of all the multiples of 3 or 5 below 100¶"
   ]
  },
  {
   "cell_type": "code",
   "execution_count": 112,
   "metadata": {},
   "outputs": [
    {
     "name": "stdout",
     "output_type": "stream",
     "text": [
      "Sum of all Multiples of 3 or 5 below 100: 2318\n"
     ]
    }
   ],
   "source": [
    "org_array=np.array(range(0,100))\n",
    "#org_array = np.arange(1,100)\n",
    "j=0\n",
    "for i in org_array:\n",
    "    if((i%3 ==0) or (i%5==0)):\n",
    "        j=j+i\n",
    "    else:\n",
    "        continue\n",
    "print(\"Sum of all Multiples of 3 or 5 below 100:\",j)"
   ]
  },
  {
   "cell_type": "markdown",
   "metadata": {},
   "source": [
    "# Exercise 12: Combine a one and a two dimensional array together and display their elements¶"
   ]
  },
  {
   "cell_type": "code",
   "execution_count": 14,
   "metadata": {},
   "outputs": [
    {
     "name": "stdout",
     "output_type": "stream",
     "text": [
      "1D array:\n",
      " [0 1 2 3]\n",
      "2D array:\n",
      " [[0 1 2 3]\n",
      " [4 5 6 7]]\n",
      "Output:\n",
      "\n",
      "0 , 0\n",
      "1 , 1\n",
      "2 , 2\n",
      "3 , 3\n",
      "0 , 4\n",
      "1 , 5\n",
      "2 , 6\n",
      "3 , 7\n"
     ]
    }
   ],
   "source": [
    "import numpy as np\n",
    "x=np.arange(4)\n",
    "print(\"1D array:\\n\",x)\n",
    "y=np.arange(8).reshape(2,4)\n",
    "print(\"2D array:\\n\",y)\n",
    "print(\"Output:\\n\")\n",
    "for i,j in np.nditer([x,y]):\n",
    "    print(i,\",\",j)"
   ]
  },
  {
   "cell_type": "markdown",
   "metadata": {},
   "source": [
    "# Exercise 13: Write a NumPy program to replace all elements of NumPy array that are greater than specified array.¶"
   ]
  },
  {
   "cell_type": "code",
   "execution_count": 10,
   "metadata": {},
   "outputs": [
    {
     "data": {
      "text/plain": [
       "array([[0.42436315, 0.48558583, 0.32924763],\n",
       "       [0.7439979 , 0.58220701, 0.38213418],\n",
       "       [0.5097581 , 0.34528799, 0.1563123 ]])"
      ]
     },
     "execution_count": 10,
     "metadata": {},
     "output_type": "execute_result"
    }
   ],
   "source": [
    "org_array=np.array([[0.42436315,0.48558583,0.32924763],[0.7439979,0.58220701,0.38213418],[0.5097581,0.34528799,0.1563123]])\n",
    "org_array"
   ]
  },
  {
   "cell_type": "code",
   "execution_count": 13,
   "metadata": {},
   "outputs": [
    {
     "name": "stdout",
     "output_type": "stream",
     "text": [
      "New Array is:\n",
      " [[0.42436315 0.48558583 0.32924763]\n",
      " [0.5        0.5        0.38213418]\n",
      " [0.5        0.34528799 0.1563123 ]]\n"
     ]
    }
   ],
   "source": [
    "org_array[org_array>0.5] =0.5\n",
    "print(\"New Array is:\\n\",org_array)"
   ]
  },
  {
   "cell_type": "markdown",
   "metadata": {},
   "source": [
    "# Exercise 14: Add a new row to an empty numpy array¶"
   ]
  },
  {
   "cell_type": "code",
   "execution_count": 8,
   "metadata": {},
   "outputs": [
    {
     "name": "stdout",
     "output_type": "stream",
     "text": [
      "Empty Array:\n",
      " []\n"
     ]
    },
    {
     "data": {
      "text/plain": [
       "array([[10., 20., 30.],\n",
       "       [40., 50., 60.]])"
      ]
     },
     "execution_count": 8,
     "metadata": {},
     "output_type": "execute_result"
    }
   ],
   "source": [
    "import numpy as np\n",
    "arr=np.empty([0,3]) # this results in 0 for 3 elements in each row\n",
    "arr_final=np.append(arr,np.array([[10,20,30],[40,50,60]]),axis=0)\n",
    "print(\"Empty Array:\\n\",arr)\n",
    "arr_final"
   ]
  },
  {
   "cell_type": "markdown",
   "metadata": {},
   "source": [
    "# Exercise 15: Write a NumPy program to join a sequence of arrays along a new axis.¶"
   ]
  },
  {
   "cell_type": "code",
   "execution_count": 22,
   "metadata": {},
   "outputs": [
    {
     "name": "stdout",
     "output_type": "stream",
     "text": [
      "1st Array:\n",
      " [1 2 3] \n",
      " 2nd Array:\n",
      " [2 3 4]\n",
      "3rd New Array:\n",
      " [[1 2 3]\n",
      " [2 3 4]]\n"
     ]
    }
   ],
   "source": [
    "arr1=np.array(range(1,4))\n",
    "arr2=np.array(range(2,5))\n",
    "print(\"1st Array:\\n\",arr1,\"\\n 2nd Array:\\n\",arr2)\n",
    "arr3=np.vstack((arr1,arr2))\n",
    "print(\"3rd New Array:\\n\",arr3)"
   ]
  },
  {
   "cell_type": "code",
   "execution_count": 26,
   "metadata": {},
   "outputs": [
    {
     "name": "stdout",
     "output_type": "stream",
     "text": [
      "4th Array:\n",
      " [[1]\n",
      " [2]\n",
      " [3]] \n",
      " 5th Array:\n",
      " [[2]\n",
      " [3]\n",
      " [4]]\n",
      "6th New Array:\n",
      " [[1]\n",
      " [2]\n",
      " [3]\n",
      " [2]\n",
      " [3]\n",
      " [4]]\n"
     ]
    }
   ],
   "source": [
    "arr4=np.array(range(1,4)).reshape(3,1)\n",
    "arr5=np.array(range(2,5)).reshape(3,1)\n",
    "print(\"4th Array:\\n\",arr4,\"\\n 5th Array:\\n\",arr5)\n",
    "arr6=np.vstack((arr4,arr5))\n",
    "print(\"6th New Array:\\n\",arr6)"
   ]
  }
 ],
 "metadata": {
  "kernelspec": {
   "display_name": "Python 3",
   "language": "python",
   "name": "python3"
  },
  "language_info": {
   "codemirror_mode": {
    "name": "ipython",
    "version": 3
   },
   "file_extension": ".py",
   "mimetype": "text/x-python",
   "name": "python",
   "nbconvert_exporter": "python",
   "pygments_lexer": "ipython3",
   "version": "3.7.6"
  }
 },
 "nbformat": 4,
 "nbformat_minor": 4
}
