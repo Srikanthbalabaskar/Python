{
 "cells": [
  {
   "cell_type": "markdown",
   "metadata": {},
   "source": [
    "### The questions for the exercises are given above the cells and the expected output is given below the cell. Please type the code inserting a new cell below the question because if you run the expected output cell the output would vanish! Happy learning! "
   ]
  },
  {
   "cell_type": "markdown",
   "metadata": {},
   "source": [
    "## Exercise Question 1: Given an input list removes the element at index 4 and add it to the 2nd position and also, at the end of the list\n",
    "\n",
    "For example: List = [54, 44, 27, 79, 91, 41]"
   ]
  },
  {
   "cell_type": "code",
   "execution_count": 1,
   "metadata": {},
   "outputs": [
    {
     "name": "stdout",
     "output_type": "stream",
     "text": [
      "Original List  [34, 54, 67, 89, 11, 43, 94]\n",
      "List After removing element at index 4 [34, 54, 67, 89, 43, 94]\n"
     ]
    }
   ],
   "source": [
    "lst=[34, 54, 67, 89, 11, 43, 94]\n",
    "print('Original List ',lst)\n",
    "lst.pop(4)\n",
    "print('List After removing element at index 4' ,lst)"
   ]
  },
  {
   "cell_type": "code",
   "execution_count": 2,
   "metadata": {},
   "outputs": [
    {
     "name": "stdout",
     "output_type": "stream",
     "text": [
      "List after Adding element at index 2  [34, 54, 11, 67, 89, 43, 94]\n"
     ]
    }
   ],
   "source": [
    "lst.insert(2,11)\n",
    "print('List after Adding element at index 2 ',lst)"
   ]
  },
  {
   "cell_type": "code",
   "execution_count": 3,
   "metadata": {},
   "outputs": [
    {
     "name": "stdout",
     "output_type": "stream",
     "text": [
      "List after Adding element at last  [34, 54, 11, 67, 89, 43, 94, 11]\n"
     ]
    }
   ],
   "source": [
    "lst.append(11)\n",
    "print('List after Adding element at last ',lst)"
   ]
  },
  {
   "cell_type": "code",
   "execution_count": null,
   "metadata": {},
   "outputs": [],
   "source": []
  },
  {
   "cell_type": "code",
   "execution_count": 4,
   "metadata": {},
   "outputs": [],
   "source": [
    "lst.extend([0,0])"
   ]
  },
  {
   "cell_type": "code",
   "execution_count": 5,
   "metadata": {},
   "outputs": [
    {
     "data": {
      "text/plain": [
       "[34, 54, 11, 67, 89, 43, 94, 11, 0, 0]"
      ]
     },
     "execution_count": 5,
     "metadata": {},
     "output_type": "execute_result"
    }
   ],
   "source": [
    "lst"
   ]
  },
  {
   "cell_type": "markdown",
   "metadata": {},
   "source": [
    "## Exercise Question 2: Given a two list of equal size create a list of unique elements from both the lists into a seperate list"
   ]
  },
  {
   "cell_type": "code",
   "execution_count": 10,
   "metadata": {},
   "outputs": [],
   "source": [
    "firstlst=[2, 3, 4, 5, 6, 7, 8]\n",
    "secondlst=[4, 9, 16, 25, 36, 49, 64]\n",
    "firstset=set(firstlst)\n",
    "secondset=set(secondlst)"
   ]
  },
  {
   "cell_type": "code",
   "execution_count": 11,
   "metadata": {},
   "outputs": [
    {
     "name": "stdout",
     "output_type": "stream",
     "text": [
      "First Set: {2, 3, 4, 5, 6, 7, 8}\n",
      "Second Set: {64, 4, 36, 9, 16, 49, 25}\n"
     ]
    }
   ],
   "source": [
    "print('First Set:',firstset)\n",
    "print('Second Set:',secondset)"
   ]
  },
  {
   "cell_type": "code",
   "execution_count": 12,
   "metadata": {},
   "outputs": [
    {
     "name": "stdout",
     "output_type": "stream",
     "text": [
      "Third set {64, 2, 3, 4, 5, 6, 7, 8, 36, 9, 16, 49, 25}\n"
     ]
    }
   ],
   "source": [
    "thirdset=firstset.union(secondset)\n",
    "print('Third set',thirdset)"
   ]
  },
  {
   "cell_type": "code",
   "execution_count": 14,
   "metadata": {},
   "outputs": [
    {
     "name": "stdout",
     "output_type": "stream",
     "text": [
      "Final List [64, 2, 3, 4, 5, 6, 7, 8, 36, 9, 16, 49, 25]\n"
     ]
    }
   ],
   "source": [
    "thirdlst=list(thirdset)\n",
    "print('Final List',thirdlst)"
   ]
  },
  {
   "cell_type": "code",
   "execution_count": 16,
   "metadata": {},
   "outputs": [
    {
     "data": {
      "text/plain": [
       "[2, 3, 4, 5, 6, 7, 8, 4, 9, 16, 25, 36, 49, 64]"
      ]
     },
     "execution_count": 16,
     "metadata": {},
     "output_type": "execute_result"
    }
   ],
   "source": [
    "firstlst1=[2, 3, 4, 5, 6, 7, 8]\n",
    "secondlst1=[4, 9, 16, 25, 36, 49, 64]\n",
    "thirdlst1=firstlst1+secondlst1\n",
    "thirdlst1"
   ]
  },
  {
   "cell_type": "code",
   "execution_count": 18,
   "metadata": {},
   "outputs": [
    {
     "data": {
      "text/plain": [
       "{2, 3, 4, 5, 6, 7, 8, 9, 16, 25, 36, 49, 64}"
      ]
     },
     "execution_count": 18,
     "metadata": {},
     "output_type": "execute_result"
    }
   ],
   "source": [
    "oneset=set(thirdlst1)\n",
    "oneset"
   ]
  },
  {
   "cell_type": "code",
   "execution_count": 20,
   "metadata": {},
   "outputs": [
    {
     "name": "stdout",
     "output_type": "stream",
     "text": [
      "Final Output: [64, 2, 3, 4, 5, 6, 7, 8, 9, 36, 16, 49, 25]\n"
     ]
    }
   ],
   "source": [
    "finallist=list(oneset)\n",
    "print('Final Output:',finallist)"
   ]
  },
  {
   "cell_type": "markdown",
   "metadata": {},
   "source": [
    "## Exercise Question 3: Remove duplicate from a list and create a tuple and find the minimum and maximum number (Hint: Try Functions Min() and Max() ) "
   ]
  },
  {
   "cell_type": "code",
   "execution_count": null,
   "metadata": {},
   "outputs": [],
   "source": [
    "Tuple output= (64, 2, 3, 4, 5, 6, 7, 8, 9, 36, 11, 16, 49, 25)\n",
    "Mininum value of the tuple is: 2\n",
    "Maximum value of the tuple is: 64"
   ]
  },
  {
   "cell_type": "code",
   "execution_count": 22,
   "metadata": {},
   "outputs": [
    {
     "name": "stdout",
     "output_type": "stream",
     "text": [
      "First Set {64, 2, 3, 4, 5, 6, 7, 8, 9, 36, 11, 16, 49, 25}\n"
     ]
    }
   ],
   "source": [
    "list1 = [64, 2, 3, 4,11,2,4,6,7, 5, 6, 7, 8, 9, 36, 16, 49, 25]\n",
    "set1=set(list1)\n",
    "print('First Set',set1)"
   ]
  },
  {
   "cell_type": "code",
   "execution_count": 23,
   "metadata": {},
   "outputs": [
    {
     "name": "stdout",
     "output_type": "stream",
     "text": [
      "Tuple Output= (64, 2, 3, 4, 5, 6, 7, 8, 9, 36, 11, 16, 49, 25)\n"
     ]
    }
   ],
   "source": [
    "tuple1=tuple(set1)\n",
    "print('Tuple Output=',tuple1)"
   ]
  },
  {
   "cell_type": "code",
   "execution_count": 24,
   "metadata": {},
   "outputs": [
    {
     "name": "stdout",
     "output_type": "stream",
     "text": [
      "Mininum value of the tuple is: 2\n",
      "Maximum value of the tuple is: 64\n"
     ]
    }
   ],
   "source": [
    "print('Mininum value of the tuple is:',min(tuple1))\n",
    "print('Maximum value of the tuple is:',max(tuple1))"
   ]
  },
  {
   "cell_type": "markdown",
   "metadata": {},
   "source": [
    "## Exercise Question 4: Display the each word in the string Count the number of words in a string and display it (Including the white spaces) "
   ]
  },
  {
   "cell_type": "code",
   "execution_count": 25,
   "metadata": {},
   "outputs": [
    {
     "name": "stdout",
     "output_type": "stream",
     "text": [
      "w h a t ' s   u p ?\n"
     ]
    }
   ],
   "source": [
    "#Printing each words seperately \n",
    "a = \"what's up?\"\n",
    "print(*a)"
   ]
  },
  {
   "cell_type": "code",
   "execution_count": null,
   "metadata": {},
   "outputs": [],
   "source": [
    "Print each word Separately: W e l c o m e   t o   P y t h o n\n",
    "Length of the String: 17"
   ]
  },
  {
   "cell_type": "code",
   "execution_count": 29,
   "metadata": {},
   "outputs": [
    {
     "name": "stdout",
     "output_type": "stream",
     "text": [
      "W e l c o m e   t o   P y t h o n\n"
     ]
    }
   ],
   "source": [
    "Sample_String=\"Welcome to Python\"\n",
    "print(*Sample_String)"
   ]
  },
  {
   "cell_type": "code",
   "execution_count": 30,
   "metadata": {},
   "outputs": [
    {
     "name": "stdout",
     "output_type": "stream",
     "text": [
      "Length of the String: 17\n"
     ]
    }
   ],
   "source": [
    "print('Length of the String:',len(Sample_String))"
   ]
  },
  {
   "cell_type": "markdown",
   "metadata": {},
   "source": [
    "##  Exercise Question 5: Write a Python program to access dictionary keys element by index. i.e. Use indexing methods to print the first key"
   ]
  },
  {
   "cell_type": "code",
   "execution_count": 31,
   "metadata": {},
   "outputs": [],
   "source": [
    "Sample_dict={'physics': 80, 'math': 90, 'chemistry': 86}\n"
   ]
  },
  {
   "cell_type": "code",
   "execution_count": 37,
   "metadata": {},
   "outputs": [
    {
     "name": "stdout",
     "output_type": "stream",
     "text": [
      "Getting the 1st key element: 80\n"
     ]
    }
   ],
   "source": [
    "print('Getting the 1st key element:',Sample_dict['physics'])"
   ]
  },
  {
   "cell_type": "code",
   "execution_count": 42,
   "metadata": {},
   "outputs": [
    {
     "data": {
      "text/plain": [
       "80"
      ]
     },
     "execution_count": 42,
     "metadata": {},
     "output_type": "execute_result"
    }
   ],
   "source": [
    "Sample_dict.get('physics')"
   ]
  },
  {
   "cell_type": "code",
   "execution_count": 47,
   "metadata": {},
   "outputs": [
    {
     "data": {
      "text/plain": [
       "dict_keys(['physics', 'math', 'chemistry'])"
      ]
     },
     "execution_count": 47,
     "metadata": {},
     "output_type": "execute_result"
    }
   ],
   "source": [
    "Sample_dict.keys()"
   ]
  },
  {
   "cell_type": "code",
   "execution_count": 48,
   "metadata": {},
   "outputs": [],
   "source": [
    "Sample_list=list(Sample_dict)"
   ]
  },
  {
   "cell_type": "code",
   "execution_count": 50,
   "metadata": {},
   "outputs": [
    {
     "data": {
      "text/plain": [
       "['physics', 'math', 'chemistry']"
      ]
     },
     "execution_count": 50,
     "metadata": {},
     "output_type": "execute_result"
    }
   ],
   "source": [
    "Sample_list"
   ]
  },
  {
   "cell_type": "code",
   "execution_count": 53,
   "metadata": {},
   "outputs": [
    {
     "name": "stdout",
     "output_type": "stream",
     "text": [
      "Getting the 1st Key: physics\n"
     ]
    }
   ],
   "source": [
    "print('Getting the 1st Key:',Sample_list[0])"
   ]
  },
  {
   "cell_type": "code",
   "execution_count": 54,
   "metadata": {},
   "outputs": [
    {
     "data": {
      "text/plain": [
       "['physics', 'math', 'chemistry']"
      ]
     },
     "execution_count": 54,
     "metadata": {},
     "output_type": "execute_result"
    }
   ],
   "source": [
    "Sample_dict1={'physics': 80, 'math': 90, 'chemistry': 86}\n",
    "l1=list(Sample_dict1)\n",
    "l1"
   ]
  },
  {
   "cell_type": "code",
   "execution_count": null,
   "metadata": {},
   "outputs": [],
   "source": [
    "\n",
    "Getting the 1st key element: 80\n",
    "['physics', 'math', 'chemistry']\n",
    "Getting the 1st key: physics\n",
    "\n",
    "After converting Dictionary to List: ['physics', 'math', 'chemistry']\n",
    "Getting the 1st key: physics\n",
    "    "
   ]
  }
 ],
 "metadata": {
  "kernelspec": {
   "display_name": "Python 3",
   "language": "python",
   "name": "python3"
  },
  "language_info": {
   "codemirror_mode": {
    "name": "ipython",
    "version": 3
   },
   "file_extension": ".py",
   "mimetype": "text/x-python",
   "name": "python",
   "nbconvert_exporter": "python",
   "pygments_lexer": "ipython3",
   "version": "3.7.6"
  }
 },
 "nbformat": 4,
 "nbformat_minor": 4
}
