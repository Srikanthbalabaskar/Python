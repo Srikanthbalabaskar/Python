{
 "cells": [
  {
   "cell_type": "markdown",
   "metadata": {},
   "source": [
    "# Python Exercise1"
   ]
  },
  {
   "cell_type": "markdown",
   "metadata": {},
   "source": [
    "# Exercise Question 1: Given an input list removes the element at index 4 and add it to the 2nd position and also, at the end of the list¶"
   ]
  },
  {
   "cell_type": "code",
   "execution_count": 1,
   "metadata": {},
   "outputs": [],
   "source": [
    "#Original list  [34, 54, 67, 89, 11, 43, 94]\n",
    "#List After removing element at index 4  [34, 54, 67, 89, 43, 94]\n",
    "#List after Adding element at index 2  [34, 54, 11, 67, 89, 43, 94]\n",
    "#List after Adding element at last  [34, 54, 11, 67, 89, 43, 94, 11]"
   ]
  },
  {
   "cell_type": "code",
   "execution_count": 4,
   "metadata": {},
   "outputs": [
    {
     "name": "stdout",
     "output_type": "stream",
     "text": [
      "After removing element at index 4: [34, 54, 67, 89, 43, 94]\n",
      "After adding element at index 2: [34, 54, 11, 67, 89, 43, 94]\n",
      "After adding element at last index: [34, 54, 11, 67, 89, 43, 94, 11]\n"
     ]
    }
   ],
   "source": [
    "Sample_lst=[34, 54, 67, 89, 11, 43, 94]\n",
    "Sample_lst.remove(11)\n",
    "print(\"After removing element at index 4:\",Sample_lst)\n",
    "Sample_lst.insert(2,11)         #dont use Sample_lst[2]=11 as it replaces the 67 by 11\n",
    "print(\"After adding element at index 2:\",Sample_lst)\n",
    "Sample_lst.append(11)\n",
    "print(\"After adding element at last index:\",Sample_lst)"
   ]
  },
  {
   "cell_type": "markdown",
   "metadata": {},
   "source": [
    "# Exercise Question 2: Given a two list of equal size create a list of unique elements from both the lists into a seperate list"
   ]
  },
  {
   "cell_type": "code",
   "execution_count": 5,
   "metadata": {},
   "outputs": [],
   "source": [
    "#First List  [2, 3, 4, 5, 6, 7, 8]\n",
    "#Second List  [4, 9, 16, 25, 36, 49, 64]\n",
    "#[64, 2, 3, 4, 5, 6, 7, 8, 9, 36, 16, 49, 25]"
   ]
  },
  {
   "cell_type": "code",
   "execution_count": 19,
   "metadata": {},
   "outputs": [
    {
     "name": "stdout",
     "output_type": "stream",
     "text": [
      "First Set= {2, 3, 4, 5, 6, 7, 8}\n",
      "Second Set= {64, 4, 36, 9, 16, 49, 25}\n",
      "Third Set= {64, 2, 3, 4, 5, 6, 7, 8, 36, 9, 16, 49, 25}\n",
      "After converting the 3rd Set to List= [64, 2, 3, 4, 5, 6, 7, 8, 36, 9, 16, 49, 25]\n"
     ]
    }
   ],
   "source": [
    "first_list=[2, 3, 4, 5, 6, 7, 8]\n",
    "second_list=[4, 9, 16, 25, 36, 49, 64]\n",
    "\n",
    "first_set=set(first_list)\n",
    "print(\"First Set=\",first_set)\n",
    "second_set=set(second_list)\n",
    "print(\"Second Set=\",second_set)\n",
    "third_set=first_set.union(second_set)\n",
    "print(\"Third Set=\",third_set)\n",
    "third_list=list(third_set)\n",
    "print(\"After converting the 3rd Set to List=\",third_list)"
   ]
  },
  {
   "cell_type": "code",
   "execution_count": 21,
   "metadata": {},
   "outputs": [
    {
     "name": "stdout",
     "output_type": "stream",
     "text": [
      "Third List: [2, 3, 4, 5, 6, 7, 8, 4, 9, 16, 25, 36, 49, 64]\n",
      "After converting the List to Set= {64, 2, 3, 4, 5, 6, 7, 8, 9, 36, 16, 49, 25}\n",
      "Final List having unique elements= [64, 2, 3, 4, 5, 6, 7, 8, 9, 36, 16, 49, 25]\n"
     ]
    }
   ],
   "source": [
    "#Another Solution\n",
    "first_list1=[2, 3, 4, 5, 6, 7, 8]\n",
    "second_list1=[4, 9, 16, 25, 36, 49, 64]\n",
    "\n",
    "third_list1=first_list1+second_list1   # This adds to list\n",
    "print(\"Third List:\",third_list1)\n",
    "\n",
    "set1=set(third_list1)       # Gives unique value of List\n",
    "print(\"After converting the List to Set=\",set1)\n",
    "finalList=list(set1)\n",
    "print(\"Final List having unique elements=\",finalList)"
   ]
  },
  {
   "cell_type": "markdown",
   "metadata": {},
   "source": [
    "# Exercise Question 3: Remove duplicate from a list and create a tuple and find the minimum and maximum number (Hint: Try Functions Min() and Max() )"
   ]
  },
  {
   "cell_type": "code",
   "execution_count": 38,
   "metadata": {},
   "outputs": [
    {
     "name": "stdout",
     "output_type": "stream",
     "text": [
      "Help on built-in function remove:\n",
      "\n",
      "remove(value, /) method of builtins.list instance\n",
      "    Remove first occurrence of value.\n",
      "    \n",
      "    Raises ValueError if the value is not present.\n",
      "\n",
      "After removing duplicates from list: [64, 3, 11, 2, 4, 5, 6, 7, 8, 9, 36, 16, 49, 25]\n",
      "After converting List to Tuple: (64, 3, 11, 2, 4, 5, 6, 7, 8, 9, 36, 16, 49, 25)\n",
      "Mininum value of the tuple is: 2\n",
      "Maximum value of the tuple is: 64\n"
     ]
    }
   ],
   "source": [
    "list1 = [64, 2, 3, 4,11,2,4,6,7, 5, 6, 7, 8, 9, 36, 16, 49, 25]\n",
    "\n",
    "help(list1.remove)\n",
    "list1.remove(2)\n",
    "list1.remove(4)\n",
    "list1.remove(6)\n",
    "list1.remove(7)\n",
    "print(\"After removing duplicates from list:\",list1)\n",
    "\n",
    "sample_Tuple1=tuple(list1)\n",
    "print(\"After converting List to Tuple:\",sample_Tuple1)\n",
    "\n",
    "print(\"Mininum value of the tuple is:\",min(sample_Tuple1))\n",
    "\n",
    "print(\"Maximum value of the tuple is:\",max(sample_Tuple1))\n"
   ]
  },
  {
   "cell_type": "code",
   "execution_count": 44,
   "metadata": {},
   "outputs": [
    {
     "name": "stdout",
     "output_type": "stream",
     "text": [
      "Tuple output= (64, 2, 3, 4, 5, 6, 7, 8, 9, 36, 11, 16, 49, 25)\n",
      "Mininum value of the tuple is: 2\n",
      "Maximum value of the tuple is: 64\n"
     ]
    }
   ],
   "source": [
    "#Another solution\n",
    "list2 = [64, 2, 3, 4,11,2,4,6,7, 5, 6, 7, 8, 9, 36, 16, 49, 25]\n",
    "set2=set(list2) # removes duplicates\n",
    "tuple2=tuple(set2)\n",
    "print(\"Tuple output=\",tuple2)\n",
    "\n",
    "print(\"Mininum value of the tuple is:\",min(tuple2))\n",
    "\n",
    "print(\"Maximum value of the tuple is:\",max(tuple2))"
   ]
  },
  {
   "cell_type": "markdown",
   "metadata": {},
   "source": [
    "# Exercise Question 4: Display the each word in the string Count the number of words in a string and display it (Including the white spaces)"
   ]
  },
  {
   "cell_type": "code",
   "execution_count": 45,
   "metadata": {},
   "outputs": [
    {
     "name": "stdout",
     "output_type": "stream",
     "text": [
      "w h a t ' s   u p ?\n"
     ]
    }
   ],
   "source": [
    "#Printing each words seperately \n",
    "a = \"what's up?\"\n",
    "print(*a)"
   ]
  },
  {
   "cell_type": "code",
   "execution_count": 48,
   "metadata": {},
   "outputs": [
    {
     "name": "stdout",
     "output_type": "stream",
     "text": [
      "Print each word Separately: W e l c o m e   t o   P y t h o n\n",
      "Length of the String: 17\n"
     ]
    }
   ],
   "source": [
    "Sample_String=\"Welcome to Python\"\n",
    "print(\"Print each word Separately:\",*Sample_String)\n",
    "print(\"Length of the String:\",len(Sample_String))"
   ]
  },
  {
   "cell_type": "markdown",
   "metadata": {},
   "source": [
    "# Exercise Question 5: Write a Python program to access dictionary keys element by index. i.e. Use indexing methods to print the first key"
   ]
  },
  {
   "cell_type": "code",
   "execution_count": 54,
   "metadata": {},
   "outputs": [
    {
     "name": "stdout",
     "output_type": "stream",
     "text": [
      "Getting the 1st key element: 80\n",
      "['physics', 'math', 'chemistry']\n",
      "Getting the 1st key: physics\n"
     ]
    }
   ],
   "source": [
    "Sample_dict={'physics': 80, 'math': 90, 'chemistry': 86}\n",
    "\n",
    "print(\"Getting the 1st key element:\",Sample_dict['physics'])\n",
    "\n",
    "Sample_list=list(Sample_dict)\n",
    "print(Sample_list)\n",
    "print(\"Getting the 1st key:\",Sample_list[0])"
   ]
  },
  {
   "cell_type": "code",
   "execution_count": 61,
   "metadata": {},
   "outputs": [
    {
     "name": "stdout",
     "output_type": "stream",
     "text": [
      "After converting Dictionary to List: ['physics', 'math', 'chemistry']\n",
      "Getting the 1st key: physics\n"
     ]
    }
   ],
   "source": [
    "#Another Solution\n",
    "Sample_dict={'physics': 80, 'math': 90, 'chemistry': 86}\n",
    "\n",
    "sample_list=list(Sample_dict.keys())\n",
    "print(\"After converting Dictionary to List:\",sample_list)\n",
    "print(\"Getting the 1st key:\",sample_list[0])"
   ]
  },
  {
   "cell_type": "code",
   "execution_count": null,
   "metadata": {},
   "outputs": [],
   "source": []
  }
 ],
 "metadata": {
  "kernelspec": {
   "display_name": "Python 3",
   "language": "python",
   "name": "python3"
  },
  "language_info": {
   "codemirror_mode": {
    "name": "ipython",
    "version": 3
   },
   "file_extension": ".py",
   "mimetype": "text/x-python",
   "name": "python",
   "nbconvert_exporter": "python",
   "pygments_lexer": "ipython3",
   "version": "3.7.6"
  }
 },
 "nbformat": 4,
 "nbformat_minor": 4
}
