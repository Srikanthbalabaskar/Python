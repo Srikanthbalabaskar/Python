{
 "cells": [
  {
   "cell_type": "markdown",
   "metadata": {},
   "source": [
    "## Basics of Python"
   ]
  },
  {
   "cell_type": "code",
   "execution_count": null,
   "metadata": {},
   "outputs": [],
   "source": [
    "#Comments\n",
    "There are 2 types of comments in Python \n",
    "Single Line comment which is denoted by  eg: # this is a Single Line Comment\n",
    "A Multiline comman which is denoted by 2 triple quotes(''' ... ''') eg: ''' This is a \n",
    "multi Line Command'''"
   ]
  },
  {
   "cell_type": "code",
   "execution_count": 3,
   "metadata": {},
   "outputs": [
    {
     "data": {
      "text/plain": [
       "'C:\\\\Users\\\\srika\\\\Documents\\\\Inceptez_Python'"
      ]
     },
     "execution_count": 3,
     "metadata": {},
     "output_type": "execute_result"
    }
   ],
   "source": [
    "#pwd gives the current working folder in Jupyter Notebook\n",
    "pwd"
   ]
  },
  {
   "cell_type": "code",
   "execution_count": 8,
   "metadata": {},
   "outputs": [
    {
     "name": "stdout",
     "output_type": "stream",
     "text": [
      " Volume in drive C has no label.\n",
      " Volume Serial Number is 02EE-5CA9\n",
      "\n",
      " Directory of C:\\Users\\srika\\Documents\\Inceptez_Python\n",
      "\n",
      "03/30/2020  06:17 AM    <DIR>          .\n",
      "03/30/2020  06:17 AM    <DIR>          ..\n",
      "03/30/2020  06:03 AM    <DIR>          .ipynb_checkpoints\n",
      "03/30/2020  06:01 AM             2,923 PyBasics.ipynb\n",
      "03/30/2020  06:17 AM             2,324 PythonBasics1.ipynb\n",
      "               2 File(s)          5,247 bytes\n",
      "               3 Dir(s)  97,828,392,960 bytes free\n"
     ]
    }
   ],
   "source": [
    "#ls lists all the other folders/files available in our current folder\n",
    "ls"
   ]
  },
  {
   "cell_type": "code",
   "execution_count": 11,
   "metadata": {},
   "outputs": [
    {
     "name": "stdout",
     "output_type": "stream",
     "text": [
      "hello welcome\n",
      "hello how is it going\n"
     ]
    }
   ],
   "source": [
    "#print is the keyword used to print in python\n",
    "print('hello welcome')\n",
    "print(\"hello how is it going\")\n",
    "# Whatever we needed to print can be within Single quotes('') or double quotes(\"\")"
   ]
  },
  {
   "cell_type": "markdown",
   "metadata": {},
   "source": [
    "# Keywords,Variables and Identifiers"
   ]
  },
  {
   "cell_type": "code",
   "execution_count": 2,
   "metadata": {},
   "outputs": [
    {
     "data": {
      "text/plain": [
       "'Keywords are special/reserve words in python which has special purpose. We cannot use those as \\nVariable Names or function names'"
      ]
     },
     "execution_count": 2,
     "metadata": {},
     "output_type": "execute_result"
    }
   ],
   "source": [
    "#Keywords are special/reserve words in python which has special purpose. We cannot use those as \n",
    "#Variable Names or function names. Eg: True, False and those are highlighted in GREEN color as shown below'''"
   ]
  },
  {
   "cell_type": "code",
   "execution_count": 3,
   "metadata": {},
   "outputs": [
    {
     "data": {
      "text/plain": [
       "False"
      ]
     },
     "execution_count": 3,
     "metadata": {},
     "output_type": "execute_result"
    }
   ],
   "source": [
    "False"
   ]
  },
  {
   "cell_type": "code",
   "execution_count": 5,
   "metadata": {},
   "outputs": [
    {
     "data": {
      "text/plain": [
       "['False',\n",
       " 'None',\n",
       " 'True',\n",
       " 'and',\n",
       " 'as',\n",
       " 'assert',\n",
       " 'async',\n",
       " 'await',\n",
       " 'break',\n",
       " 'class',\n",
       " 'continue',\n",
       " 'def',\n",
       " 'del',\n",
       " 'elif',\n",
       " 'else',\n",
       " 'except',\n",
       " 'finally',\n",
       " 'for',\n",
       " 'from',\n",
       " 'global',\n",
       " 'if',\n",
       " 'import',\n",
       " 'in',\n",
       " 'is',\n",
       " 'lambda',\n",
       " 'nonlocal',\n",
       " 'not',\n",
       " 'or',\n",
       " 'pass',\n",
       " 'raise',\n",
       " 'return',\n",
       " 'try',\n",
       " 'while',\n",
       " 'with',\n",
       " 'yield']"
      ]
     },
     "execution_count": 5,
     "metadata": {},
     "output_type": "execute_result"
    }
   ],
   "source": [
    "#keyword.kwlist - list all keywords available in Python\n",
    "import keyword\n",
    "keyword.kwlist"
   ]
  },
  {
   "cell_type": "code",
   "execution_count": 6,
   "metadata": {},
   "outputs": [],
   "source": [
    "#Identifiers- Are User defined names to identify a variable, Functions , classes or module\n",
    "#Rules of Identifiers\n",
    "''' Cannot be a Keyword\n",
    "    cannot start with numbers\n",
    "    No space inbetween\n",
    "    No special character like !,@,#,$,% (as these have some special purpose in Python already, eg:# for comment)\n",
    "    starts with a letter A to Z or a to z or an underscore (_)\n",
    "    it is Case Sensistive  '''"
   ]
  },
  {
   "cell_type": "code",
   "execution_count": 7,
   "metadata": {},
   "outputs": [],
   "source": [
    "#Variables- Temporary Values that are suspectable to change. Also it can said as memory holders or entity whose \n",
    "#value will change during the program execution"
   ]
  },
  {
   "cell_type": "code",
   "execution_count": 4,
   "metadata": {},
   "outputs": [
    {
     "name": "stdout",
     "output_type": "stream",
     "text": [
      "100\n"
     ]
    },
    {
     "data": {
      "text/plain": [
       "' File \"<ipython-input-3-95560e349f3c>\", line 1\\n    True=100\\n            ^\\nSyntaxError: can\\'t assign to keyword '"
      ]
     },
     "execution_count": 4,
     "metadata": {},
     "output_type": "execute_result"
    }
   ],
   "source": [
    "# In the below example, 'a' is a variable\n",
    "a=100\n",
    "# we can print the same variable\n",
    "print(a)\n",
    "# we cannot assign value to a keyword for eg:True=100\n",
    "''' File \"<ipython-input-3-95560e349f3c>\", line 1\n",
    "    True=100\n",
    "            ^\n",
    "SyntaxError: can't assign to keyword '''\n",
    "# Other  examples which throw similar error are \n",
    "   #   20book=100\n",
    "   #   a b=1\n",
    "   #  !number=45\n"
   ]
  },
  {
   "cell_type": "code",
   "execution_count": 14,
   "metadata": {},
   "outputs": [
    {
     "name": "stdout",
     "output_type": "stream",
     "text": [
      "20 25 chennai\n"
     ]
    }
   ],
   "source": [
    "#Assignment - it means assigning values to variables\n",
    "# Here we are assigning values of 10 to z\n",
    "z=10\n",
    "# We can also do multiple assignments in a Single line\n",
    "s,t,y = 20,25,'chennai'\n",
    "print(s,t,y)"
   ]
  },
  {
   "cell_type": "code",
   "execution_count": 15,
   "metadata": {},
   "outputs": [
    {
     "data": {
      "text/plain": [
       "True"
      ]
     },
     "execution_count": 15,
     "metadata": {},
     "output_type": "execute_result"
    }
   ],
   "source": [
    "#iskeword - this tells whether the inputed word is a keyword or not\n",
    "import keyword\n",
    "keyword.iskeyword('break')\n",
    "#if True is returned then inputed word is a keyword"
   ]
  },
  {
   "cell_type": "code",
   "execution_count": 16,
   "metadata": {},
   "outputs": [
    {
     "data": {
      "text/plain": [
       "False"
      ]
     },
     "execution_count": 16,
     "metadata": {},
     "output_type": "execute_result"
    }
   ],
   "source": [
    "keyword.iskeyword('b')\n",
    "# here False is returned so 'b' is not a keyword"
   ]
  },
  {
   "cell_type": "markdown",
   "metadata": {},
   "source": [
    "# Data Types"
   ]
  },
  {
   "cell_type": "code",
   "execution_count": 17,
   "metadata": {},
   "outputs": [],
   "source": [
    "#Data types tells to which type a data belongs to. Some Data Types in Python are\n",
    "    #int\n",
    "    #float\n",
    "    #string\n",
    "    #boolean\n",
    "    #complex\n",
    "    #list\n",
    "    #tuples\n",
    "    #set\n",
    "    #dict"
   ]
  },
  {
   "cell_type": "markdown",
   "metadata": {},
   "source": [
    "# Integers"
   ]
  },
  {
   "cell_type": "code",
   "execution_count": 18,
   "metadata": {},
   "outputs": [
    {
     "data": {
      "text/plain": [
       "int"
      ]
     },
     "execution_count": 18,
     "metadata": {},
     "output_type": "execute_result"
    }
   ],
   "source": [
    "# Represented as int, it takes whole numbers\n",
    "balls =6\n",
    "type(balls)\n",
    "#type keywords returns what data type a variable is, here balls is of type int"
   ]
  },
  {
   "cell_type": "markdown",
   "metadata": {},
   "source": [
    "# Decimals"
   ]
  },
  {
   "cell_type": "code",
   "execution_count": 19,
   "metadata": {},
   "outputs": [
    {
     "data": {
      "text/plain": [
       "float"
      ]
     },
     "execution_count": 19,
     "metadata": {},
     "output_type": "execute_result"
    }
   ],
   "source": [
    "# Represented as float, it takes decimal or float values\n",
    "weight =50.6\n",
    "type(weight) # returns weight of type float"
   ]
  },
  {
   "cell_type": "markdown",
   "metadata": {},
   "source": [
    "# String"
   ]
  },
  {
   "cell_type": "code",
   "execution_count": 21,
   "metadata": {},
   "outputs": [
    {
     "data": {
      "text/plain": [
       "str"
      ]
     },
     "execution_count": 21,
     "metadata": {},
     "output_type": "execute_result"
    }
   ],
   "source": [
    "#String are represented as str and takes alphanumric values. It is declared by either single or double quotes\n",
    "country='India'\n",
    "my_name=\"hello\"\n",
    "type(country)\n",
    "type(my_name)"
   ]
  },
  {
   "cell_type": "markdown",
   "metadata": {},
   "source": [
    "# Boolean"
   ]
  },
  {
   "cell_type": "code",
   "execution_count": 25,
   "metadata": {},
   "outputs": [
    {
     "name": "stdout",
     "output_type": "stream",
     "text": [
      "<class 'bool'>\n",
      "<class 'str'>\n",
      "<class 'int'>\n"
     ]
    }
   ],
   "source": [
    "# Boolean are represented as bool and it returns either True or False\n",
    "test=True\n",
    "b=\"False\"\n",
    "c=100\n",
    "print(type(test))\n",
    "print(type(b))\n",
    "print(type(c))"
   ]
  },
  {
   "cell_type": "markdown",
   "metadata": {},
   "source": [
    "# Complex"
   ]
  },
  {
   "cell_type": "code",
   "execution_count": 26,
   "metadata": {},
   "outputs": [
    {
     "data": {
      "text/plain": [
       "complex"
      ]
     },
     "execution_count": 26,
     "metadata": {},
     "output_type": "execute_result"
    }
   ],
   "source": [
    "# Complex number are represented in complex data types\n",
    "c=6+2j\n",
    "type(c)"
   ]
  },
  {
   "cell_type": "markdown",
   "metadata": {},
   "source": [
    "# List"
   ]
  },
  {
   "cell_type": "code",
   "execution_count": null,
   "metadata": {},
   "outputs": [],
   "source": [
    "#List is data structure in Python which has the following properpties\n",
    "      #Allows hetrogeneous(different types) of elements\n",
    "      #represented in square brackets []\n",
    "      #Index always starts with 0\n",
    "      #Elements can be accessed by using Index\n",
    "      #Can contain Zero elements i.e Empty List\n",
    "      #it is mutable(elements can be changed)"
   ]
  },
  {
   "cell_type": "code",
   "execution_count": 34,
   "metadata": {},
   "outputs": [
    {
     "name": "stdout",
     "output_type": "stream",
     "text": [
      "20\n",
      "(6-3j)\n",
      "[20, True, 'Hello', (6-3j)]\n"
     ]
    }
   ],
   "source": [
    "# Examples of List\n",
    "example_list= [20,25,'Hello',6-3j]\n",
    "# this contains different data types such as int, String, complex\n",
    "  \n",
    "# Access values by index\n",
    "first_value=example_list[0]\n",
    "print(first_value)\n",
    "\n",
    "last_value=example_list[3]\n",
    "print(last_value)\n",
    "\n",
    "# Changing Values in list\n",
    "example_list[1] = True\n",
    "print(example_list)\n",
    "  "
   ]
  },
  {
   "cell_type": "code",
   "execution_count": 35,
   "metadata": {},
   "outputs": [
    {
     "data": {
      "text/plain": [
       "['__add__',\n",
       " '__class__',\n",
       " '__contains__',\n",
       " '__delattr__',\n",
       " '__delitem__',\n",
       " '__dir__',\n",
       " '__doc__',\n",
       " '__eq__',\n",
       " '__format__',\n",
       " '__ge__',\n",
       " '__getattribute__',\n",
       " '__getitem__',\n",
       " '__gt__',\n",
       " '__hash__',\n",
       " '__iadd__',\n",
       " '__imul__',\n",
       " '__init__',\n",
       " '__init_subclass__',\n",
       " '__iter__',\n",
       " '__le__',\n",
       " '__len__',\n",
       " '__lt__',\n",
       " '__mul__',\n",
       " '__ne__',\n",
       " '__new__',\n",
       " '__reduce__',\n",
       " '__reduce_ex__',\n",
       " '__repr__',\n",
       " '__reversed__',\n",
       " '__rmul__',\n",
       " '__setattr__',\n",
       " '__setitem__',\n",
       " '__sizeof__',\n",
       " '__str__',\n",
       " '__subclasshook__',\n",
       " 'append',\n",
       " 'clear',\n",
       " 'copy',\n",
       " 'count',\n",
       " 'extend',\n",
       " 'index',\n",
       " 'insert',\n",
       " 'pop',\n",
       " 'remove',\n",
       " 'reverse',\n",
       " 'sort']"
      ]
     },
     "execution_count": 35,
     "metadata": {},
     "output_type": "execute_result"
    }
   ],
   "source": [
    "#type the list name with dot(.) and hit tab to see different actions that can be performed using List.\n",
    "#  Another way of getting the different actions is using 'dir' command\n",
    "dir(example_list)"
   ]
  },
  {
   "cell_type": "code",
   "execution_count": 36,
   "metadata": {},
   "outputs": [
    {
     "name": "stdout",
     "output_type": "stream",
     "text": [
      "Help on built-in function sort:\n",
      "\n",
      "sort(*, key=None, reverse=False) method of builtins.list instance\n",
      "    Stable sort *IN PLACE*.\n",
      "\n"
     ]
    }
   ],
   "source": [
    "#help command - it tells what a particular command can do\n",
    "help(example_list.sort)\n",
    "''' Also Shift+Tab helps to bring the docString of a Particular funcation i.e it tells what a \n",
    "particular function is capable of '''"
   ]
  },
  {
   "cell_type": "markdown",
   "metadata": {},
   "source": [
    "# List Operations"
   ]
  },
  {
   "cell_type": "code",
   "execution_count": 44,
   "metadata": {},
   "outputs": [
    {
     "name": "stdout",
     "output_type": "stream",
     "text": [
      "[1, 1, 12, 16, 18, 55, 67, 100]\n",
      "[100, 67, 55, 18, 16, 12, 1, 1]\n"
     ]
    }
   ],
   "source": [
    "#Lets see few List operations that can be performed\n",
    "\n",
    "test_list=[16,1,100,67,12,18,55,1]\n",
    "#Sort - sorts in ascending order, by default the parameter is reverse=False\n",
    "test_list.sort()\n",
    "print(test_list)\n",
    "# the original value gets changed even without assigning to test_list\n",
    "\n",
    "test_list.sort(reverse=True)\n",
    "print(test_list)"
   ]
  },
  {
   "cell_type": "code",
   "execution_count": 45,
   "metadata": {},
   "outputs": [
    {
     "name": "stdout",
     "output_type": "stream",
     "text": [
      "2\n"
     ]
    }
   ],
   "source": [
    "#count - returns the count of a particular value\n",
    "print(test_list.count(1))\n"
   ]
  },
  {
   "cell_type": "code",
   "execution_count": 47,
   "metadata": {},
   "outputs": [
    {
     "name": "stdout",
     "output_type": "stream",
     "text": [
      "[100, 67, 55, 18, 16, 12, 1, 1, 0, 50, 0, 50]\n",
      "[100, 67, 55, 18, 16, 12, 1, 1, 0, 50, 0, 50, 75]\n"
     ]
    }
   ],
   "source": [
    "#extend - adds the particular Values we are giving to the end of the list\n",
    "test_list.extend([0,50])\n",
    "print(test_list)\n",
    "# we can extend 1 value also\n",
    "test_list.extend([75])\n",
    "print(test_list)"
   ]
  },
  {
   "cell_type": "code",
   "execution_count": 49,
   "metadata": {},
   "outputs": [
    {
     "name": "stdout",
     "output_type": "stream",
     "text": [
      "[100, 67, 55, 18, 16, 12, 1, 1, 0, 50, 0, 50, 75, 1000, 1000]\n"
     ]
    }
   ],
   "source": [
    "#append - adds just the one value that we are inputting to the end of the list\n",
    "test_list.append(1000)\n",
    "print(test_list)\n"
   ]
  },
  {
   "cell_type": "code",
   "execution_count": 55,
   "metadata": {},
   "outputs": [
    {
     "name": "stdout",
     "output_type": "stream",
     "text": [
      "[100, 0, 67, 55, 18, 16, 12, 1, 1, 0, 50, 0, 50, 75, 1000, 1000]\n"
     ]
    }
   ],
   "source": [
    "#insert - performs inserts of the metioned value before the mentioned index\n",
    "#Lets add Value of 0 to the 1st poistion of the list\n",
    "test_list.insert(1,0)\n",
    "print(test_list)"
   ]
  },
  {
   "cell_type": "code",
   "execution_count": 58,
   "metadata": {},
   "outputs": [
    {
     "data": {
      "text/plain": [
       "1000"
      ]
     },
     "execution_count": 58,
     "metadata": {},
     "output_type": "execute_result"
    }
   ],
   "source": [
    "# pop - this removes values at the last\n",
    "# Lets remove the last 1000 from our list, it returns the element that was removed\n",
    "test_list.pop()"
   ]
  },
  {
   "cell_type": "code",
   "execution_count": 63,
   "metadata": {},
   "outputs": [
    {
     "name": "stdout",
     "output_type": "stream",
     "text": [
      "[100, 0, 67, 55, 18, 16, 12, 0, 50, 0, 50, 75, 1000]\n"
     ]
    }
   ],
   "source": [
    "#remove -this list function removes any mentioned value from the list\n",
    "  # if there are two occurences of the same value then the 1st value would be removed\n",
    "# Lets remove 1 which occures after 12 from the list\n",
    "test_list.remove(1)\n",
    "print(test_list)"
   ]
  },
  {
   "cell_type": "markdown",
   "metadata": {},
   "source": [
    "# List Slicing"
   ]
  },
  {
   "cell_type": "code",
   "execution_count": 66,
   "metadata": {},
   "outputs": [
    {
     "data": {
      "text/plain": [
       "[100, 0, 67, 55]"
      ]
     },
     "execution_count": 66,
     "metadata": {},
     "output_type": "execute_result"
    }
   ],
   "source": [
    "#List Slicing cuts the lists and forms new Lists\n",
    "# Currently our list is [100, 0, 67, 55, 18, 16, 12, 0, 50, 0, 50, 75, 1000]\n",
    "# lets take the 1st 4 values alone\n",
    "\n",
    "test_list[0:4]\n",
    "#where 0 is the starting range, the ending range is 4 which means the 5th element(element in 4th index will not be included\n",
    "\n"
   ]
  },
  {
   "cell_type": "code",
   "execution_count": 67,
   "metadata": {},
   "outputs": [
    {
     "data": {
      "text/plain": [
       "[12, 0, 50, 0, 50, 75, 1000]"
      ]
     },
     "execution_count": 67,
     "metadata": {},
     "output_type": "execute_result"
    }
   ],
   "source": [
    "# We can leave the end range as empty\n",
    "\n",
    "test_list[6:]\n",
    "# this returns values from 6th index to end of the List"
   ]
  },
  {
   "cell_type": "code",
   "execution_count": 69,
   "metadata": {},
   "outputs": [
    {
     "data": {
      "text/plain": [
       "[100, 0, 67]"
      ]
     },
     "execution_count": 69,
     "metadata": {},
     "output_type": "execute_result"
    }
   ],
   "source": [
    "# We can also leave the start range as empty\n",
    "\n",
    "test_list[:3]\n",
    "# this returns values from 0th index to 2nd index"
   ]
  },
  {
   "cell_type": "code",
   "execution_count": 74,
   "metadata": {},
   "outputs": [
    {
     "name": "stdout",
     "output_type": "stream",
     "text": [
      "[4, 5]\n",
      "['z', ['a', 'b']]\n",
      "3\n",
      "['a', 'b']\n",
      "a\n"
     ]
    }
   ],
   "source": [
    "#Slicing of Complex list\n",
    "complex_list=[1,[2,3],[4,5],['z',['a','b']]]\n",
    "\n",
    "print(complex_list[2])       # returns 2nd index values\n",
    "print(complex_list[3])       # returns 3rd index values\n",
    "print(complex_list[1][1])    # returns 1st position value in the 1st index value \n",
    "print(complex_list[3][1])    # returns 1st position value in the 3rd index value \n",
    "print(complex_list[3][1][0]) # [3][1] returns ['z',['a','b']] and [0] returns 1st value i.e 'a'"
   ]
  },
  {
   "cell_type": "markdown",
   "metadata": {},
   "source": [
    "# Tuple"
   ]
  },
  {
   "cell_type": "code",
   "execution_count": null,
   "metadata": {},
   "outputs": [],
   "source": [
    "#Tuples are immutable hetrogenous data types and are represented with round brackets()\n",
    "# Note that the difference between List and Tuple are\n",
    "    # List - Mutable, Tuple - immutable\n",
    "    # List- Represented as Square bracket[], Tuple - represented as round bracket()\n",
    "    # List- accessed by using index, Tuple - cannot be access by index\n"
   ]
  },
  {
   "cell_type": "code",
   "execution_count": 84,
   "metadata": {},
   "outputs": [
    {
     "name": "stdout",
     "output_type": "stream",
     "text": [
      "(1, 6.5, 'abcd', (12+6j), 12, 1)\n",
      "<class 'tuple'>\n",
      "2\n",
      "1\n",
      "0\n"
     ]
    }
   ],
   "source": [
    "test_tuple=(1,6.5,'abcd',12+6j,12,1)\n",
    "print(test_tuple) # prints the entire tuple\n",
    "\n",
    "#type\n",
    "print(type(test_tuple))  # prints tuple as type\n",
    "#Count- returns the no.of occurences of 1 from the above tuple\n",
    "print(test_tuple.count(1))  \n",
    "#index- returns the index of a particulr Value\n",
    "print(test_tuple.index(6.5))\n",
    " # if there are 2 occurences of same value multiple times, it returns the 1st occurence\n",
    "print(test_tuple.index(1)) # in this case 1 is occuring in 0th & 5th index & index() returns 0 since it is the 1st ocurence"
   ]
  },
  {
   "cell_type": "code",
   "execution_count": 86,
   "metadata": {},
   "outputs": [
    {
     "ename": "TypeError",
     "evalue": "'tuple' object does not support item assignment",
     "output_type": "error",
     "traceback": [
      "\u001b[1;31m---------------------------------------------------------------------------\u001b[0m",
      "\u001b[1;31mTypeError\u001b[0m                                 Traceback (most recent call last)",
      "\u001b[1;32m<ipython-input-86-bd66ab2e7250>\u001b[0m in \u001b[0;36m<module>\u001b[1;34m\u001b[0m\n\u001b[1;32m----> 1\u001b[1;33m \u001b[0mtest_tuple\u001b[0m\u001b[1;33m[\u001b[0m\u001b[1;36m0\u001b[0m\u001b[1;33m]\u001b[0m\u001b[1;33m=\u001b[0m\u001b[1;34m\"Change tuple value\"\u001b[0m\u001b[1;33m\u001b[0m\u001b[1;33m\u001b[0m\u001b[0m\n\u001b[0m",
      "\u001b[1;31mTypeError\u001b[0m: 'tuple' object does not support item assignment"
     ]
    }
   ],
   "source": [
    "test_tuple[0]=\"Change tuple value\"\n",
    "# we are trying to assign the above value to 0th index but since tuple is immutable, it throws a 'Type error'"
   ]
  },
  {
   "cell_type": "code",
   "execution_count": 89,
   "metadata": {},
   "outputs": [
    {
     "ename": "SyntaxError",
     "evalue": "can't assign to function call (<ipython-input-89-bff7d3d82313>, line 3)",
     "output_type": "error",
     "traceback": [
      "\u001b[1;36m  File \u001b[1;32m\"<ipython-input-89-bff7d3d82313>\"\u001b[1;36m, line \u001b[1;32m3\u001b[0m\n\u001b[1;33m    empty_tuple(0)=100\u001b[0m\n\u001b[1;37m                      ^\u001b[0m\n\u001b[1;31mSyntaxError\u001b[0m\u001b[1;31m:\u001b[0m can't assign to function call\n"
     ]
    }
   ],
   "source": [
    "# We can create empty tuple but cannot assign Values to it\n",
    "empty_tuple=()\n",
    "empty_tuple(0)=100\n",
    "print(empty_tuple)"
   ]
  },
  {
   "cell_type": "code",
   "execution_count": 93,
   "metadata": {},
   "outputs": [
    {
     "name": "stdout",
     "output_type": "stream",
     "text": [
      "()\n",
      "('new', 'values', 'assigned')\n"
     ]
    }
   ],
   "source": [
    "#redeclaring works in a tuple\n",
    "empty_tuple_redeclare=()\n",
    "print(empty_tuple_redeclare)\n",
    "empty_tuple_redeclare=(\"new\",\"values\",\"assigned\")\n",
    "print(empty_tuple_redeclare)"
   ]
  },
  {
   "cell_type": "code",
   "execution_count": 91,
   "metadata": {},
   "outputs": [
    {
     "name": "stdout",
     "output_type": "stream",
     "text": [
      "(1, 2, 3)\n"
     ]
    },
    {
     "ename": "NameError",
     "evalue": "name 'del_tuple' is not defined",
     "output_type": "error",
     "traceback": [
      "\u001b[1;31m---------------------------------------------------------------------------\u001b[0m",
      "\u001b[1;31mNameError\u001b[0m                                 Traceback (most recent call last)",
      "\u001b[1;32m<ipython-input-91-8e15f36a3435>\u001b[0m in \u001b[0;36m<module>\u001b[1;34m\u001b[0m\n\u001b[0;32m      3\u001b[0m \u001b[0mprint\u001b[0m\u001b[1;33m(\u001b[0m\u001b[0mdel_tuple\u001b[0m\u001b[1;33m)\u001b[0m\u001b[1;33m\u001b[0m\u001b[1;33m\u001b[0m\u001b[0m\n\u001b[0;32m      4\u001b[0m \u001b[1;32mdel\u001b[0m\u001b[1;33m(\u001b[0m\u001b[0mdel_tuple\u001b[0m\u001b[1;33m)\u001b[0m\u001b[1;33m\u001b[0m\u001b[1;33m\u001b[0m\u001b[0m\n\u001b[1;32m----> 5\u001b[1;33m \u001b[0mprint\u001b[0m\u001b[1;33m(\u001b[0m\u001b[0mdel_tuple\u001b[0m\u001b[1;33m)\u001b[0m\u001b[1;33m\u001b[0m\u001b[1;33m\u001b[0m\u001b[0m\n\u001b[0m",
      "\u001b[1;31mNameError\u001b[0m: name 'del_tuple' is not defined"
     ]
    }
   ],
   "source": [
    "# deleting a tuple, 'del' function is used\n",
    "del_tuple=(1,2,3)\n",
    "print(del_tuple)\n",
    "del(del_tuple)\n",
    "print(del_tuple) # name error would occur that 'del_tuple' is undefined"
   ]
  },
  {
   "cell_type": "code",
   "execution_count": null,
   "metadata": {},
   "outputs": [],
   "source": [
    "# Where to use Tuple\n",
    " # tuple can be used where we need to preserve the master data \n",
    "    # Examples: Saving days, months since we dont change those values and also for saving tables"
   ]
  },
  {
   "cell_type": "markdown",
   "metadata": {},
   "source": [
    "# Set"
   ]
  },
  {
   "cell_type": "code",
   "execution_count": null,
   "metadata": {},
   "outputs": [],
   "source": [
    "#Set has the below properties and can be defined as a collection of data type which is unindexed, no Duplicates\n",
    "'''\n",
    "Allows hetrogeneous elements\n",
    "Represented using flower brackets {}\n",
    "Does not allow duplicate elements\n",
    "Cannot be accessed by indexing\n",
    "sometimes ordered\n",
    "'''"
   ]
  },
  {
   "cell_type": "code",
   "execution_count": 2,
   "metadata": {},
   "outputs": [
    {
     "ename": "TypeError",
     "evalue": "'set' object is not subscriptable",
     "output_type": "error",
     "traceback": [
      "\u001b[1;31m---------------------------------------------------------------------------\u001b[0m",
      "\u001b[1;31mTypeError\u001b[0m                                 Traceback (most recent call last)",
      "\u001b[1;32m<ipython-input-2-10a3c11bf351>\u001b[0m in \u001b[0;36m<module>\u001b[1;34m\u001b[0m\n\u001b[0;32m      1\u001b[0m \u001b[0msample_set\u001b[0m\u001b[1;33m=\u001b[0m\u001b[1;33m{\u001b[0m\u001b[1;36m1\u001b[0m\u001b[1;33m,\u001b[0m\u001b[1;36m2\u001b[0m\u001b[1;33m,\u001b[0m\u001b[1;36m35\u001b[0m\u001b[1;33m,\u001b[0m\u001b[1;36m4\u001b[0m\u001b[1;33m,\u001b[0m\u001b[1;34m'hi'\u001b[0m\u001b[1;33m,\u001b[0m\u001b[1;34m'hello'\u001b[0m\u001b[1;33m,\u001b[0m\u001b[1;36m10\u001b[0m\u001b[1;33m}\u001b[0m\u001b[1;33m\u001b[0m\u001b[1;33m\u001b[0m\u001b[0m\n\u001b[0;32m      2\u001b[0m \u001b[1;33m\u001b[0m\u001b[0m\n\u001b[1;32m----> 3\u001b[1;33m \u001b[0mprint\u001b[0m\u001b[1;33m(\u001b[0m\u001b[0msample_set\u001b[0m\u001b[1;33m[\u001b[0m\u001b[1;36m2\u001b[0m\u001b[1;33m]\u001b[0m\u001b[1;33m)\u001b[0m\u001b[1;33m\u001b[0m\u001b[1;33m\u001b[0m\u001b[0m\n\u001b[0m",
      "\u001b[1;31mTypeError\u001b[0m: 'set' object is not subscriptable"
     ]
    }
   ],
   "source": [
    "sample_set={1,2,35,4,'hi','hello',10}\n",
    "\n",
    "print(sample_set[3])   # Throws type error as we cannot access a set by index\n"
   ]
  },
  {
   "cell_type": "code",
   "execution_count": 3,
   "metadata": {},
   "outputs": [
    {
     "ename": "TypeError",
     "evalue": "'set' object does not support item assignment",
     "output_type": "error",
     "traceback": [
      "\u001b[1;31m---------------------------------------------------------------------------\u001b[0m",
      "\u001b[1;31mTypeError\u001b[0m                                 Traceback (most recent call last)",
      "\u001b[1;32m<ipython-input-3-d4155615c852>\u001b[0m in \u001b[0;36m<module>\u001b[1;34m\u001b[0m\n\u001b[0;32m      1\u001b[0m \u001b[1;31m#cannot add elements by indexing\u001b[0m\u001b[1;33m\u001b[0m\u001b[1;33m\u001b[0m\u001b[1;33m\u001b[0m\u001b[0m\n\u001b[1;32m----> 2\u001b[1;33m \u001b[0msample_set\u001b[0m\u001b[1;33m[\u001b[0m\u001b[1;36m2\u001b[0m\u001b[1;33m]\u001b[0m\u001b[1;33m=\u001b[0m\u001b[1;36m9\u001b[0m\u001b[1;33m\u001b[0m\u001b[1;33m\u001b[0m\u001b[0m\n\u001b[0m",
      "\u001b[1;31mTypeError\u001b[0m: 'set' object does not support item assignment"
     ]
    }
   ],
   "source": [
    "#cannot add elements by indexing in a set throws Type error\n",
    "sample_set[2]=9"
   ]
  },
  {
   "cell_type": "code",
   "execution_count": 7,
   "metadata": {},
   "outputs": [
    {
     "name": "stdout",
     "output_type": "stream",
     "text": [
      "{1, 2, 35, 3, 4, 5, 'abc', 7, 8, 'a'}\n"
     ]
    }
   ],
   "source": [
    "Sample_set_dup={3,35,1,2,3,4,5,1,1,'a','abc',2,2,7,8,3,3,'a'}\n",
    "print(Sample_set_dup) # output would be {1, 2, 35, 3, 4, 5, 'abc', 7, 8, 'a'} by removing duplicates"
   ]
  },
  {
   "cell_type": "code",
   "execution_count": 8,
   "metadata": {},
   "outputs": [
    {
     "name": "stdout",
     "output_type": "stream",
     "text": [
      "{1, 2, 35, 3, 4, 5, 'abc', 7, 8, 'a', '1element'}\n"
     ]
    }
   ],
   "source": [
    "#An element can be added at last in a Set by using add function\n",
    "Sample_set_dup.add('1element')\n",
    "print(Sample_set_dup)"
   ]
  },
  {
   "cell_type": "markdown",
   "metadata": {},
   "source": [
    "# Dictionary"
   ]
  },
  {
   "cell_type": "code",
   "execution_count": null,
   "metadata": {},
   "outputs": [],
   "source": [
    "#Dictionaries are Data Structures that allows to store elements as Key-Value Pair. Proerties of a Dictionary are below\n",
    "'''\n",
    "Key-Value Pair data structure and using flower brackets{}\n",
    "Key is unique and Value can be duplicated\n",
    "Value can be retrieved using Key\n",
    "Value can be changed using key\n",
    "key is not changeable(immutable)\n",
    "'''\n",
    "#Note - Order in which Dictornary returns value is not guaranteed"
   ]
  },
  {
   "cell_type": "code",
   "execution_count": 32,
   "metadata": {},
   "outputs": [
    {
     "name": "stdout",
     "output_type": "stream",
     "text": [
      "{1: 'one', 2: 'two', 'a': 'alpha', 'b': 'beta', 3: 'three', 4: 'four', 'c': 'gamma'}\n",
      "one\n",
      "beta\n"
     ]
    }
   ],
   "source": [
    "Sample_dict={1:'one',2:'two','a':'alpha',\"b\":\"beta\",3:'three',4:'four','c':\"gamma\"}\n",
    "print(Sample_dict)\n",
    "\n",
    "'''\n",
    "Lets take the 1st value 1:'one', here\n",
    "1 is the key and 'one' is the value. For retrieving the value of 'one', we can use its key value 1\n",
    "'''\n",
    "print(Sample_dict[1])\n",
    "\n",
    "# to retrieve beta value, lets use key value b for getting it\n",
    "print(Sample_dict['b'])"
   ]
  },
  {
   "cell_type": "code",
   "execution_count": 33,
   "metadata": {},
   "outputs": [
    {
     "name": "stdout",
     "output_type": "stream",
     "text": [
      "{1: 'one', 2: 'two', 'a': 'alpha', 'b': 'beta', 3: '3', 4: 'four', 'c': 'gamma'}\n"
     ]
    }
   ],
   "source": [
    "#Dictionaries are mutable\n",
    "Sample_dict[3]='3'\n",
    "print(Sample_dict)  # the element would be changed to 3: '3' from 3: 'three'"
   ]
  },
  {
   "cell_type": "code",
   "execution_count": 34,
   "metadata": {},
   "outputs": [
    {
     "name": "stdout",
     "output_type": "stream",
     "text": [
      "{1: 'one', 2: 'two', 'a': 'alpha', 'b': 'beta', 3: '3', 4: 'four'}\n"
     ]
    }
   ],
   "source": [
    "# Removing an element using key\n",
    "Sample_dict.pop('c')  # this removes the key value Pair 'c':'gamma'\n",
    "print(Sample_dict)  # O/p ->{1: 'one', 2: 'two', 'a': 'alpha', 'b': 'beta', 3: '3', 4: 'four'}"
   ]
  },
  {
   "cell_type": "code",
   "execution_count": 35,
   "metadata": {},
   "outputs": [
    {
     "name": "stdout",
     "output_type": "stream",
     "text": [
      "{1: 'one', 2: 'two', 'a': 'alpha', 'b': 'beta', 3: '3'}\n"
     ]
    }
   ],
   "source": [
    "# Removing element using key value Pair\n",
    "Sample_dict.popitem()\n",
    "print(Sample_dict) # Removes the last key value pair and returns the remaining Set of values"
   ]
  },
  {
   "cell_type": "code",
   "execution_count": 20,
   "metadata": {},
   "outputs": [
    {
     "ename": "KeyError",
     "evalue": "9",
     "output_type": "error",
     "traceback": [
      "\u001b[1;31m---------------------------------------------------------------------------\u001b[0m",
      "\u001b[1;31mKeyError\u001b[0m                                  Traceback (most recent call last)",
      "\u001b[1;32m<ipython-input-20-fd5147468a36>\u001b[0m in \u001b[0;36m<module>\u001b[1;34m\u001b[0m\n\u001b[0;32m      1\u001b[0m \u001b[1;31m#Lets try to retrieve a value using a Key which is not available\u001b[0m\u001b[1;33m\u001b[0m\u001b[1;33m\u001b[0m\u001b[1;33m\u001b[0m\u001b[0m\n\u001b[1;32m----> 2\u001b[1;33m \u001b[0mprint\u001b[0m\u001b[1;33m(\u001b[0m\u001b[0mSample_dict\u001b[0m\u001b[1;33m[\u001b[0m\u001b[1;36m9\u001b[0m\u001b[1;33m]\u001b[0m\u001b[1;33m)\u001b[0m\u001b[1;33m\u001b[0m\u001b[1;33m\u001b[0m\u001b[0m\n\u001b[0m",
      "\u001b[1;31mKeyError\u001b[0m: 9"
     ]
    }
   ],
   "source": [
    "#Lets try to retrieve a value using a Key which is not available\n",
    "print(Sample_dict[9]) # it throws a keyerror which states the Key mentioned 9 is not available"
   ]
  },
  {
   "cell_type": "code",
   "execution_count": null,
   "metadata": {},
   "outputs": [],
   "source": [
    "#Types of error - Name error, Type Error, Value Error, Syntax Error"
   ]
  },
  {
   "cell_type": "markdown",
   "metadata": {},
   "source": [
    "# String"
   ]
  },
  {
   "cell_type": "code",
   "execution_count": 36,
   "metadata": {},
   "outputs": [
    {
     "data": {
      "text/plain": [
       "'\\nStrings are an array of bytes reprsenting unicode characters i.e Strings are a group of Characters\\nIn Python, below are properties of a String\\n     Does not support Character Data type so it is a String of Length 1\\n     Represented using single quotes(\\'\\') or double quotes(\"\")\\n     String can be retrieved using index\\n     String is immutable\\n'"
      ]
     },
     "execution_count": 36,
     "metadata": {},
     "output_type": "execute_result"
    }
   ],
   "source": [
    "'''\n",
    "Strings are an array of bytes reprsenting unicode characters i.e Strings are a group of Characters\n",
    "In Python, below are properties of a String\n",
    "     Does not support Character Data type so it is a String of Length 1\n",
    "     Represented using single quotes('') or double quotes(\"\")\n",
    "     String can be retrieved using index\n",
    "     String is immutable\n",
    "'''"
   ]
  },
  {
   "cell_type": "code",
   "execution_count": 37,
   "metadata": {},
   "outputs": [
    {
     "name": "stdout",
     "output_type": "stream",
     "text": [
      "<class 'str'>\n",
      "<class 'str'>\n"
     ]
    }
   ],
   "source": [
    "#String Declaration\n",
    "Sample_String =\"Hello, How are you?\"\n",
    "b='World'\n",
    "\n",
    "#Lets get the types of Sample_String and b printed which would be 'str'\n",
    "print(type(Sample_String))\n",
    "print(type(b))"
   ]
  },
  {
   "cell_type": "code",
   "execution_count": 39,
   "metadata": {},
   "outputs": [
    {
     "data": {
      "text/plain": [
       "'H'"
      ]
     },
     "execution_count": 39,
     "metadata": {},
     "output_type": "execute_result"
    }
   ],
   "source": [
    "# Retrieve Value using index\n",
    "Sample_String[0]  # it prints the 0th index Value 'H'"
   ]
  },
  {
   "cell_type": "code",
   "execution_count": 40,
   "metadata": {},
   "outputs": [
    {
     "data": {
      "text/plain": [
       "'Hello, How are you?World'"
      ]
     },
     "execution_count": 40,
     "metadata": {},
     "output_type": "execute_result"
    }
   ],
   "source": [
    "# We can 2 Strings\n",
    "Sample_String + b"
   ]
  },
  {
   "cell_type": "code",
   "execution_count": 41,
   "metadata": {},
   "outputs": [
    {
     "ename": "TypeError",
     "evalue": "'str' object does not support item assignment",
     "output_type": "error",
     "traceback": [
      "\u001b[1;31m---------------------------------------------------------------------------\u001b[0m",
      "\u001b[1;31mTypeError\u001b[0m                                 Traceback (most recent call last)",
      "\u001b[1;32m<ipython-input-41-09a4b43f96a8>\u001b[0m in \u001b[0;36m<module>\u001b[1;34m\u001b[0m\n\u001b[0;32m      1\u001b[0m \u001b[1;31m#String are immutable , lets try by assiging a new value through indexing\u001b[0m\u001b[1;33m\u001b[0m\u001b[1;33m\u001b[0m\u001b[1;33m\u001b[0m\u001b[0m\n\u001b[1;32m----> 2\u001b[1;33m \u001b[0mSample_String\u001b[0m\u001b[1;33m[\u001b[0m\u001b[1;36m0\u001b[0m\u001b[1;33m]\u001b[0m \u001b[1;33m=\u001b[0m\u001b[1;34m'U'\u001b[0m\u001b[1;33m\u001b[0m\u001b[1;33m\u001b[0m\u001b[0m\n\u001b[0m",
      "\u001b[1;31mTypeError\u001b[0m: 'str' object does not support item assignment"
     ]
    }
   ],
   "source": [
    "#String are immutable , lets try by assiging a new value through indexing\n",
    "Sample_String[0] ='U'  #this throws TypeError: 'str' object does not support item assignment"
   ]
  },
  {
   "cell_type": "markdown",
   "metadata": {},
   "source": [
    "# Type Conversion"
   ]
  },
  {
   "cell_type": "code",
   "execution_count": 43,
   "metadata": {},
   "outputs": [
    {
     "data": {
      "text/plain": [
       "int"
      ]
     },
     "execution_count": 43,
     "metadata": {},
     "output_type": "execute_result"
    }
   ],
   "source": [
    "#Type Conversion is converting One data type to another i.e Type Casting\n",
    " # Here lets declare an integer\n",
    "a=10\n",
    "type(a)"
   ]
  },
  {
   "cell_type": "code",
   "execution_count": 56,
   "metadata": {},
   "outputs": [
    {
     "name": "stdout",
     "output_type": "stream",
     "text": [
      "10\n",
      "<class 'str'>\n"
     ]
    }
   ],
   "source": [
    "a=str(a)        # converting an int to str\n",
    "print(a)\n",
    "print(type(a))  # Outputs type of a as Str"
   ]
  },
  {
   "cell_type": "code",
   "execution_count": 59,
   "metadata": {},
   "outputs": [
    {
     "name": "stdout",
     "output_type": "stream",
     "text": [
      "<class 'int'>\n",
      "After converting an int to float: <class 'float'>\n",
      "17.0\n"
     ]
    }
   ],
   "source": [
    "#int to  float conversion\n",
    "b=17\n",
    "print(type(b))\n",
    "b=float(b)\n",
    "print(\"After converting an int to float:\",type(b))\n",
    "print(b)"
   ]
  },
  {
   "cell_type": "code",
   "execution_count": 51,
   "metadata": {},
   "outputs": [
    {
     "name": "stdout",
     "output_type": "stream",
     "text": [
      "<class 'str'>\n",
      "After converting a string to tuple: ('m', 'y', 'w', 'o', 'r', 'l', 'd')\n"
     ]
    }
   ],
   "source": [
    "#Convert a String to tuple\n",
    "Str_Sample1= 'myworld'\n",
    "print(type(Str_Sample1))\n",
    "Tuple_Sample1=tuple(Str_Sample1)\n",
    "print(\"After converting a string to tuple:\",Tuple_Sample1)"
   ]
  },
  {
   "cell_type": "code",
   "execution_count": 52,
   "metadata": {},
   "outputs": [
    {
     "name": "stdout",
     "output_type": "stream",
     "text": [
      "<class 'list'>\n",
      "After converting a List to Set: {'l', 'o', 'h', 'e'}\n"
     ]
    }
   ],
   "source": [
    "#Converting a List to set\n",
    "Sample_List1=['h','e','l','l','o']\n",
    "print(type(Sample_List1))\n",
    "Sample_set1=set(Sample_List1)\n",
    "print(\"After converting a List to Set:\",Sample_set1) #duplicate gets removed"
   ]
  },
  {
   "cell_type": "code",
   "execution_count": 67,
   "metadata": {},
   "outputs": [
    {
     "name": "stdout",
     "output_type": "stream",
     "text": [
      "b\n",
      "After converting a List to Dictionary: {1: 2, 2: 3, 4: 5, 'z': ['a', 'b']}\n"
     ]
    }
   ],
   "source": [
    "#convert a List to Dictionary\n",
    "Sample_List2=[[1,2],[2,3],[4,5],['z',['a','b']]]\n",
    "print(Sample_List2[3][1][1])\n",
    "Sample_dict2=dict(Sample_List2)\n",
    "print(\"After converting a List to Dictionary:\",Sample_dict2)"
   ]
  },
  {
   "cell_type": "code",
   "execution_count": 69,
   "metadata": {},
   "outputs": [
    {
     "name": "stdout",
     "output_type": "stream",
     "text": [
      "Before defining new values for lst2 [1, 2, 3, 4, 5]\n",
      "[2, 3, 4, 5, 6]\n",
      "[1, 2, 3, 4, 5]\n"
     ]
    }
   ],
   "source": [
    "#2 Lists\n",
    "\n",
    "lst1 = [1,2,3,4,5]\n",
    "lst2 = lst1\n",
    "print(\"Before defining new values for lst2\",lst2)\n",
    "lst2 = [2,3,4,5,6]\n",
    "print(lst2)\n",
    "print(lst1)"
   ]
  },
  {
   "cell_type": "code",
   "execution_count": 70,
   "metadata": {},
   "outputs": [
    {
     "name": "stdout",
     "output_type": "stream",
     "text": [
      "[1, 2, 20, 4, 5]\n",
      "[1, 2, 20, 4, 5]\n"
     ]
    }
   ],
   "source": [
    "lst3 = [1,2,3,4,5]\n",
    "lst4 = lst3 \n",
    "lst4[2] = 20     # this affects value of lst3 & lst4 both \n",
    "print(lst4)\n",
    "print(lst3)"
   ]
  }
 ],
 "metadata": {
  "kernelspec": {
   "display_name": "Python 3",
   "language": "python",
   "name": "python3"
  },
  "language_info": {
   "codemirror_mode": {
    "name": "ipython",
    "version": 3
   },
   "file_extension": ".py",
   "mimetype": "text/x-python",
   "name": "python",
   "nbconvert_exporter": "python",
   "pygments_lexer": "ipython3",
   "version": "3.7.7"
  }
 },
 "nbformat": 4,
 "nbformat_minor": 4
}
