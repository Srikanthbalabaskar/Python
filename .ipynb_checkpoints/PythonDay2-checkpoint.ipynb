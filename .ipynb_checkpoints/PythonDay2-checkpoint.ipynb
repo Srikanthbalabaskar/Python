{
 "cells": [
  {
   "cell_type": "markdown",
   "metadata": {},
   "source": [
    "# Basics of Python contd..."
   ]
  },
  {
   "cell_type": "markdown",
   "metadata": {},
   "source": [
    "# 1. String Manipulation"
   ]
  },
  {
   "cell_type": "code",
   "execution_count": 4,
   "metadata": {},
   "outputs": [
    {
     "name": "stdout",
     "output_type": "stream",
     "text": [
      "ce\n",
      "inc\n",
      "ez\n"
     ]
    }
   ],
   "source": [
    "#As mentioned in previous notebook, python does not support Character Data type so it is a String of Length 1\n",
    "a=\"inceptez\"\n",
    "print(a[2:4])   # gives the characters from 2nd index to 3rd i.e(n-1) \n",
    "print(a[:3])    # gives the characters from 0nd index to 2nd i.e(n-1) \n",
    "print(a[6:])    # goives the characters from 6th index to the last"
   ]
  },
  {
   "cell_type": "code",
   "execution_count": 1,
   "metadata": {},
   "outputs": [
    {
     "data": {
      "text/plain": [
       "'This month is april'"
      ]
     },
     "execution_count": 1,
     "metadata": {},
     "output_type": "execute_result"
    }
   ],
   "source": [
    "word=\"this month is april\"\n",
    "word.capitalize()  # gives the 1st letter of as Capital"
   ]
  },
  {
   "cell_type": "code",
   "execution_count": 2,
   "metadata": {},
   "outputs": [
    {
     "data": {
      "text/plain": [
       "'This Month Is April'"
      ]
     },
     "execution_count": 2,
     "metadata": {},
     "output_type": "execute_result"
    }
   ],
   "source": [
    "word=\"this month is april\"\n",
    "word.title()   #gives the 1st letter of each word as capital"
   ]
  },
  {
   "cell_type": "code",
   "execution_count": 9,
   "metadata": {},
   "outputs": [
    {
     "data": {
      "text/plain": [
       "'this is jupyter'"
      ]
     },
     "execution_count": 9,
     "metadata": {},
     "output_type": "execute_result"
    }
   ],
   "source": [
    "nextword=\"THIS IS JUPYTER\"\n",
    "nextword.lower()  # returns a word in Small letter"
   ]
  },
  {
   "cell_type": "code",
   "execution_count": 26,
   "metadata": {},
   "outputs": [
    {
     "name": "stdout",
     "output_type": "stream",
     "text": [
      "Enter a String:test\n"
     ]
    },
    {
     "data": {
      "text/plain": [
       "'TEST'"
      ]
     },
     "execution_count": 26,
     "metadata": {},
     "output_type": "execute_result"
    }
   ],
   "source": [
    "a=input(\"Enter a String:\") #This opens an input box so that user can enter a value \n",
    "#By default input function takes a String.For inputting other date types need to mention it,eg:int(input(\"Enter a Number:\"))\n",
    "a.upper() # returns a word in upper case"
   ]
  },
  {
   "cell_type": "code",
   "execution_count": 12,
   "metadata": {},
   "outputs": [],
   "source": [
    "# Multi Line Strings - there are two ways for writing multi line strings\n",
    "#1st Method - 2 triple Single Quotes\n",
    "'''\n",
    "This is python and\n",
    "we are using Jupyter\n",
    "Notebook\n",
    "'''\n",
    "#2nd Method - 2 triple double Quotes\n",
    "\"\"\"\n",
    "This is python and\n",
    "we are using Jupyter\n",
    "Notebook\n",
    "\"\"\""
   ]
  },
  {
   "cell_type": "code",
   "execution_count": 20,
   "metadata": {},
   "outputs": [
    {
     "data": {
      "text/plain": [
       "{'646': 'ascii',\n",
       " 'ansi_x3.4_1968': 'ascii',\n",
       " 'ansi_x3_4_1968': 'ascii',\n",
       " 'ansi_x3.4_1986': 'ascii',\n",
       " 'cp367': 'ascii',\n",
       " 'csascii': 'ascii',\n",
       " 'ibm367': 'ascii',\n",
       " 'iso646_us': 'ascii',\n",
       " 'iso_646.irv_1991': 'ascii',\n",
       " 'iso_ir_6': 'ascii',\n",
       " 'us': 'ascii',\n",
       " 'us_ascii': 'ascii',\n",
       " 'base64': 'base64_codec',\n",
       " 'base_64': 'base64_codec',\n",
       " 'big5_tw': 'big5',\n",
       " 'csbig5': 'big5',\n",
       " 'big5_hkscs': 'big5hkscs',\n",
       " 'hkscs': 'big5hkscs',\n",
       " 'bz2': 'bz2_codec',\n",
       " '037': 'cp037',\n",
       " 'csibm037': 'cp037',\n",
       " 'ebcdic_cp_ca': 'cp037',\n",
       " 'ebcdic_cp_nl': 'cp037',\n",
       " 'ebcdic_cp_us': 'cp037',\n",
       " 'ebcdic_cp_wt': 'cp037',\n",
       " 'ibm037': 'cp037',\n",
       " 'ibm039': 'cp037',\n",
       " '1026': 'cp1026',\n",
       " 'csibm1026': 'cp1026',\n",
       " 'ibm1026': 'cp1026',\n",
       " '1125': 'cp1125',\n",
       " 'ibm1125': 'cp1125',\n",
       " 'cp866u': 'cp1125',\n",
       " 'ruscii': 'cp1125',\n",
       " '1140': 'cp1140',\n",
       " 'ibm1140': 'cp1140',\n",
       " '1250': 'cp1250',\n",
       " 'windows_1250': 'cp1250',\n",
       " '1251': 'cp1251',\n",
       " 'windows_1251': 'cp1251',\n",
       " '1252': 'cp1252',\n",
       " 'windows_1252': 'cp1252',\n",
       " '1253': 'cp1253',\n",
       " 'windows_1253': 'cp1253',\n",
       " '1254': 'cp1254',\n",
       " 'windows_1254': 'cp1254',\n",
       " '1255': 'cp1255',\n",
       " 'windows_1255': 'cp1255',\n",
       " '1256': 'cp1256',\n",
       " 'windows_1256': 'cp1256',\n",
       " '1257': 'cp1257',\n",
       " 'windows_1257': 'cp1257',\n",
       " '1258': 'cp1258',\n",
       " 'windows_1258': 'cp1258',\n",
       " '273': 'cp273',\n",
       " 'ibm273': 'cp273',\n",
       " 'csibm273': 'cp273',\n",
       " '424': 'cp424',\n",
       " 'csibm424': 'cp424',\n",
       " 'ebcdic_cp_he': 'cp424',\n",
       " 'ibm424': 'cp424',\n",
       " '437': 'cp437',\n",
       " 'cspc8codepage437': 'cp437',\n",
       " 'ibm437': 'cp437',\n",
       " '500': 'cp500',\n",
       " 'csibm500': 'cp500',\n",
       " 'ebcdic_cp_be': 'cp500',\n",
       " 'ebcdic_cp_ch': 'cp500',\n",
       " 'ibm500': 'cp500',\n",
       " '775': 'cp775',\n",
       " 'cspc775baltic': 'cp775',\n",
       " 'ibm775': 'cp775',\n",
       " '850': 'cp850',\n",
       " 'cspc850multilingual': 'cp850',\n",
       " 'ibm850': 'cp850',\n",
       " '852': 'cp852',\n",
       " 'cspcp852': 'cp852',\n",
       " 'ibm852': 'cp852',\n",
       " '855': 'cp855',\n",
       " 'csibm855': 'cp855',\n",
       " 'ibm855': 'cp855',\n",
       " '857': 'cp857',\n",
       " 'csibm857': 'cp857',\n",
       " 'ibm857': 'cp857',\n",
       " '858': 'cp858',\n",
       " 'csibm858': 'cp858',\n",
       " 'ibm858': 'cp858',\n",
       " '860': 'cp860',\n",
       " 'csibm860': 'cp860',\n",
       " 'ibm860': 'cp860',\n",
       " '861': 'cp861',\n",
       " 'cp_is': 'cp861',\n",
       " 'csibm861': 'cp861',\n",
       " 'ibm861': 'cp861',\n",
       " '862': 'cp862',\n",
       " 'cspc862latinhebrew': 'cp862',\n",
       " 'ibm862': 'cp862',\n",
       " '863': 'cp863',\n",
       " 'csibm863': 'cp863',\n",
       " 'ibm863': 'cp863',\n",
       " '864': 'cp864',\n",
       " 'csibm864': 'cp864',\n",
       " 'ibm864': 'cp864',\n",
       " '865': 'cp865',\n",
       " 'csibm865': 'cp865',\n",
       " 'ibm865': 'cp865',\n",
       " '866': 'cp866',\n",
       " 'csibm866': 'cp866',\n",
       " 'ibm866': 'cp866',\n",
       " '869': 'cp869',\n",
       " 'cp_gr': 'cp869',\n",
       " 'csibm869': 'cp869',\n",
       " 'ibm869': 'cp869',\n",
       " '932': 'cp932',\n",
       " 'ms932': 'cp932',\n",
       " 'mskanji': 'cp932',\n",
       " 'ms_kanji': 'cp932',\n",
       " '949': 'cp949',\n",
       " 'ms949': 'cp949',\n",
       " 'uhc': 'cp949',\n",
       " '950': 'cp950',\n",
       " 'ms950': 'cp950',\n",
       " 'jisx0213': 'euc_jis_2004',\n",
       " 'eucjis2004': 'euc_jis_2004',\n",
       " 'euc_jis2004': 'euc_jis_2004',\n",
       " 'eucjisx0213': 'euc_jisx0213',\n",
       " 'eucjp': 'euc_jp',\n",
       " 'ujis': 'euc_jp',\n",
       " 'u_jis': 'euc_jp',\n",
       " 'euckr': 'euc_kr',\n",
       " 'korean': 'euc_kr',\n",
       " 'ksc5601': 'euc_kr',\n",
       " 'ks_c_5601': 'euc_kr',\n",
       " 'ks_c_5601_1987': 'euc_kr',\n",
       " 'ksx1001': 'euc_kr',\n",
       " 'ks_x_1001': 'euc_kr',\n",
       " 'gb18030_2000': 'gb18030',\n",
       " 'chinese': 'gb2312',\n",
       " 'csiso58gb231280': 'gb2312',\n",
       " 'euc_cn': 'gb2312',\n",
       " 'euccn': 'gb2312',\n",
       " 'eucgb2312_cn': 'gb2312',\n",
       " 'gb2312_1980': 'gb2312',\n",
       " 'gb2312_80': 'gb2312',\n",
       " 'iso_ir_58': 'gb2312',\n",
       " '936': 'gbk',\n",
       " 'cp936': 'gbk',\n",
       " 'ms936': 'gbk',\n",
       " 'hex': 'hex_codec',\n",
       " 'roman8': 'hp_roman8',\n",
       " 'r8': 'hp_roman8',\n",
       " 'csHPRoman8': 'hp_roman8',\n",
       " 'hzgb': 'hz',\n",
       " 'hz_gb': 'hz',\n",
       " 'hz_gb_2312': 'hz',\n",
       " 'csiso2022jp': 'iso2022_jp',\n",
       " 'iso2022jp': 'iso2022_jp',\n",
       " 'iso_2022_jp': 'iso2022_jp',\n",
       " 'iso2022jp_1': 'iso2022_jp_1',\n",
       " 'iso_2022_jp_1': 'iso2022_jp_1',\n",
       " 'iso2022jp_2': 'iso2022_jp_2',\n",
       " 'iso_2022_jp_2': 'iso2022_jp_2',\n",
       " 'iso_2022_jp_2004': 'iso2022_jp_2004',\n",
       " 'iso2022jp_2004': 'iso2022_jp_2004',\n",
       " 'iso2022jp_3': 'iso2022_jp_3',\n",
       " 'iso_2022_jp_3': 'iso2022_jp_3',\n",
       " 'iso2022jp_ext': 'iso2022_jp_ext',\n",
       " 'iso_2022_jp_ext': 'iso2022_jp_ext',\n",
       " 'csiso2022kr': 'iso2022_kr',\n",
       " 'iso2022kr': 'iso2022_kr',\n",
       " 'iso_2022_kr': 'iso2022_kr',\n",
       " 'csisolatin6': 'iso8859_10',\n",
       " 'iso_8859_10': 'iso8859_10',\n",
       " 'iso_8859_10_1992': 'iso8859_10',\n",
       " 'iso_ir_157': 'iso8859_10',\n",
       " 'l6': 'iso8859_10',\n",
       " 'latin6': 'iso8859_10',\n",
       " 'thai': 'iso8859_11',\n",
       " 'iso_8859_11': 'iso8859_11',\n",
       " 'iso_8859_11_2001': 'iso8859_11',\n",
       " 'iso_8859_13': 'iso8859_13',\n",
       " 'l7': 'iso8859_13',\n",
       " 'latin7': 'iso8859_13',\n",
       " 'iso_8859_14': 'iso8859_14',\n",
       " 'iso_8859_14_1998': 'iso8859_14',\n",
       " 'iso_celtic': 'iso8859_14',\n",
       " 'iso_ir_199': 'iso8859_14',\n",
       " 'l8': 'iso8859_14',\n",
       " 'latin8': 'iso8859_14',\n",
       " 'iso_8859_15': 'iso8859_15',\n",
       " 'l9': 'iso8859_15',\n",
       " 'latin9': 'iso8859_15',\n",
       " 'iso_8859_16': 'iso8859_16',\n",
       " 'iso_8859_16_2001': 'iso8859_16',\n",
       " 'iso_ir_226': 'iso8859_16',\n",
       " 'l10': 'iso8859_16',\n",
       " 'latin10': 'iso8859_16',\n",
       " 'csisolatin2': 'iso8859_2',\n",
       " 'iso_8859_2': 'iso8859_2',\n",
       " 'iso_8859_2_1987': 'iso8859_2',\n",
       " 'iso_ir_101': 'iso8859_2',\n",
       " 'l2': 'iso8859_2',\n",
       " 'latin2': 'iso8859_2',\n",
       " 'csisolatin3': 'iso8859_3',\n",
       " 'iso_8859_3': 'iso8859_3',\n",
       " 'iso_8859_3_1988': 'iso8859_3',\n",
       " 'iso_ir_109': 'iso8859_3',\n",
       " 'l3': 'iso8859_3',\n",
       " 'latin3': 'iso8859_3',\n",
       " 'csisolatin4': 'iso8859_4',\n",
       " 'iso_8859_4': 'iso8859_4',\n",
       " 'iso_8859_4_1988': 'iso8859_4',\n",
       " 'iso_ir_110': 'iso8859_4',\n",
       " 'l4': 'iso8859_4',\n",
       " 'latin4': 'iso8859_4',\n",
       " 'csisolatincyrillic': 'iso8859_5',\n",
       " 'cyrillic': 'iso8859_5',\n",
       " 'iso_8859_5': 'iso8859_5',\n",
       " 'iso_8859_5_1988': 'iso8859_5',\n",
       " 'iso_ir_144': 'iso8859_5',\n",
       " 'arabic': 'iso8859_6',\n",
       " 'asmo_708': 'iso8859_6',\n",
       " 'csisolatinarabic': 'iso8859_6',\n",
       " 'ecma_114': 'iso8859_6',\n",
       " 'iso_8859_6': 'iso8859_6',\n",
       " 'iso_8859_6_1987': 'iso8859_6',\n",
       " 'iso_ir_127': 'iso8859_6',\n",
       " 'csisolatingreek': 'iso8859_7',\n",
       " 'ecma_118': 'iso8859_7',\n",
       " 'elot_928': 'iso8859_7',\n",
       " 'greek': 'iso8859_7',\n",
       " 'greek8': 'iso8859_7',\n",
       " 'iso_8859_7': 'iso8859_7',\n",
       " 'iso_8859_7_1987': 'iso8859_7',\n",
       " 'iso_ir_126': 'iso8859_7',\n",
       " 'csisolatinhebrew': 'iso8859_8',\n",
       " 'hebrew': 'iso8859_8',\n",
       " 'iso_8859_8': 'iso8859_8',\n",
       " 'iso_8859_8_1988': 'iso8859_8',\n",
       " 'iso_ir_138': 'iso8859_8',\n",
       " 'csisolatin5': 'iso8859_9',\n",
       " 'iso_8859_9': 'iso8859_9',\n",
       " 'iso_8859_9_1989': 'iso8859_9',\n",
       " 'iso_ir_148': 'iso8859_9',\n",
       " 'l5': 'iso8859_9',\n",
       " 'latin5': 'iso8859_9',\n",
       " 'cp1361': 'johab',\n",
       " 'ms1361': 'johab',\n",
       " 'cskoi8r': 'koi8_r',\n",
       " 'kz_1048': 'kz1048',\n",
       " 'rk1048': 'kz1048',\n",
       " 'strk1048_2002': 'kz1048',\n",
       " '8859': 'latin_1',\n",
       " 'cp819': 'latin_1',\n",
       " 'csisolatin1': 'latin_1',\n",
       " 'ibm819': 'latin_1',\n",
       " 'iso8859': 'latin_1',\n",
       " 'iso8859_1': 'latin_1',\n",
       " 'iso_8859_1': 'latin_1',\n",
       " 'iso_8859_1_1987': 'latin_1',\n",
       " 'iso_ir_100': 'latin_1',\n",
       " 'l1': 'latin_1',\n",
       " 'latin': 'latin_1',\n",
       " 'latin1': 'latin_1',\n",
       " 'maccyrillic': 'mac_cyrillic',\n",
       " 'macgreek': 'mac_greek',\n",
       " 'maciceland': 'mac_iceland',\n",
       " 'maccentraleurope': 'mac_latin2',\n",
       " 'maclatin2': 'mac_latin2',\n",
       " 'macintosh': 'mac_roman',\n",
       " 'macroman': 'mac_roman',\n",
       " 'macturkish': 'mac_turkish',\n",
       " 'ansi': 'mbcs',\n",
       " 'dbcs': 'mbcs',\n",
       " 'csptcp154': 'ptcp154',\n",
       " 'pt154': 'ptcp154',\n",
       " 'cp154': 'ptcp154',\n",
       " 'cyrillic_asian': 'ptcp154',\n",
       " 'quopri': 'quopri_codec',\n",
       " 'quoted_printable': 'quopri_codec',\n",
       " 'quotedprintable': 'quopri_codec',\n",
       " 'rot13': 'rot_13',\n",
       " 'csshiftjis': 'shift_jis',\n",
       " 'shiftjis': 'shift_jis',\n",
       " 'sjis': 'shift_jis',\n",
       " 's_jis': 'shift_jis',\n",
       " 'shiftjis2004': 'shift_jis_2004',\n",
       " 'sjis_2004': 'shift_jis_2004',\n",
       " 's_jis_2004': 'shift_jis_2004',\n",
       " 'shiftjisx0213': 'shift_jisx0213',\n",
       " 'sjisx0213': 'shift_jisx0213',\n",
       " 's_jisx0213': 'shift_jisx0213',\n",
       " 'tis260': 'tactis',\n",
       " 'tis620': 'tis_620',\n",
       " 'tis_620_0': 'tis_620',\n",
       " 'tis_620_2529_0': 'tis_620',\n",
       " 'tis_620_2529_1': 'tis_620',\n",
       " 'iso_ir_166': 'tis_620',\n",
       " 'u16': 'utf_16',\n",
       " 'utf16': 'utf_16',\n",
       " 'unicodebigunmarked': 'utf_16_be',\n",
       " 'utf_16be': 'utf_16_be',\n",
       " 'unicodelittleunmarked': 'utf_16_le',\n",
       " 'utf_16le': 'utf_16_le',\n",
       " 'u32': 'utf_32',\n",
       " 'utf32': 'utf_32',\n",
       " 'utf_32be': 'utf_32_be',\n",
       " 'utf_32le': 'utf_32_le',\n",
       " 'u7': 'utf_7',\n",
       " 'utf7': 'utf_7',\n",
       " 'unicode_1_1_utf_7': 'utf_7',\n",
       " 'u8': 'utf_8',\n",
       " 'utf': 'utf_8',\n",
       " 'utf8': 'utf_8',\n",
       " 'utf8_ucs2': 'utf_8',\n",
       " 'utf8_ucs4': 'utf_8',\n",
       " 'uu': 'uu_codec',\n",
       " 'zip': 'zlib_codec',\n",
       " 'zlib': 'zlib_codec',\n",
       " 'x_mac_japanese': 'shift_jis',\n",
       " 'x_mac_korean': 'euc_kr',\n",
       " 'x_mac_simp_chinese': 'gb2312',\n",
       " 'x_mac_trad_chinese': 'big5'}"
      ]
     },
     "execution_count": 20,
     "metadata": {},
     "output_type": "execute_result"
    }
   ],
   "source": [
    "#Encoding in Python - form in which python understands i.e different bytes in which Python is stored\n",
    "from encodings.aliases import aliases\n",
    "aliases    # this gives the list of encoding types avaiable in python\n",
    "# Strings are usually in UTF-8 format"
   ]
  },
  {
   "cell_type": "code",
   "execution_count": 21,
   "metadata": {},
   "outputs": [
    {
     "data": {
      "text/plain": [
       "b'\\xff\\xfet\\x00h\\x00i\\x00s\\x00 \\x00i\\x00s\\x00 \\x00a\\x00w\\x00e\\x00s\\x00o\\x00m\\x00e\\x00'"
      ]
     },
     "execution_count": 21,
     "metadata": {},
     "output_type": "execute_result"
    }
   ],
   "source": [
    "review=\"this is awesome\"\n",
    "review.encode(\"utf-16\")  # we are forcing/changing the type of review to utf-16"
   ]
  },
  {
   "cell_type": "markdown",
   "metadata": {},
   "source": [
    "# 1.1 String Split"
   ]
  },
  {
   "cell_type": "code",
   "execution_count": 24,
   "metadata": {},
   "outputs": [
    {
     "data": {
      "text/plain": [
       "['Today is 1st day of April', 'And it is a Wednesday']"
      ]
     },
     "execution_count": 24,
     "metadata": {},
     "output_type": "execute_result"
    }
   ],
   "source": [
    "sample_string=\"Today is 1st day of April.And it is a Wednesday\"\n",
    "sample_string.split('.')  \n",
    "# this splits the string into 2 before & after '.'. The \".\"can be within double quotes also"
   ]
  },
  {
   "cell_type": "code",
   "execution_count": 25,
   "metadata": {},
   "outputs": [
    {
     "data": {
      "text/plain": [
       "['Today is 1st day of April',\n",
       " 'And it is a Wednesday',\n",
       " ' It feels like an awesome month']"
      ]
     },
     "execution_count": 25,
     "metadata": {},
     "output_type": "execute_result"
    }
   ],
   "source": [
    "#lets try to see how it works when there are more than 1 '.' in a sentance\n",
    "sampletry_str=\"Today is 1st day of April.And it is a Wednesday. It feels like an awesome month\"\n",
    "sampletry_str.split(\".\")\n",
    "#Wherever there is a \".\", it gets splitted"
   ]
  },
  {
   "cell_type": "code",
   "execution_count": 28,
   "metadata": {},
   "outputs": [
    {
     "data": {
      "text/plain": [
       "True"
      ]
     },
     "execution_count": 28,
     "metadata": {},
     "output_type": "execute_result"
    }
   ],
   "source": [
    "#Lets find whether a word exists in a String\n",
    "\"awesome\" in sampletry_str\n",
    "#This returns True as the word 'awesome' exists in the string\n",
    "# Lets take an example where in amazon reviews,we would need to find the occurance of a Specific word"
   ]
  },
  {
   "cell_type": "code",
   "execution_count": 29,
   "metadata": {},
   "outputs": [
    {
     "name": "stdout",
     "output_type": "stream",
     "text": [
      "1st month is January,2nd month is February.\n"
     ]
    }
   ],
   "source": [
    "month1=\"January\"\n",
    "month2=\"February\"\n",
    "print(\"1st month is {},2nd month is {}.\".format(month1,month2)) #month1 and month 2 are assigned in the {}"
   ]
  },
  {
   "cell_type": "code",
   "execution_count": 30,
   "metadata": {},
   "outputs": [
    {
     "name": "stdout",
     "output_type": "stream",
     "text": [
      "1st month is February,2nd month isJanuary.\n"
     ]
    }
   ],
   "source": [
    "print(\"1st month is {1},2nd month is{0}.\".format(month1,month2))\n",
    "#We can assign values inside {} using indexes also"
   ]
  },
  {
   "cell_type": "markdown",
   "metadata": {},
   "source": [
    "# 1.2 Strip"
   ]
  },
  {
   "cell_type": "code",
   "execution_count": 33,
   "metadata": {},
   "outputs": [
    {
     "name": "stdout",
     "output_type": "stream",
     "text": [
      "Today is 1st day of April.And it is a Wednesday. \n",
      " Today is 1st day of April.And it is a Wednesday.\n",
      "Today is 1st day of April.      And it is a Wednesday.\n"
     ]
    }
   ],
   "source": [
    "a=\"          Today is 1st day of April.And it is a Wednesday. \"\n",
    "b=\" Today is 1st day of April.And it is a Wednesday.          \"\n",
    "c=\"       Today is 1st day of April.      And it is a Wednesday.       \"\n",
    "\n",
    "print(a.lstrip())    # removes spaces in the start of a String\n",
    "print(b.rstrip())    # removes spaces in the end of a String\n",
    "print(c.strip())     # removes spaces in the start and end of a String & does not remove in the middle"
   ]
  },
  {
   "cell_type": "code",
   "execution_count": 35,
   "metadata": {},
   "outputs": [
    {
     "name": "stdout",
     "output_type": "stream",
     "text": [
      "Today is 1st day of April.      And it is a Wednesday.\n",
      "Today is 1st day of April.      And it is a Wednesday.\n",
      "Today is 1st day #### of April.      And it is a Wednesday.\n"
     ]
    }
   ],
   "source": [
    "#By default Strip removes the white spaces, it can remove whatever we enter inside the function\n",
    "c=\"##########Today is 1st day of April.      And it is a Wednesday.\"\n",
    "print(c.strip('#'))     # removes # if available at start and end\n",
    "c=\"##########Today is 1st day of April.      And it is a Wednesday.########\"\n",
    "print(c.strip('#'))       # removes # if available at start and end\n",
    "c=\"##########Today is 1st day #### of April.      And it is a Wednesday.########\"\n",
    "print(c.strip('#'))      # removes # if available at start and end but not in center"
   ]
  },
  {
   "cell_type": "markdown",
   "metadata": {},
   "source": [
    "# 1.3 Join, split,Count & Replace"
   ]
  },
  {
   "cell_type": "code",
   "execution_count": 2,
   "metadata": {},
   "outputs": [
    {
     "data": {
      "text/plain": [
       "\"India is the 7th largest country in the world. It's capital is Delhi\""
      ]
     },
     "execution_count": 2,
     "metadata": {},
     "output_type": "execute_result"
    }
   ],
   "source": [
    "sentence=\"   India is the 7th largest country in the world.     It's capital is Delhi\"\n",
    "\" \".join(sentence.split())    # removes the white spaces and returns the output"
   ]
  },
  {
   "cell_type": "code",
   "execution_count": 5,
   "metadata": {},
   "outputs": [
    {
     "data": {
      "text/plain": [
       "\"India is the 7th largest country in the world. It's capital is Delhi\""
      ]
     },
     "execution_count": 5,
     "metadata": {},
     "output_type": "execute_result"
    }
   ],
   "source": [
    "list1=sentence.split()\n",
    "\" \".join(list1)    # same output as above"
   ]
  },
  {
   "cell_type": "code",
   "execution_count": 13,
   "metadata": {},
   "outputs": [
    {
     "data": {
      "text/plain": [
       "\"India%%is%%the%%7th%%largest%%country%%in%%the%%world.%%It's%%capital%%is%%Delhi\""
      ]
     },
     "execution_count": 13,
     "metadata": {},
     "output_type": "execute_result"
    }
   ],
   "source": [
    "\"%%\".join(list1)  # Inserts # in between each word"
   ]
  },
  {
   "cell_type": "code",
   "execution_count": 16,
   "metadata": {},
   "outputs": [
    {
     "data": {
      "text/plain": [
       "\"Indiaisthe7thlargestcountryintheworld.It'scapitalisDelhi\""
      ]
     },
     "execution_count": 16,
     "metadata": {},
     "output_type": "execute_result"
    }
   ],
   "source": [
    "\"\".join(list1) # Does not leave any space between each other and produces a spacefree sentence"
   ]
  },
  {
   "cell_type": "code",
   "execution_count": 17,
   "metadata": {},
   "outputs": [
    {
     "data": {
      "text/plain": [
       "2"
      ]
     },
     "execution_count": 17,
     "metadata": {},
     "output_type": "execute_result"
    }
   ],
   "source": [
    "sentence=\"   India is the 7th largest country in the world.     It's capital is Delhi\"\n",
    "sentence.count('c')   # Outputs the no.of occurences of word 'c'"
   ]
  },
  {
   "cell_type": "markdown",
   "metadata": {},
   "source": [
    "# 2. Loops"
   ]
  },
  {
   "cell_type": "code",
   "execution_count": null,
   "metadata": {},
   "outputs": [],
   "source": [
    "#Loops are a block of statments which repeats itself until a give condition is satisfied\n",
    "#Python supports the usual logical conditions from mathematics:\n",
    "\n",
    "'''    Equals: a == b\n",
    "    Not Equals: a != b\n",
    "    Less than: a < b\n",
    "    Less than or equal to: a <= b\n",
    "    Greater than: a > b\n",
    "    Greater than or equal to: a >= b '''\n"
   ]
  },
  {
   "cell_type": "markdown",
   "metadata": {},
   "source": [
    "# 2.1 If,else,elif Statement"
   ]
  },
  {
   "cell_type": "code",
   "execution_count": null,
   "metadata": {},
   "outputs": [],
   "source": [
    "'''These conditions can be used in several ways, most commonly in \"if statements\" and loops.\n",
    "An \"if statement\" is written by using the if keyword.\n",
    "If statements are executed only once\n",
    "\n",
    "1) Check for a condition : Satisfied 1) Execute a statement\n",
    "\n",
    "2) Check for a condition : Not satisfied 2) Execute the else statement  '''"
   ]
  },
  {
   "cell_type": "code",
   "execution_count": 20,
   "metadata": {},
   "outputs": [
    {
     "name": "stdout",
     "output_type": "stream",
     "text": [
      "Enter a Country name:China\n",
      "Country name is  China\n",
      "300\n",
      "Inside if loop\n"
     ]
    }
   ],
   "source": [
    "name = input(\"Enter a Country name:\")\n",
    "if name== \"China\":    # : is very important for the loop to run\n",
    "    print(\"Country name is \",name) # spaces at the start are important i.e indentation(spaces, tabs) need to be taken care\n",
    "    y=100\n",
    "    z=200\n",
    "    print(y+z)\n",
    "    print(\"Inside if loop\")\n",
    "else:\n",
    "    print(\"Inside else loop\")"
   ]
  },
  {
   "cell_type": "code",
   "execution_count": 21,
   "metadata": {},
   "outputs": [
    {
     "ename": "IndentationError",
     "evalue": "expected an indented block (<ipython-input-21-52a62dc5eafa>, line 3)",
     "output_type": "error",
     "traceback": [
      "\u001b[1;36m  File \u001b[1;32m\"<ipython-input-21-52a62dc5eafa>\"\u001b[1;36m, line \u001b[1;32m3\u001b[0m\n\u001b[1;33m    print(\"Country name is \",name) # spaces at the start are important i.e indentation(spaces, tabs) need to be taken care\u001b[0m\n\u001b[1;37m        ^\u001b[0m\n\u001b[1;31mIndentationError\u001b[0m\u001b[1;31m:\u001b[0m expected an indented block\n"
     ]
    }
   ],
   "source": [
    "#This will throw an Indentation error as there is no space at the start of Print statement below the 'if' Statment\n",
    "name = input(\"Enter a Country name:\")\n",
    "if name== \"China\":    \n",
    "print(\"Country name is \",name) \n",
    "    print(\"Inside if loop\")\n",
    "else:\n",
    "    print(\"Inside else loop\")"
   ]
  },
  {
   "cell_type": "code",
   "execution_count": 24,
   "metadata": {},
   "outputs": [
    {
     "name": "stdout",
     "output_type": "stream",
     "text": [
      "1st number is10\n",
      "2nd number is20\n",
      "Sum is less than 50\n"
     ]
    }
   ],
   "source": [
    "#Python uses \"elif\" as an else if statement\n",
    "num1=int(input(\"1st number is\"))\n",
    "num2=int(input(\"2nd number is\"))\n",
    "num3=num1+num2\n",
    "if(num3>50):              \n",
    "    print(\"Sum is greater than 50\")   # if the 'If' is true, this gets printed\n",
    "elif num3<50:     # if the above 'if' is not true, it comes to 'elif'\n",
    "    print(\"Sum is less than 50\") # exits the loop after this gets printed\n",
    "else:\n",
    "    print(\"Sum is equal to 50\")\n"
   ]
  },
  {
   "cell_type": "markdown",
   "metadata": {},
   "source": [
    "# 2.2 Nested if"
   ]
  },
  {
   "cell_type": "code",
   "execution_count": 5,
   "metadata": {},
   "outputs": [
    {
     "name": "stdout",
     "output_type": "stream",
     "text": [
      "Rohit's runs is:100\n",
      "Dhawan's runs is:75\n",
      "Kohli's runs is:125\n",
      "Opening partnership is good\n",
      "India won\n"
     ]
    }
   ],
   "source": [
    "# Nested means an object placed inside the other\n",
    "# 'Nested if' means if placed inside another if\n",
    "Rohit=int(input(\"Rohit's runs is:\"))\n",
    "Dhawan=int(input(\"Dhawan's runs is:\"))\n",
    "Kohli=int(input(\"Kohli's runs is:\"))\n",
    "if Rohit+Dhawan >150:\n",
    "    print(\"Opening partnership is good\")\n",
    "    if(Rohit+Dhawan+Kohli) >250:\n",
    "        print(\"India won\")\n",
    "    else:\n",
    "        print(\"India Lost\")\n",
    "elif Rohit+Kohli >150:\n",
    "    print(\"1st Wicket Partnership is good\")\n",
    "else:\n",
    "    print(\"India Lost\")\n",
    "    "
   ]
  },
  {
   "cell_type": "code",
   "execution_count": 6,
   "metadata": {},
   "outputs": [
    {
     "name": "stdout",
     "output_type": "stream",
     "text": [
      "Rohit's runs is:100\n",
      "Dhawan's runs is:20\n",
      "Kohli's runs is:30\n",
      "Dhawan's performance is not good\n"
     ]
    }
   ],
   "source": [
    "#Another Example\n",
    "Rohit=int(input(\"Rohit's runs is:\"))\n",
    "Dhawan=int(input(\"Dhawan's runs is:\"))\n",
    "Kohli=int(input(\"Kohli's runs is:\"))\n",
    "if(Rohit>50):\n",
    "    if(Dhawan>50):\n",
    "        if(Kohli>50):\n",
    "            print(\"India Won\")\n",
    "        else:\n",
    "            print(\"Kohli's performance is not good\")\n",
    "    else:\n",
    "            print(\"Dhawan's performance is not good\")\n",
    "else:\n",
    "     print(\"Rohit's performance is not good\")\n",
    "        \n",
    "        \n",
    "        "
   ]
  },
  {
   "cell_type": "code",
   "execution_count": null,
   "metadata": {},
   "outputs": [],
   "source": [
    "#Writing the condistions in a Single line\n",
    "Rohit=75\n",
    "Dhawan=60\n",
    "Kohli=80\n",
    "if(Rohit>50 and Dhawan>50 and Kohli>50):\n",
    "    print(\"India won\")\n",
    "else:\n",
    "    print(\"Top Order 3 players did not perform well\")\n",
    "if(Rohit<50 or Dhawan<50 or Kohli<50):\n",
    "    print(\"Top Order 3 players did not perform well\")\n",
    "else:\n",
    "        print(\"India Won\")\n"
   ]
  },
  {
   "cell_type": "markdown",
   "metadata": {},
   "source": [
    "# 2.3 Conditional Loops\n"
   ]
  },
  {
   "cell_type": "code",
   "execution_count": null,
   "metadata": {},
   "outputs": [],
   "source": [
    "\"\"\"Conditional Loops is a way to repeate something when a certain condition is True.\n",
    "If condition is not True, it exists the loop. And if the condition is always True it is\n",
    "an infinite loop\n",
    "\"\"\"\n",
    "#While loop - It executes a block of statement until a given condition is satisfied\n",
    "#For loop - It executes a block of statment over a certain sequence\n",
    "\n",
    "#For and While are ENTRY CONTROLLED LOOPS"
   ]
  },
  {
   "cell_type": "code",
   "execution_count": 2,
   "metadata": {},
   "outputs": [
    {
     "name": "stdout",
     "output_type": "stream",
     "text": [
      "4\n",
      "3\n",
      "2\n",
      "1\n"
     ]
    }
   ],
   "source": [
    "#while loop\n",
    "n = 4\n",
    "while (n > 0):  #This loop runs until n is greater than 0\n",
    "    print(n)\n",
    "    n = n-1"
   ]
  },
  {
   "cell_type": "code",
   "execution_count": 4,
   "metadata": {},
   "outputs": [
    {
     "name": "stdout",
     "output_type": "stream",
     "text": [
      "1\n",
      "2\n",
      "3\n",
      "4\n",
      "5\n"
     ]
    }
   ],
   "source": [
    "sample_list=[1,2,3,4,5]\n",
    "for i in sample_list:\n",
    "    print(i)"
   ]
  },
  {
   "cell_type": "code",
   "execution_count": 6,
   "metadata": {},
   "outputs": [
    {
     "name": "stdout",
     "output_type": "stream",
     "text": [
      "2\n",
      "4\n",
      "6\n",
      "8\n",
      "10\n"
     ]
    }
   ],
   "source": [
    "'''Range can be used in for loop. It will interate the number from start to end i.e Starting no. is included but \n",
    "ending would be similar to indexes so it is n-1. Default incement would be 1 '''\n",
    "#For Printing Even numbers\n",
    "for i in range(1,11):\n",
    "    if(i %2 ==0):\n",
    "        print(i)"
   ]
  },
  {
   "cell_type": "code",
   "execution_count": 7,
   "metadata": {},
   "outputs": [
    {
     "name": "stdout",
     "output_type": "stream",
     "text": [
      "1\n",
      "3\n",
      "5\n",
      "7\n",
      "9\n"
     ]
    }
   ],
   "source": [
    "#For Printing Odd numbers\n",
    "for i in range(1,11,2):   #Increments the step by 2\n",
    "    if(i %2 != 0):\n",
    "        print(i)"
   ]
  },
  {
   "cell_type": "code",
   "execution_count": 8,
   "metadata": {},
   "outputs": [
    {
     "name": "stdout",
     "output_type": "stream",
     "text": [
      "11\n",
      "9\n",
      "7\n",
      "5\n",
      "3\n"
     ]
    }
   ],
   "source": [
    "#For Printing Odd numbers by giving range in reverse from abov example\n",
    "for i in range(11,1,-2):   #Increments the step by -2\n",
    "    if(i %2 != 0):\n",
    "        print(i)"
   ]
  },
  {
   "cell_type": "markdown",
   "metadata": {},
   "source": [
    "# 2.4 Pass, Continue & break"
   ]
  },
  {
   "cell_type": "code",
   "execution_count": 9,
   "metadata": {},
   "outputs": [],
   "source": [
    "#Pass - it is used when we want to have an empty if loop\n",
    "#Ex: if we dont know the code logic for now and want to implement it later then we can use this\n",
    "n=0\n",
    "if(n=0):\n",
    "    pass\n"
   ]
  },
  {
   "cell_type": "code",
   "execution_count": 2,
   "metadata": {},
   "outputs": [
    {
     "name": "stdout",
     "output_type": "stream",
     "text": [
      "1\n",
      "2\n",
      "3\n",
      "4\n",
      "5\n"
     ]
    }
   ],
   "source": [
    "#Continue - continue skips the current iternation and goes to next one\n",
    "for i in range(1,6): \n",
    "    print(i)\n",
    "    if(i ==3):\n",
    "      continue\n",
    "      print(i)  # this wont be printed as continue will brak the current iteration\n",
    "        # as per our code 3 should be printed twice so it gets printed only once"
   ]
  },
  {
   "cell_type": "code",
   "execution_count": 1,
   "metadata": {},
   "outputs": [
    {
     "name": "stdout",
     "output_type": "stream",
     "text": [
      "1\n",
      "2\n",
      "3\n"
     ]
    }
   ],
   "source": [
    "#Break\n",
    "for i in range(1,6): \n",
    "    print(i)\n",
    "    if(i ==3):\n",
    "      break  # runs till 3 and breaks the iteration so that 4 & 5 are not printed\n",
    "      print(i)  "
   ]
  },
  {
   "cell_type": "markdown",
   "metadata": {},
   "source": [
    "# 3. Functions"
   ]
  },
  {
   "cell_type": "code",
   "execution_count": null,
   "metadata": {},
   "outputs": [],
   "source": [
    "#Python has the capability to use functions\n",
    "'''\n",
    "Functions are block of statements that we used for performing certain opertaions\n",
    "Functions once defined can be called any no.of times anywhere in the program i.e for reusability\n",
    "Parameters can be passed inside a function and it can take default values as well\n",
    "A Function can return a value \n",
    "'''\n",
    "#Syantax-Functions are usually defined by def() FunctName with a :"
   ]
  },
  {
   "cell_type": "code",
   "execution_count": 4,
   "metadata": {},
   "outputs": [
    {
     "name": "stdout",
     "output_type": "stream",
     "text": [
      "inside function\n",
      "Outside function\n"
     ]
    }
   ],
   "source": [
    "#Lets define our first function\n",
    "def firstFunction():\n",
    "    print('inside function')\n",
    "\n",
    "firstFunction()   # calling the above defined function\n",
    "print('Outside function')"
   ]
  },
  {
   "cell_type": "code",
   "execution_count": 5,
   "metadata": {},
   "outputs": [
    {
     "name": "stdout",
     "output_type": "stream",
     "text": [
      "inside function\n"
     ]
    }
   ],
   "source": [
    "#Example where we are calling the function the first\n",
    "firstFunction() \n",
    "\n",
    "def firstFunction():\n",
    "    print('inside function')"
   ]
  },
  {
   "cell_type": "code",
   "execution_count": 7,
   "metadata": {},
   "outputs": [
    {
     "name": "stdout",
     "output_type": "stream",
     "text": [
      "Country name is : India\n"
     ]
    }
   ],
   "source": [
    "#Pass parameters inside a function\n",
    "def sampleFunction(name):\n",
    "    print(\"Country name is :\",name)\n",
    "\n",
    "sampleFunction(\"India\") \n"
   ]
  },
  {
   "cell_type": "code",
   "execution_count": 8,
   "metadata": {},
   "outputs": [
    {
     "name": "stdout",
     "output_type": "stream",
     "text": [
      "City name is : Mumbai\n",
      "City name is : Chennai\n"
     ]
    }
   ],
   "source": [
    "#Lets see how a default value in parameter gets printed\n",
    "\n",
    "def sampleFunction(name=\"Chennai\"):\n",
    "    print(\"City name is :\",name)\n",
    "\n",
    "sampleFunction(\"Mumbai\")  #Value 'Mumbai' gets passed to the function\n",
    "sampleFunction()   #Since we are not passing any value,'Chennai' gets printed"
   ]
  },
  {
   "cell_type": "code",
   "execution_count": 15,
   "metadata": {},
   "outputs": [
    {
     "name": "stdout",
     "output_type": "stream",
     "text": [
      "City Name is: Tirupur\n",
      "City Name is: Coimbatore\n"
     ]
    }
   ],
   "source": [
    "#Lets try to print some values from list\n",
    "sampleDict={'capital':\"Chennai\",'Tradition':\"Trichy\",'Industry':\"Coimbatore\",'Cotton':\"Tirupur\"}\n",
    "\n",
    "def testFunct(name):\n",
    "    if('Cotton' in sampleDict.keys()):\n",
    "        return(sampleDict.get(name))  # Key values are returned to where the function was called\n",
    "    else:\n",
    "        print(\"Not known\")\n",
    "    \n",
    "print(\"City Name is:\",testFunct('Cotton'))\n",
    "print(\"City Name is:\",testFunct('Industry'))\n"
   ]
  },
  {
   "cell_type": "code",
   "execution_count": 17,
   "metadata": {},
   "outputs": [
    {
     "name": "stdout",
     "output_type": "stream",
     "text": [
      "After performing different operations of a & b: (15, 5, 50, -5, 2.0)\n"
     ]
    }
   ],
   "source": [
    "#Returning multiple values\n",
    "\n",
    "def calculation(a,b):\n",
    "    return a+b,a-b,a*b,b-a,a/b\n",
    "\n",
    "print(\"After performing different operations of a & b:\",calculation(10,5))"
   ]
  },
  {
   "cell_type": "code",
   "execution_count": 20,
   "metadata": {},
   "outputs": [
    {
     "data": {
      "text/plain": [
       "120"
      ]
     },
     "execution_count": 20,
     "metadata": {},
     "output_type": "execute_result"
    }
   ],
   "source": [
    "#Recursive functions- these are the functions that call itself again and again\n",
    "\n",
    "#Lets take the example of a factorial\n",
    "def fact(num):   \n",
    "    if(num==1):\n",
    "        return(num)\n",
    "    else:\n",
    "        return(num*fact(num-1))   #this function in turn calls th fact function above again  \n",
    "    \n",
    "fact(5)  #executes just once\n",
    "    "
   ]
  },
  {
   "cell_type": "code",
   "execution_count": null,
   "metadata": {},
   "outputs": [],
   "source": []
  }
 ],
 "metadata": {
  "kernelspec": {
   "display_name": "Python 3",
   "language": "python",
   "name": "python3"
  },
  "language_info": {
   "codemirror_mode": {
    "name": "ipython",
    "version": 3
   },
   "file_extension": ".py",
   "mimetype": "text/x-python",
   "name": "python",
   "nbconvert_exporter": "python",
   "pygments_lexer": "ipython3",
   "version": "3.7.6"
  }
 },
 "nbformat": 4,
 "nbformat_minor": 4
}
