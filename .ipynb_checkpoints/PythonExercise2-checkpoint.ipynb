{
 "cells": [
  {
   "cell_type": "markdown",
   "metadata": {},
   "source": [
    "# Python Exercise 2"
   ]
  },
  {
   "cell_type": "markdown",
   "metadata": {},
   "source": [
    "# 1. Write a Python program to find those numbers which are divisible by 7 and multiple of 5, between 1500 and 2700 (both included)."
   ]
  },
  {
   "cell_type": "code",
   "execution_count": 4,
   "metadata": {},
   "outputs": [
    {
     "name": "stdout",
     "output_type": "stream",
     "text": [
      "1505\n",
      "1540\n",
      "1575\n",
      "1610\n",
      "1645\n",
      "1680\n",
      "1715\n",
      "1750\n",
      "1785\n",
      "1820\n",
      "1855\n",
      "1890\n",
      "1925\n",
      "1960\n",
      "1995\n",
      "2030\n",
      "2065\n",
      "2100\n",
      "2135\n",
      "2170\n",
      "2205\n",
      "2240\n",
      "2275\n",
      "2310\n",
      "2345\n",
      "2380\n",
      "2415\n",
      "2450\n",
      "2485\n",
      "2520\n",
      "2555\n",
      "2590\n",
      "2625\n",
      "2660\n",
      "2695\n"
     ]
    }
   ],
   "source": [
    "for i in range(1500,2700):\n",
    "    if(i % 7==0 and i % 5 ==0 ):\n",
    "        print(i)\n",
    "    else:\n",
    "        continue"
   ]
  },
  {
   "cell_type": "markdown",
   "metadata": {},
   "source": [
    "# 2. Write a Python program to construct the following pattern, using a nested for loop."
   ]
  },
  {
   "cell_type": "code",
   "execution_count": 68,
   "metadata": {},
   "outputs": [
    {
     "name": "stdout",
     "output_type": "stream",
     "text": [
      "\n",
      "*  \n",
      "*  *  \n",
      "*  *  *  \n",
      "*  *  *  *  \n",
      "*  *  *  *  *  \n",
      "*  *  *  *  \n",
      "*  *  *  \n",
      "*  *  \n",
      "*  \n"
     ]
    }
   ],
   "source": [
    "for i in range(0,5):\n",
    "    print()\n",
    "    for j in range(0,i+1):\n",
    "        print('*',end='  ')\n",
    "for i in range(5,0,-1):\n",
    "    print()\n",
    "    for j in range(i-1,0,-1):\n",
    "        print('*',end='  ')\n",
    "    \n"
   ]
  },
  {
   "cell_type": "markdown",
   "metadata": {},
   "source": [
    "# 3. Write a Python program to count the number of even and odd numbers from a series of numbers."
   ]
  },
  {
   "cell_type": "code",
   "execution_count": 9,
   "metadata": {},
   "outputs": [
    {
     "name": "stdout",
     "output_type": "stream",
     "text": [
      "Number of even numbers: 4\n",
      "Number of Odd numbers: 5\n"
     ]
    }
   ],
   "source": [
    "n,m=0,0\n",
    "for i in range(11,20):\n",
    "    if(i % 2==0 ):\n",
    "        n=n+1\n",
    "    else:\n",
    "        m=m+1\n",
    "print(\"Number of even numbers:\",n)\n",
    "print(\"Number of Odd numbers:\",m)"
   ]
  },
  {
   "cell_type": "markdown",
   "metadata": {},
   "source": [
    "# 4. Write a Python program to find numbers between 100 and 400 (both included) where each digit of a number is an even number. The numbers obtained should be printed in a comma-separated sequence.¶"
   ]
  },
  {
   "cell_type": "code",
   "execution_count": 47,
   "metadata": {},
   "outputs": [
    {
     "name": "stdout",
     "output_type": "stream",
     "text": [
      "['200', '202', '204', '206', '208', '220', '222', '224', '226', '228', '240', '242', '244', '246', '248', '260', '262', '264', '266', '268', '280', '282', '284', '286', '288', '400']\n",
      "200,202,204,206,208,220,222,224,226,228,240,242,244,246,248,260,262,264,266,268,280,282,284,286,288,400\n"
     ]
    }
   ],
   "source": [
    "finallist=[]\n",
    "for i in range(100,401):\n",
    "    i=str(i)\n",
    "    if(int(i[0])%2==0 and int(i[1])%2==0 and int(i[2])%2==0):\n",
    "                finallist.append(i)\n",
    "       \n",
    "    #print(\",\".join(finallist))\n",
    "print(finallist)\n",
    "print(\",\".join(finallist))"
   ]
  },
  {
   "cell_type": "markdown",
   "metadata": {},
   "source": [
    "# 5. Write a Python program to calculate a dog's age in dog's years. Go to the editor¶"
   ]
  },
  {
   "cell_type": "code",
   "execution_count": null,
   "metadata": {},
   "outputs": [],
   "source": [
    "Note: For the first two years, a dog year is equal to 10.5 human years. After that, each dog year equals 4 human years."
   ]
  },
  {
   "cell_type": "code",
   "execution_count": 7,
   "metadata": {},
   "outputs": [
    {
     "name": "stdout",
     "output_type": "stream",
     "text": [
      "Input a dog's age in human years:20\n",
      "The dog's age in dog's years is  82.5\n"
     ]
    }
   ],
   "source": [
    "dogAge=float(input(\"Input a dog's age in human years:\"))\n",
    "if(dogAge <=2):\n",
    "    print(\"The dog's age in dog's years is \",10.5)\n",
    "else:\n",
    "    dogAge=dogAge-2\n",
    "    print(\"The dog's age in dog's years is \",10.5+dogAge*4)"
   ]
  },
  {
   "cell_type": "markdown",
   "metadata": {},
   "source": [
    "# 6. Write a Python function to find the Max of three numbers."
   ]
  },
  {
   "cell_type": "code",
   "execution_count": 7,
   "metadata": {},
   "outputs": [
    {
     "name": "stdout",
     "output_type": "stream",
     "text": [
      "the 1st number is:3\n",
      "the 2nd number is:6\n",
      "the 3rd number is:-5\n",
      "6\n"
     ]
    }
   ],
   "source": [
    "num1 = input(\"the 1st number is:\")\n",
    "num2 = input(\"the 2nd number is:\")\n",
    "num3 = input(\"the 3rd number is:\")\n",
    "if(num1>num2):\n",
    "    if(num1>num3):\n",
    "        print(num1)\n",
    "    else:\n",
    "        print(num3)\n",
    "elif(num2>num3):\n",
    "    print(num2)\n",
    "else:\n",
    "    print(num3)"
   ]
  },
  {
   "cell_type": "code",
   "execution_count": 10,
   "metadata": {},
   "outputs": [
    {
     "name": "stdout",
     "output_type": "stream",
     "text": [
      "the 1st number is:3\n",
      "the 2nd number is:6\n",
      "the 3rd number is:-5\n",
      "6\n"
     ]
    }
   ],
   "source": [
    "#another way of finding the max is\n",
    "num1 = input(\"the 1st number is:\")\n",
    "num2 = input(\"the 2nd number is:\")\n",
    "num3 = input(\"the 3rd number is:\")\n",
    "if(num1>num2 and num1>num3 ):\n",
    "        print(num1)\n",
    "elif num2>num1 and num2>num3:\n",
    "    print(num2)\n",
    "else:\n",
    "    print(num3)"
   ]
  },
  {
   "cell_type": "code",
   "execution_count": 8,
   "metadata": {},
   "outputs": [
    {
     "data": {
      "text/plain": [
       "'6'"
      ]
     },
     "execution_count": 8,
     "metadata": {},
     "output_type": "execute_result"
    }
   ],
   "source": [
    "#another way of finding the max is\n",
    "max(num1,num2,num3)"
   ]
  },
  {
   "cell_type": "markdown",
   "metadata": {},
   "source": [
    "# 7. Write a Python function that takes a number as a parameter and check the number is prime or not."
   ]
  },
  {
   "cell_type": "code",
   "execution_count": 33,
   "metadata": {},
   "outputs": [
    {
     "name": "stdout",
     "output_type": "stream",
     "text": [
      "The number is:5\n",
      "3\n",
      "is the number prime?: True\n"
     ]
    }
   ],
   "source": [
    "def findPrime(n):\n",
    "    if n==2:\n",
    "        return True\n",
    "    \n",
    "    else:\n",
    "        print(int((n/2)+1))\n",
    "        end=int((n/2)+1)\n",
    "        for i in range(2,end):\n",
    "            if(n % i ==0):\n",
    "                return False\n",
    "            else:\n",
    "                return True\n",
    "        \n",
    "n=int(input(\"The number is:\"))\n",
    "print(\"is the number prime?:\", findPrime(n))"
   ]
  },
  {
   "cell_type": "markdown",
   "metadata": {},
   "source": [
    "# 8. Write a Python function that accepts a string and calculate the number of upper case letters and lower case letters. Go to the editor¶"
   ]
  },
  {
   "cell_type": "code",
   "execution_count": 13,
   "metadata": {},
   "outputs": [
    {
     "name": "stdout",
     "output_type": "stream",
     "text": [
      "Original String:Inceptz is One of The BeSt Places TO LEarn DataSciEnce\n",
      "No. of Upper case characters : 13\n",
      "No. of Lower case Characters 32\n"
     ]
    }
   ],
   "source": [
    "name=input(\"Original String:\")\n",
    "countUp=0\n",
    "countLow=0\n",
    "for i in name:\n",
    "    if i.isupper():\n",
    "        countUp=countUp+1\n",
    "    elif i.islower():\n",
    "        countLow+=1\n",
    "\n",
    "print(\"No. of Upper case characters :\",countUp)\n",
    "print(\"No. of Lower case Characters\",countLow)\n",
    "       \n",
    "    \n",
    "    "
   ]
  },
  {
   "cell_type": "markdown",
   "metadata": {},
   "source": [
    "# 9. Write a Python program to reverse a string."
   ]
  },
  {
   "cell_type": "code",
   "execution_count": 18,
   "metadata": {},
   "outputs": [
    {
     "name": "stdout",
     "output_type": "stream",
     "text": [
      "The original string is:1234abcd\n",
      "Reversed string: dcba4321\n"
     ]
    }
   ],
   "source": [
    "name=input(\"The original string is:\")\n",
    "print(\"Reversed string:\",name[len(name)::-1])"
   ]
  },
  {
   "cell_type": "code",
   "execution_count": 5,
   "metadata": {},
   "outputs": [
    {
     "name": "stdout",
     "output_type": "stream",
     "text": [
      "The original string is:1234abcd\n",
      "dcba4321\n"
     ]
    }
   ],
   "source": [
    "#another way of writing the program\n",
    "name=input(\"The original string is:\")\n",
    "reversed=\"\"\n",
    "for i in range(len(name)-1,-1,-1):\n",
    "    reversed=reversed+name[i]\n",
    "print(reversed)"
   ]
  },
  {
   "cell_type": "markdown",
   "metadata": {},
   "source": [
    "# 10. Write a Python program to find the greatest common divisor (gcd) of two integers.¶"
   ]
  },
  {
   "cell_type": "code",
   "execution_count": 13,
   "metadata": {},
   "outputs": [
    {
     "name": "stdout",
     "output_type": "stream",
     "text": [
      "The 1st number is:12\n",
      "The 2nd number is:14\n",
      "The GCD of the numbers are: 2\n"
     ]
    }
   ],
   "source": [
    "num1=int(input(\"The 1st number is:\"))\n",
    "num2= int(input(\"The 2nd number is:\"))\n",
    "if(num1>num2):\n",
    "    minimum=num1\n",
    "else:\n",
    "    minimum=num2\n",
    "for i in range(1,minimum+1):         # another way is while loop\n",
    "    if num1%i==0 and num2%i==0 :\n",
    "        gcd=i\n",
    "    i=i+1\n",
    "print(\"The GCD of the numbers are:\",gcd)"
   ]
  },
  {
   "cell_type": "code",
   "execution_count": null,
   "metadata": {},
   "outputs": [],
   "source": []
  }
 ],
 "metadata": {
  "kernelspec": {
   "display_name": "Python 3",
   "language": "python",
   "name": "python3"
  },
  "language_info": {
   "codemirror_mode": {
    "name": "ipython",
    "version": 3
   },
   "file_extension": ".py",
   "mimetype": "text/x-python",
   "name": "python",
   "nbconvert_exporter": "python",
   "pygments_lexer": "ipython3",
   "version": "3.7.6"
  }
 },
 "nbformat": 4,
 "nbformat_minor": 4
}
