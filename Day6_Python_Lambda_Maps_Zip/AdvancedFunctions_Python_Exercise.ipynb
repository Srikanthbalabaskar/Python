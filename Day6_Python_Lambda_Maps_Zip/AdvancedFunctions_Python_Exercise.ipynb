{
 "cells": [
  {
   "cell_type": "markdown",
   "metadata": {},
   "source": [
    "# Exercise 1: Write a function to sort the list based on the first letter of the second element"
   ]
  },
  {
   "cell_type": "code",
   "execution_count": 9,
   "metadata": {},
   "outputs": [
    {
     "name": "stdout",
     "output_type": "stream",
     "text": [
      "First List: ['New York', 'Alabama', 'Hawaii', 'Vermont', 'West Virginia', 'California']\n",
      "Second List: [('New York', 19542209), ('Alabama', 4887871), ('Hawaii', 1420491), ('Vermont', 626299), ('West Virginia', 1805832), ('California', 39865590)]\n",
      "New Dict: {'New York': 19542209, 'Alabama': 4887871, 'Hawaii': 1420491, 'Vermont': 626299, 'West Virginia': 1805832, 'California': 39865590}\n",
      "dictof: 19542209\n",
      "y: 4887871\n",
      "dictof: 19542209\n",
      "y: 39865590\n",
      "dictof: 19542209\n",
      "y: 1420491\n",
      "dictof: 19542209\n",
      "y: 19542209\n",
      "dictof: 19542209\n",
      "y: 626299\n",
      "dictof: 19542209\n",
      "y: 1805832\n",
      "Final Output: [(4887871, 'Alabama'), (39865590, 'California'), (1420491, 'Hawaii'), (19542209, 'New York'), (626299, 'Vermont'), (1805832, 'West Virginia')]\n"
     ]
    }
   ],
   "source": [
    "lst=[(19542209, \"New York\") ,(4887871, \"Alabama\"), (1420491, \"Hawaii\"), (626299, \"Vermont\"), \n",
    "     (1805832, \"West Virginia\"), (39865590, \"California\")]\n",
    "lst1=[x[1] for x in lst]\n",
    "print(\"First List:\",lst1)\n",
    "lst1.sort()\n",
    "lst2=[(x[1],x[0]) for x in lst]\n",
    "print(\"Second List:\",lst2)\n",
    "new_dict=dict(lst2)\n",
    "print(\"New Dict:\",new_dict)\n",
    "lst3=[]\n",
    "for x in lst1:\n",
    "    y= new_dict[x]\n",
    "    print(\"dictof:\",new_dict['New York'])\n",
    "    print(\"y:\",y)\n",
    "    lst3.append((y,x))\n",
    "print(\"Final Output:\",lst3)"
   ]
  },
  {
   "cell_type": "code",
   "execution_count": 18,
   "metadata": {},
   "outputs": [
    {
     "name": "stdout",
     "output_type": "stream",
     "text": [
      "4887871 Alabama\n",
      "39865590 California\n",
      "1420491 Hawaii\n",
      "19542209 New York\n",
      "626299 Vermont\n",
      "1805832 West Virginia\n"
     ]
    }
   ],
   "source": [
    "lst=[(19542209, \"New York\") ,(4887871, \"Alabama\"), (1420491, \"Hawaii\"), (626299, \"Vermont\"), \n",
    "     (1805832, \"West Virginia\"), (39865590, \"California\")]\n",
    "lst.sort(key=lambda x:x[1])\n",
    "#print(\"Final List:\", final_lst)\n",
    "for i,j in lst:\n",
    "    print(i,j)"
   ]
  },
  {
   "cell_type": "code",
   "execution_count": 20,
   "metadata": {},
   "outputs": [
    {
     "name": "stdout",
     "output_type": "stream",
     "text": [
      "Original List: [(19542209, 'New York'), (4887871, 'Alabama'), (1420491, 'Hawaii'), (626299, 'Vermont'), (1805832, 'West Virginia'), (39865590, 'California')]\n",
      "Sorted List: [(4887871, 'Alabama'), (39865590, 'California'), (1420491, 'Hawaii'), (19542209, 'New York'), (626299, 'Vermont'), (1805832, 'West Virginia')]\n"
     ]
    }
   ],
   "source": [
    "lst=[(19542209, \"New York\") ,(4887871, \"Alabama\"), (1420491, \"Hawaii\"), (626299, \"Vermont\"), \n",
    "     (1805832, \"West Virginia\"), (39865590, \"California\")]\n",
    "def sort(lst1):\n",
    "    lst1.sort(key=lambda x:x[1])\n",
    "    return lst1\n",
    "print(\"Original List:\",lst)\n",
    "print(\"Sorted List:\",sort(lst))"
   ]
  },
  {
   "cell_type": "markdown",
   "metadata": {},
   "source": [
    "# Exercise 2: Write a function to sort the list based on the last letter of the second element"
   ]
  },
  {
   "cell_type": "code",
   "execution_count": 29,
   "metadata": {},
   "outputs": [
    {
     "name": "stdout",
     "output_type": "stream",
     "text": [
      "Original List: [(19542209, 'New York'), (4887871, 'Alabama'), (1420491, 'Hawaii'), (626299, 'Vermont'), (1805832, 'West Virginia'), (39865590, 'California')]\n",
      "Sorted List: [(1805832, 'West Virginia'), (39865590, 'California'), (4887871, 'Alabama'), (1420491, 'Hawaii'), (19542209, 'New York'), (626299, 'Vermont')]\n"
     ]
    }
   ],
   "source": [
    "org_lst=[(19542209, \"New York\") ,(4887871, \"Alabama\"), (1420491, \"Hawaii\"), (626299, \"Vermont\"), \n",
    "     (1805832, \"West Virginia\"), (39865590, \"California\")]\n",
    "\n",
    "def sort(lst):\n",
    "    lst.sort(key=lambda x:x[1][::-1])\n",
    "    return lst\n",
    "print(\"Original List:\",org_lst)\n",
    "print(\"Sorted List:\",sort(org_lst))"
   ]
  },
  {
   "cell_type": "code",
   "execution_count": 12,
   "metadata": {},
   "outputs": [
    {
     "data": {
      "text/plain": [
       "'annaK'"
      ]
     },
     "execution_count": 12,
     "metadata": {},
     "output_type": "execute_result"
    }
   ],
   "source": [
    "lst=['Sri','Kanna','Mani']\n",
    "lst[1][::-1]"
   ]
  },
  {
   "cell_type": "markdown",
   "metadata": {},
   "source": [
    "# Exercise 3: Create a range from 1 to 8 merge the given list and together to create a new list of tuples."
   ]
  },
  {
   "cell_type": "code",
   "execution_count": 37,
   "metadata": {},
   "outputs": [
    {
     "data": {
      "text/plain": [
       "array([1, 2, 3, 4, 5, 6, 7])"
      ]
     },
     "execution_count": 37,
     "metadata": {},
     "output_type": "execute_result"
    }
   ],
   "source": [
    "import numpy as np\n",
    "lst1=[\"Energy\", \"Agriculture\", \"Industry\", \"Technology\", \"Finance\", \"Forestry\", \"Transport\"]\n",
    "lst2=np.arange(1,8)\n",
    "lst2"
   ]
  },
  {
   "cell_type": "code",
   "execution_count": 39,
   "metadata": {},
   "outputs": [
    {
     "name": "stdout",
     "output_type": "stream",
     "text": [
      "zip <zip object at 0x00000209875F8148>\n",
      "Final List: [('Energy', 1), ('Agriculture', 2), ('Industry', 3), ('Technology', 4), ('Finance', 5), ('Forestry', 6), ('Transport', 7)]\n"
     ]
    }
   ],
   "source": [
    "final_lst=list(zip(lst1,lst2))\n",
    "print(\"zip\",zip(lst1,lst2))\n",
    "print(\"Final List:\",final_lst)"
   ]
  },
  {
   "cell_type": "markdown",
   "metadata": {},
   "source": [
    "# Exercise 4: Write a function and create a list consisted of the number of occurence of letter: a (all a's)."
   ]
  },
  {
   "cell_type": "code",
   "execution_count": 47,
   "metadata": {},
   "outputs": [
    {
     "name": "stdout",
     "output_type": "stream",
     "text": [
      "Count: [3, 2, 3, 3, 3, 3, 3]\n"
     ]
    }
   ],
   "source": [
    "lst1=[\"Antartica\", \"America\", \"Armania\", \"Australia\", \"Albania\", \"Afganistan\",\"Alaska\"]\n",
    "lst2=[]\n",
    "for i in lst1:\n",
    "    count=0\n",
    "    for j in i:\n",
    "         if(j=='a' or j=='A'):\n",
    "                count+=1\n",
    "    lst2.append(count)    \n",
    "print(\"Count:\",lst2)"
   ]
  },
  {
   "cell_type": "code",
   "execution_count": 57,
   "metadata": {},
   "outputs": [
    {
     "name": "stdout",
     "output_type": "stream",
     "text": [
      "New List= [3, 2, 3, 3, 3, 3, 3]\n"
     ]
    }
   ],
   "source": [
    "#Another way of looping\n",
    "lst1=[\"Antartica\", \"America\", \"Armania\", \"Australia\", \"Albania\", \"Afganistan\",\"Alaska\"]\n",
    "new_lst=[b.lower().count('a') for b in lst1]\n",
    "print(\"New List=\",new_lst)"
   ]
  },
  {
   "cell_type": "markdown",
   "metadata": {},
   "source": [
    "# Exercise 5: Write a function filter all the vowels in a given string using filter."
   ]
  },
  {
   "cell_type": "code",
   "execution_count": 78,
   "metadata": {},
   "outputs": [],
   "source": [
    "str1=\"Inceptz is one of the best institutes to read data science in chennai\"\n",
    "empty_lst=[]"
   ]
  },
  {
   "cell_type": "code",
   "execution_count": 79,
   "metadata": {},
   "outputs": [
    {
     "name": "stdout",
     "output_type": "stream",
     "text": [
      "Final Output: ['I', 'e', 'i', 'o', 'e', 'o', 'e', 'e', 'i', 'i', 'u', 'e', 'o', 'e', 'a', 'a', 'a', 'i', 'e', 'e', 'i', 'e', 'a', 'i']\n"
     ]
    }
   ],
   "source": [
    "#Without filter\n",
    "vowels=['a','e','i','o','u','A','E','I','O','U']\n",
    "for i in str1:\n",
    "     if(i in vowels):\n",
    "        empty_lst.append(i)\n",
    "print(\"Final Output:\",empty_lst)"
   ]
  },
  {
   "cell_type": "code",
   "execution_count": 81,
   "metadata": {},
   "outputs": [
    {
     "name": "stdout",
     "output_type": "stream",
     "text": [
      "Final Output: ['I', 'e', 'i', 'o', 'e', 'o', 'e', 'e', 'i', 'i', 'u', 'e', 'o', 'e', 'a', 'a', 'a', 'i', 'e', 'e', 'i', 'e', 'a', 'i']\n"
     ]
    }
   ],
   "source": [
    "#With Filter\n",
    "str1=\"Inceptz is one of the best institutes to read data science in chennai\"\n",
    "empty_lst1=[]\n",
    "vowels=['a','e','i','o','u','A','E','I','O','U']\n",
    "filter([empty_lst1.append(i) for i in str1 if i in vowels],str1)\n",
    "print(\"Final Output:\",empty_lst1)"
   ]
  },
  {
   "cell_type": "markdown",
   "metadata": {},
   "source": [
    "# Exercise 6: Write a function to create a list as the square of elements from the given list if the square is greater than 60 "
   ]
  },
  {
   "cell_type": "code",
   "execution_count": 86,
   "metadata": {},
   "outputs": [
    {
     "name": "stdout",
     "output_type": "stream",
     "text": [
      "Final Output: [64, 81, 100, 144, 196]\n"
     ]
    }
   ],
   "source": [
    "lst1=[5, 6, 7 , 8, 9, 10, 12, 14]\n",
    "lst2=[]\n",
    "def sq(nos):\n",
    "    for i in nos:\n",
    "        if(i*i >60):\n",
    "            lst2.append(i*i)\n",
    "    return lst2\n",
    "print(\"Final Output:\",sq(lst1))"
   ]
  },
  {
   "cell_type": "code",
   "execution_count": 90,
   "metadata": {},
   "outputs": [
    {
     "name": "stdout",
     "output_type": "stream",
     "text": [
      "Final List: [64, 81, 100, 144, 196]\n"
     ]
    }
   ],
   "source": [
    "#Another way\n",
    "lst1=[5, 6, 7 , 8, 9, 10, 12, 14]\n",
    "lst3=[x*x for x in lst1 if x*x >60]\n",
    "print(\"Final List:\",lst3)"
   ]
  },
  {
   "cell_type": "markdown",
   "metadata": {},
   "source": [
    "# Exercise 7: take the words given below as list and write a function and use reduce to make it a sentence"
   ]
  },
  {
   "cell_type": "code",
   "execution_count": 94,
   "metadata": {},
   "outputs": [
    {
     "name": "stdout",
     "output_type": "stream",
     "text": [
      "Final Sentence: Inceptz provides the best inclass trainings and is the best\n"
     ]
    }
   ],
   "source": [
    "from functools import reduce \n",
    "sent_lst=['Inceptz','provides','the','best','inclass','trainings','and','is','the','best']\n",
    "\n",
    "def fin(word1,word2):\n",
    "    return word1+\" \"+word2\n",
    "final=reduce(fin,sent_lst)\n",
    "print(\"Final Sentence:\",final)"
   ]
  }
 ],
 "metadata": {
  "kernelspec": {
   "display_name": "Python 3",
   "language": "python",
   "name": "python3"
  },
  "language_info": {
   "codemirror_mode": {
    "name": "ipython",
    "version": 3
   },
   "file_extension": ".py",
   "mimetype": "text/x-python",
   "name": "python",
   "nbconvert_exporter": "python",
   "pygments_lexer": "ipython3",
   "version": "3.7.6"
  }
 },
 "nbformat": 4,
 "nbformat_minor": 4
}
