{
 "cells": [
  {
   "cell_type": "markdown",
   "metadata": {},
   "source": [
    "Here we shall look at few advanced functions in Python such as Lambda, Map, Zip, Emumerate,Reduce, Filter"
   ]
  },
  {
   "cell_type": "code",
   "execution_count": 4,
   "metadata": {},
   "outputs": [],
   "source": [
    "#Lets Write a normal function to find Square of 2 numbers\n",
    "def square(x):\n",
    "    return x*x"
   ]
  },
  {
   "cell_type": "code",
   "execution_count": 5,
   "metadata": {},
   "outputs": [
    {
     "data": {
      "text/plain": [
       "9"
      ]
     },
     "execution_count": 5,
     "metadata": {},
     "output_type": "execute_result"
    }
   ],
   "source": [
    "square(3)"
   ]
  },
  {
   "cell_type": "markdown",
   "metadata": {},
   "source": [
    "# Lambda Function"
   ]
  },
  {
   "cell_type": "markdown",
   "metadata": {},
   "source": [
    "Anonymous functions are something which has no names. Here we are gonna perform the above Square function using Lambda. Do note that Lambda is a keyword and not the name of the function "
   ]
  },
  {
   "cell_type": "markdown",
   "metadata": {},
   "source": [
    "Syntax for Lambda Function is 'lambda arguments:operation'\n",
    "Also note that a Lambda function can take N parametters but just can perform one operation. It is like an use & Throw Function"
   ]
  },
  {
   "cell_type": "code",
   "execution_count": 6,
   "metadata": {},
   "outputs": [
    {
     "name": "stdout",
     "output_type": "stream",
     "text": [
      "16\n"
     ]
    }
   ],
   "source": [
    "#Square of Two numbers using Lambda\n",
    "y=lambda x:x*x\n",
    "print(y(4))"
   ]
  },
  {
   "cell_type": "markdown",
   "metadata": {},
   "source": [
    "# Map"
   ]
  },
  {
   "cell_type": "markdown",
   "metadata": {},
   "source": [
    "Maps make an iterator that computes the function using arguments from each of the iterables.Stops when the shortest iterable is exhausted.\n",
    "Syntax of map is 'map(function,iterators)"
   ]
  },
  {
   "cell_type": "code",
   "execution_count": 7,
   "metadata": {},
   "outputs": [],
   "source": [
    "#Lets first perform an example without Map"
   ]
  },
  {
   "cell_type": "code",
   "execution_count": 15,
   "metadata": {},
   "outputs": [
    {
     "data": {
      "text/plain": [
       "['JACK', 'SPARROW', 'HARRY', 'POTTER']"
      ]
     },
     "execution_count": 15,
     "metadata": {},
     "output_type": "execute_result"
    }
   ],
   "source": [
    "myfriends = ['jack','sparrow','harry','potter']\n",
    "uppercase=[]\n",
    "\n",
    "for i in myfriends:\n",
    "        uppercase.append(i.upper())\n",
    "uppercase"
   ]
  },
  {
   "cell_type": "code",
   "execution_count": 16,
   "metadata": {},
   "outputs": [
    {
     "data": {
      "text/plain": [
       "<map at 0x2aed8dd3cc8>"
      ]
     },
     "execution_count": 16,
     "metadata": {},
     "output_type": "execute_result"
    }
   ],
   "source": [
    "#Lets perform the same operation using Map\n",
    "output=map(str.upper,myfriends)\n",
    "output\n",
    "#Note that the output generated is something with type of map, we are not getting the values"
   ]
  },
  {
   "cell_type": "code",
   "execution_count": 18,
   "metadata": {},
   "outputs": [
    {
     "data": {
      "text/plain": [
       "['JACK', 'SPARROW', 'HARRY', 'POTTER']"
      ]
     },
     "execution_count": 18,
     "metadata": {},
     "output_type": "execute_result"
    }
   ],
   "source": [
    "#To get the values as Output we need to convert as List\n",
    "output=list(map(str.upper,myfriends))\n",
    "output"
   ]
  },
  {
   "cell_type": "code",
   "execution_count": 19,
   "metadata": {},
   "outputs": [
    {
     "name": "stdout",
     "output_type": "stream",
     "text": [
      "5\n",
      "2\n",
      "9\n",
      "11\n",
      "1\n",
      "5\n"
     ]
    }
   ],
   "source": [
    "#Rounding off Float Number without Map\n",
    "float_numbers = [4.77,2.33,9.02,10.67,0.66,4.67]\n",
    "for i in float_numbers:\n",
    "    print(round(i))"
   ]
  },
  {
   "cell_type": "code",
   "execution_count": 21,
   "metadata": {},
   "outputs": [
    {
     "name": "stdout",
     "output_type": "stream",
     "text": [
      "[5, 2, 9, 11, 1, 5]\n"
     ]
    }
   ],
   "source": [
    "#Rounding off Float Number using Map\n",
    "float_numbers = [4.77,2.33,9.02,10.67,0.66,4.67]\n",
    "s=list(map(round,float_numbers))\n",
    "print(s)"
   ]
  },
  {
   "cell_type": "markdown",
   "metadata": {},
   "source": [
    "Otherways of rounding using Map"
   ]
  },
  {
   "cell_type": "code",
   "execution_count": 23,
   "metadata": {},
   "outputs": [
    {
     "name": "stdout",
     "output_type": "stream",
     "text": [
      "[5.0, 2.0, 9.0, 11.0, 1.0, 5.0]\n"
     ]
    }
   ],
   "source": [
    "float_numbers =[4.77,2.33,9.02,10.67,0.66,4.67]\n",
    "round_func = [round(num,0) for num in float_numbers]\n",
    "print (round_func)"
   ]
  },
  {
   "cell_type": "code",
   "execution_count": 24,
   "metadata": {},
   "outputs": [
    {
     "name": "stdout",
     "output_type": "stream",
     "text": [
      "[5, 2, 9, 11, 1, 5]\n"
     ]
    }
   ],
   "source": [
    "float_numbers = [4.77,2.33,9.02,10.67,0.66,4.67]\n",
    "result = map(lambda number: round(number), float_numbers)\n",
    "print(list(result))"
   ]
  },
  {
   "cell_type": "code",
   "execution_count": 25,
   "metadata": {},
   "outputs": [
    {
     "data": {
      "text/plain": [
       "[5, 2, 9, 11, 1, 5]"
      ]
     },
     "execution_count": 25,
     "metadata": {},
     "output_type": "execute_result"
    }
   ],
   "source": [
    "float_numbers = [4.77,2.33,9.02,10.67,0.66,4.67]\n",
    "[round(i) for i in float_numbers]"
   ]
  },
  {
   "cell_type": "markdown",
   "metadata": {},
   "source": [
    "# Not Anonymous-Zip & Emumerate"
   ]
  },
  {
   "cell_type": "markdown",
   "metadata": {},
   "source": [
    "# Zip"
   ]
  },
  {
   "cell_type": "markdown",
   "metadata": {},
   "source": [
    "#### Zip is used to iterate over 2 lists in parallel. Keyword 'zip' is used"
   ]
  },
  {
   "cell_type": "code",
   "execution_count": 27,
   "metadata": {},
   "outputs": [
    {
     "name": "stdout",
     "output_type": "stream",
     "text": [
      "8\n",
      "9\n",
      "10\n",
      "11\n",
      "12\n",
      "13\n",
      "9\n",
      "10\n",
      "11\n",
      "12\n",
      "13\n",
      "14\n",
      "10\n",
      "11\n",
      "12\n",
      "13\n",
      "14\n",
      "15\n",
      "11\n",
      "12\n",
      "13\n",
      "14\n",
      "15\n",
      "16\n",
      "12\n",
      "13\n",
      "14\n",
      "15\n",
      "16\n",
      "17\n",
      "13\n",
      "14\n",
      "15\n",
      "16\n",
      "17\n",
      "18\n"
     ]
    }
   ],
   "source": [
    "#Lets take an example of nested for loop to add two lists\n",
    "a=[1,2,3,4,5,6]\n",
    "b=[7,8,9,10,11,12]\n",
    "for i in a:\n",
    "    for j in b:\n",
    "        print(i+j)"
   ]
  },
  {
   "cell_type": "code",
   "execution_count": 26,
   "metadata": {},
   "outputs": [
    {
     "name": "stdout",
     "output_type": "stream",
     "text": [
      "8\n",
      "10\n",
      "12\n",
      "14\n",
      "16\n",
      "18\n"
     ]
    }
   ],
   "source": [
    "a=[1,2,3,4,5,6]\n",
    "b=[7,8,9,10,11,12]\n",
    "for i,j in zip(a,b):\n",
    "    print(i+j)"
   ]
  },
  {
   "cell_type": "code",
   "execution_count": 29,
   "metadata": {},
   "outputs": [
    {
     "name": "stdout",
     "output_type": "stream",
     "text": [
      "8\n",
      "10\n",
      "12\n",
      "14\n",
      "16\n"
     ]
    }
   ],
   "source": [
    "#Lets have 2 List of different sizes\n",
    "a=[1,2,3,4,5,6]\n",
    "b=[7,8,9,10,11]\n",
    "for i,j in zip(a,b):\n",
    "    print(i+j)\n",
    "#Note that List a is of size 6 and list b is of size 5 so the loop runs for only 5 times"
   ]
  },
  {
   "cell_type": "markdown",
   "metadata": {},
   "source": [
    "# Enumerate"
   ]
  },
  {
   "cell_type": "markdown",
   "metadata": {},
   "source": [
    "Enumerate gives indices of List as well in output. Keyword enumerate is used"
   ]
  },
  {
   "cell_type": "code",
   "execution_count": 30,
   "metadata": {},
   "outputs": [
    {
     "name": "stdout",
     "output_type": "stream",
     "text": [
      "0 a\n",
      "1 b\n",
      "2 c\n",
      "3 d\n"
     ]
    }
   ],
   "source": [
    "a=['a','b','c','d']\n",
    "for i,a in enumerate(a):\n",
    "    print(i,a)  #where is the index"
   ]
  },
  {
   "cell_type": "code",
   "execution_count": 31,
   "metadata": {},
   "outputs": [
    {
     "name": "stdout",
     "output_type": "stream",
     "text": [
      "[40, 160, 300, 480]\n",
      "0 40\n",
      "1 160\n",
      "2 300\n",
      "3 480\n"
     ]
    }
   ],
   "source": [
    "#Multiply 2 numbers using Zip & Enumerate\n",
    "\n",
    "list1=[20,40,50,60]\n",
    "list2=[2,4,6,8]\n",
    "lst3=[]\n",
    "for i,j in zip(list1,list2):\n",
    "    lst3.append(i*j)\n",
    "print(lst3)\n",
    "for i,a in enumerate(lst3):\n",
    "    print(i,a)"
   ]
  },
  {
   "cell_type": "code",
   "execution_count": 32,
   "metadata": {},
   "outputs": [
    {
     "name": "stdout",
     "output_type": "stream",
     "text": [
      "0 40\n",
      "1 160\n",
      "2 300\n",
      "3 480\n"
     ]
    }
   ],
   "source": [
    "#Otherway of doing it\n",
    "a = [20,40,50,60]\n",
    "b = [2,4,6,8]\n",
    "\n",
    "for i,(j,k) in enumerate(zip(a,b)):\n",
    "    print(i,j*k)"
   ]
  },
  {
   "cell_type": "code",
   "execution_count": 33,
   "metadata": {},
   "outputs": [
    {
     "name": "stdout",
     "output_type": "stream",
     "text": [
      "[('jack', 1), ('sparrow', 2), ('harry', 3), ('potter', 4)]\n"
     ]
    }
   ],
   "source": [
    "names = ['jack','sparrow','harry','potter']\n",
    "index = [1,2,3,4]\n",
    "with_index = list(zip(names,index))\n",
    "print(with_index)"
   ]
  },
  {
   "cell_type": "markdown",
   "metadata": {},
   "source": [
    "# Make use of Map and Lambda to generate the above name index combo"
   ]
  },
  {
   "cell_type": "code",
   "execution_count": 39,
   "metadata": {},
   "outputs": [
    {
     "name": "stdout",
     "output_type": "stream",
     "text": [
      "(<function <lambda> at 0x000002AED8BE3708>, ['jack', 'sparrow', 'harry', 'potter'], [1, 2, 3, 4])\n"
     ]
    },
    {
     "data": {
      "text/plain": [
       "[('jack', 1), ('sparrow', 2), ('harry', 3), ('potter', 4)]"
      ]
     },
     "execution_count": 39,
     "metadata": {},
     "output_type": "execute_result"
    }
   ],
   "source": [
    "names = ['jack','sparrow','harry','potter']\n",
    "index = [1,2,3,4]\n",
    "l=lambda i,j:(i,j),names,index\n",
    "print(l)\n",
    "s=list(map(lambda i,j:(i,j),names, index))\n",
    "s"
   ]
  },
  {
   "cell_type": "markdown",
   "metadata": {},
   "source": [
    "# Filter"
   ]
  },
  {
   "cell_type": "markdown",
   "metadata": {},
   "source": [
    "Return an iterator yielding those items of iterable for which function(item) is true. If function is None, return the items that are true. Usually returns value after filtering"
   ]
  },
  {
   "cell_type": "code",
   "execution_count": 40,
   "metadata": {},
   "outputs": [
    {
     "name": "stdout",
     "output_type": "stream",
     "text": [
      "35000\n",
      "25000\n"
     ]
    }
   ],
   "source": [
    "salary = [50000,35000,25000,60000]\n",
    "def low_salary(x):\n",
    "    return x<50000\n",
    "for i in salary:\n",
    "    if(low_salary(i)):\n",
    "        print(i)"
   ]
  },
  {
   "cell_type": "code",
   "execution_count": 42,
   "metadata": {},
   "outputs": [
    {
     "name": "stdout",
     "output_type": "stream",
     "text": [
      "False\n",
      "True\n",
      "True\n",
      "False\n"
     ]
    }
   ],
   "source": [
    "#MAP VS FILTER In terms of for loops\n",
    "#MAP\n",
    "salary = [50000,35000,25000,60000]\n",
    "def lower_salary(salaries):\n",
    "    return salaries < 50000\n",
    "\n",
    "for i in salary:\n",
    "    print(lower_salary(i))"
   ]
  },
  {
   "cell_type": "code",
   "execution_count": 46,
   "metadata": {},
   "outputs": [
    {
     "data": {
      "text/plain": [
       "[False, True, True, False]"
      ]
     },
     "execution_count": 46,
     "metadata": {},
     "output_type": "execute_result"
    }
   ],
   "source": [
    "#lets use the actual map function\n",
    "s=list(map(lower_salary,salary))\n",
    "s\n",
    "\n",
    "#Prints Boolean Value"
   ]
  },
  {
   "cell_type": "code",
   "execution_count": 41,
   "metadata": {},
   "outputs": [
    {
     "name": "stdout",
     "output_type": "stream",
     "text": [
      "35000\n",
      "25000\n"
     ]
    }
   ],
   "source": [
    "#Filter\n",
    "salary = [50000,35000,25000,60000]\n",
    "def lower_salary(salaries):\n",
    "    return salaries < 50000\n",
    "\n",
    "for i in salary:\n",
    "    if(lower_salary(i)):\n",
    "        print(i)"
   ]
  },
  {
   "cell_type": "code",
   "execution_count": 47,
   "metadata": {},
   "outputs": [
    {
     "data": {
      "text/plain": [
       "<filter at 0x2aed8a99608>"
      ]
     },
     "execution_count": 47,
     "metadata": {},
     "output_type": "execute_result"
    }
   ],
   "source": [
    "#Output gets printed in filter format\n",
    "filter(lower_salary,salary)"
   ]
  },
  {
   "cell_type": "code",
   "execution_count": 49,
   "metadata": {},
   "outputs": [
    {
     "data": {
      "text/plain": [
       "[35000, 25000]"
      ]
     },
     "execution_count": 49,
     "metadata": {},
     "output_type": "execute_result"
    }
   ],
   "source": [
    "#Change to list to fetch the output\n",
    "list(filter(lower_salary,salary))"
   ]
  },
  {
   "cell_type": "markdown",
   "metadata": {},
   "source": [
    "Note that Map gives Boolean as Output but filter provides the actual values as Output"
   ]
  },
  {
   "cell_type": "markdown",
   "metadata": {},
   "source": [
    "# List Comprehension"
   ]
  },
  {
   "cell_type": "code",
   "execution_count": 63,
   "metadata": {},
   "outputs": [
    {
     "name": "stdout",
     "output_type": "stream",
     "text": [
      "inceptz\n",
      "inceptz\n",
      "batch13\n",
      "class\n",
      "0:00:00\n"
     ]
    }
   ],
   "source": [
    "import datetime\n",
    "start=datetime.datetime.now()\n",
    "words = ['inceptz','batch13','pythn','class']\n",
    "vowels = ['a','e','i','o','u']\n",
    "\n",
    "for i in words:\n",
    "    for j in i:\n",
    "        if(j in vowels):\n",
    "            print(i)\n",
    "print((datetime.datetime.now()-start)*1000)"
   ]
  },
  {
   "cell_type": "code",
   "execution_count": 67,
   "metadata": {},
   "outputs": [
    {
     "name": "stdout",
     "output_type": "stream",
     "text": [
      "inceptz\n",
      "batch13\n",
      "class\n",
      "0:00:00\n"
     ]
    }
   ],
   "source": [
    "#Another way to reduce the loop\n",
    "start=datetime.datetime.now()\n",
    "words = ['inceptz','batch13','pythn','class']\n",
    "vowels = ['a','e','i','o','u']\n",
    "for i in words:\n",
    "    word = list(i)\n",
    "    if(any(k in vowels for k in word)):   #any returns True if a condition is satisfied\n",
    "         print(i)\n",
    "print((datetime.datetime.now()-start)*1000)"
   ]
  },
  {
   "cell_type": "code",
   "execution_count": 77,
   "metadata": {},
   "outputs": [
    {
     "name": "stdout",
     "output_type": "stream",
     "text": [
      "['inceptz', 'inceptz', 'batch13', 'class']\n",
      "0:00:00\n"
     ]
    }
   ],
   "source": [
    "#Another way of reducing the list\n",
    "start = datetime.datetime.now()\n",
    "h=[i for i in words for j in i  if j in vowels]\n",
    "print(h)\n",
    "print((datetime.datetime.now() - start)*1000)\n",
    "# the 1st i gets printed"
   ]
  },
  {
   "cell_type": "code",
   "execution_count": 78,
   "metadata": {},
   "outputs": [
    {
     "data": {
      "text/plain": [
       "[10, 20, 50, 60]"
      ]
     },
     "execution_count": 78,
     "metadata": {},
     "output_type": "execute_result"
    }
   ],
   "source": [
    "list_10 = [10,20,50,60]\n",
    "[i for i in list_10]"
   ]
  },
  {
   "cell_type": "code",
   "execution_count": 36,
   "metadata": {},
   "outputs": [
    {
     "name": "stdout",
     "output_type": "stream",
     "text": [
      "['inceptz', 'inceptz', 'batch13', 'class']\n",
      "['inceptz', 'batch13', 'class']\n"
     ]
    }
   ],
   "source": [
    "#Print words that has vowels\n",
    "words = ['inceptz','batch13','pythn','class']\n",
    "vowels = ['a','e','i','o','u']\n",
    "lst=[]\n",
    "lst1=[]\n",
    "#for i in vowels:\n",
    "#    print(i)\n",
    "for j in words:\n",
    "    for k in j:\n",
    "        for i in vowels:\n",
    "            if(i==k):\n",
    "                lst.append(j)\n",
    "                break\n",
    "            else:\n",
    "                continue     \n",
    "print(lst)\n",
    "for z in lst:\n",
    "    if z not in lst1:\n",
    "        lst1.append(z)\n",
    "print(lst1)"
   ]
  },
  {
   "cell_type": "markdown",
   "metadata": {},
   "source": [
    "# Reduce"
   ]
  },
  {
   "cell_type": "markdown",
   "metadata": {},
   "source": [
    "Docstring: reduce(function, sequence[, initial]) -> value\n",
    "\n",
    "Apply a function of two arguments cumulatively to the items of a sequence, from left to right,\n",
    "so as to reduce the sequence to a single value. For example, reduce(lambda x, y: x+y, [1, 2, 3, 4, 5]) \n",
    "calculates ((((1+2)+3)+4)+5). If initial is present, it is placed before the items of the sequence in \n",
    "the calculation, and serves as a default when the sequence is empty."
   ]
  },
  {
   "cell_type": "code",
   "execution_count": 85,
   "metadata": {},
   "outputs": [
    {
     "name": "stdout",
     "output_type": "stream",
     "text": [
      "49\n"
     ]
    }
   ],
   "source": [
    "from functools import reduce\n",
    "\n",
    "nos=[1,2,7,9,10,20]\n",
    "\n",
    "def sum_nos(first,second):\n",
    "    return first+second\n",
    "sum=reduce(sum_nos,nos)\n",
    "print(sum)"
   ]
  },
  {
   "cell_type": "markdown",
   "metadata": {},
   "source": [
    "# reduce(function, sequence, initial)"
   ]
  },
  {
   "cell_type": "code",
   "execution_count": 88,
   "metadata": {},
   "outputs": [
    {
     "name": "stdout",
     "output_type": "stream",
     "text": [
      "59\n"
     ]
    }
   ],
   "source": [
    "sum_diff_nos = reduce(sum_nos,nos,10)   # First the 10 gets added to the 1 in the nos list\n",
    "print(sum_diff_nos)"
   ]
  },
  {
   "cell_type": "code",
   "execution_count": 89,
   "metadata": {},
   "outputs": [
    {
     "name": "stdout",
     "output_type": "stream",
     "text": [
      "54\n"
     ]
    }
   ],
   "source": [
    "sum_diff_nos = reduce(sum_nos,nos,5)     # First the 5 gets added to the 1 in the nos list\n",
    "print(sum_diff_nos)"
   ]
  }
 ],
 "metadata": {
  "kernelspec": {
   "display_name": "Python 3",
   "language": "python",
   "name": "python3"
  },
  "language_info": {
   "codemirror_mode": {
    "name": "ipython",
    "version": 3
   },
   "file_extension": ".py",
   "mimetype": "text/x-python",
   "name": "python",
   "nbconvert_exporter": "python",
   "pygments_lexer": "ipython3",
   "version": "3.7.6"
  }
 },
 "nbformat": 4,
 "nbformat_minor": 4
}
