{
 "cells": [
  {
   "cell_type": "code",
   "execution_count": null,
   "metadata": {},
   "outputs": [],
   "source": [
    "'''\n",
    "Title: Hepatitis_EDA\n",
    "Date: 4th July,2020\n",
    "Objective - To perform EDA on the hepatitis data set- HCV_data.csv\n",
    "Author- Srikanth\n",
    "'''"
   ]
  },
  {
   "cell_type": "code",
   "execution_count": 2,
   "metadata": {},
   "outputs": [],
   "source": [
    "import pandas as pd\n",
    "import numpy as np\n",
    "import seaborn as sns\n",
    "import matplotlib.pyplot as plt"
   ]
  },
  {
   "cell_type": "code",
   "execution_count": 3,
   "metadata": {},
   "outputs": [],
   "source": [
    "hepatitis= pd.read_csv(\"C:\\\\Users\\srika\\OneDrive\\Documents\\Sri\\Course\\Inceptez_DS\\Kaggle\\Hepatitis\\\\HCV_Data.csv\")"
   ]
  },
  {
   "cell_type": "code",
   "execution_count": 4,
   "metadata": {},
   "outputs": [
    {
     "data": {
      "text/html": [
       "<div>\n",
       "<style scoped>\n",
       "    .dataframe tbody tr th:only-of-type {\n",
       "        vertical-align: middle;\n",
       "    }\n",
       "\n",
       "    .dataframe tbody tr th {\n",
       "        vertical-align: top;\n",
       "    }\n",
       "\n",
       "    .dataframe thead th {\n",
       "        text-align: right;\n",
       "    }\n",
       "</style>\n",
       "<table border=\"1\" class=\"dataframe\">\n",
       "  <thead>\n",
       "    <tr style=\"text-align: right;\">\n",
       "      <th></th>\n",
       "      <th>Patient_id</th>\n",
       "      <th>Age</th>\n",
       "      <th>Gender</th>\n",
       "      <th>BMI</th>\n",
       "      <th>Fever</th>\n",
       "      <th>Nausea/Vomiting</th>\n",
       "      <th>Headache</th>\n",
       "      <th>Diarrhea</th>\n",
       "      <th>Fatigue &amp; generalized bone ache</th>\n",
       "      <th>Jaundice</th>\n",
       "      <th>Epigastric pain</th>\n",
       "      <th>WBC</th>\n",
       "      <th>RBC</th>\n",
       "      <th>HGB</th>\n",
       "      <th>Plat</th>\n",
       "      <th>AST 1</th>\n",
       "      <th>ALT 1</th>\n",
       "      <th>Baseline histological Grading</th>\n",
       "      <th>Baselinehistological staging</th>\n",
       "    </tr>\n",
       "  </thead>\n",
       "  <tbody>\n",
       "    <tr>\n",
       "      <th>0</th>\n",
       "      <td>651</td>\n",
       "      <td>42</td>\n",
       "      <td>Male</td>\n",
       "      <td>25</td>\n",
       "      <td>Present</td>\n",
       "      <td>Absent</td>\n",
       "      <td>Absent</td>\n",
       "      <td>Present</td>\n",
       "      <td>Absent</td>\n",
       "      <td>Present</td>\n",
       "      <td>Absent</td>\n",
       "      <td>4119</td>\n",
       "      <td>4724628</td>\n",
       "      <td>13</td>\n",
       "      <td>199651</td>\n",
       "      <td>112</td>\n",
       "      <td>119</td>\n",
       "      <td>15</td>\n",
       "      <td>3</td>\n",
       "    </tr>\n",
       "    <tr>\n",
       "      <th>1</th>\n",
       "      <td>453</td>\n",
       "      <td>38</td>\n",
       "      <td>Male</td>\n",
       "      <td>28</td>\n",
       "      <td>Absent</td>\n",
       "      <td>Present</td>\n",
       "      <td>Present</td>\n",
       "      <td>Absent</td>\n",
       "      <td>Absent</td>\n",
       "      <td>Absent</td>\n",
       "      <td>Absent</td>\n",
       "      <td>4937</td>\n",
       "      <td>4677001</td>\n",
       "      <td>12</td>\n",
       "      <td>157697</td>\n",
       "      <td>90</td>\n",
       "      <td>53</td>\n",
       "      <td>4</td>\n",
       "      <td>4</td>\n",
       "    </tr>\n",
       "    <tr>\n",
       "      <th>2</th>\n",
       "      <td>163</td>\n",
       "      <td>34</td>\n",
       "      <td>Male</td>\n",
       "      <td>28</td>\n",
       "      <td>Absent</td>\n",
       "      <td>Present</td>\n",
       "      <td>Absent</td>\n",
       "      <td>Absent</td>\n",
       "      <td>Present</td>\n",
       "      <td>Absent</td>\n",
       "      <td>Present</td>\n",
       "      <td>11951</td>\n",
       "      <td>4679689</td>\n",
       "      <td>15</td>\n",
       "      <td>120161</td>\n",
       "      <td>66</td>\n",
       "      <td>77</td>\n",
       "      <td>6</td>\n",
       "      <td>3</td>\n",
       "    </tr>\n",
       "    <tr>\n",
       "      <th>3</th>\n",
       "      <td>488</td>\n",
       "      <td>58</td>\n",
       "      <td>Male</td>\n",
       "      <td>24</td>\n",
       "      <td>Absent</td>\n",
       "      <td>Present</td>\n",
       "      <td>Present</td>\n",
       "      <td>Absent</td>\n",
       "      <td>Absent</td>\n",
       "      <td>Absent</td>\n",
       "      <td>Absent</td>\n",
       "      <td>9767</td>\n",
       "      <td>4697603</td>\n",
       "      <td>13</td>\n",
       "      <td>224572</td>\n",
       "      <td>98</td>\n",
       "      <td>112</td>\n",
       "      <td>10</td>\n",
       "      <td>1</td>\n",
       "    </tr>\n",
       "    <tr>\n",
       "      <th>4</th>\n",
       "      <td>695</td>\n",
       "      <td>50</td>\n",
       "      <td>Female</td>\n",
       "      <td>35</td>\n",
       "      <td>Present</td>\n",
       "      <td>Absent</td>\n",
       "      <td>Present</td>\n",
       "      <td>Absent</td>\n",
       "      <td>Present</td>\n",
       "      <td>Absent</td>\n",
       "      <td>Absent</td>\n",
       "      <td>7523</td>\n",
       "      <td>4140662</td>\n",
       "      <td>11</td>\n",
       "      <td>215007</td>\n",
       "      <td>48</td>\n",
       "      <td>122</td>\n",
       "      <td>11</td>\n",
       "      <td>1</td>\n",
       "    </tr>\n",
       "  </tbody>\n",
       "</table>\n",
       "</div>"
      ],
      "text/plain": [
       "   Patient_id  Age  Gender  BMI    Fever Nausea/Vomiting Headache Diarrhea  \\\n",
       "0         651   42    Male   25  Present          Absent   Absent  Present   \n",
       "1         453   38    Male   28   Absent         Present  Present   Absent   \n",
       "2         163   34    Male   28   Absent         Present   Absent   Absent   \n",
       "3         488   58    Male   24   Absent         Present  Present   Absent   \n",
       "4         695   50  Female   35  Present          Absent  Present   Absent   \n",
       "\n",
       "  Fatigue & generalized bone ache Jaundice Epigastric pain    WBC      RBC  \\\n",
       "0                          Absent  Present          Absent   4119  4724628   \n",
       "1                          Absent   Absent          Absent   4937  4677001   \n",
       "2                         Present   Absent         Present  11951  4679689   \n",
       "3                          Absent   Absent          Absent   9767  4697603   \n",
       "4                         Present   Absent          Absent   7523  4140662   \n",
       "\n",
       "   HGB    Plat  AST 1  ALT 1  Baseline histological Grading  \\\n",
       "0   13  199651    112    119                             15   \n",
       "1   12  157697     90     53                              4   \n",
       "2   15  120161     66     77                              6   \n",
       "3   13  224572     98    112                             10   \n",
       "4   11  215007     48    122                             11   \n",
       "\n",
       "   Baselinehistological staging  \n",
       "0                             3  \n",
       "1                             4  \n",
       "2                             3  \n",
       "3                             1  \n",
       "4                             1  "
      ]
     },
     "execution_count": 4,
     "metadata": {},
     "output_type": "execute_result"
    }
   ],
   "source": [
    "hepatitis.head()"
   ]
  },
  {
   "cell_type": "markdown",
   "metadata": {},
   "source": [
    "### Question 1: Return the gender which has most Fever Rates"
   ]
  },
  {
   "cell_type": "code",
   "execution_count": 5,
   "metadata": {},
   "outputs": [
    {
     "data": {
      "text/html": [
       "<div>\n",
       "<style scoped>\n",
       "    .dataframe tbody tr th:only-of-type {\n",
       "        vertical-align: middle;\n",
       "    }\n",
       "\n",
       "    .dataframe tbody tr th {\n",
       "        vertical-align: top;\n",
       "    }\n",
       "\n",
       "    .dataframe thead th {\n",
       "        text-align: right;\n",
       "    }\n",
       "</style>\n",
       "<table border=\"1\" class=\"dataframe\">\n",
       "  <thead>\n",
       "    <tr style=\"text-align: right;\">\n",
       "      <th></th>\n",
       "      <th></th>\n",
       "      <th>Patient_id</th>\n",
       "      <th>Age</th>\n",
       "      <th>BMI</th>\n",
       "      <th>Nausea/Vomiting</th>\n",
       "      <th>Headache</th>\n",
       "      <th>Diarrhea</th>\n",
       "      <th>Fatigue &amp; generalized bone ache</th>\n",
       "      <th>Jaundice</th>\n",
       "      <th>Epigastric pain</th>\n",
       "      <th>WBC</th>\n",
       "      <th>RBC</th>\n",
       "      <th>HGB</th>\n",
       "      <th>Plat</th>\n",
       "      <th>AST 1</th>\n",
       "      <th>ALT 1</th>\n",
       "      <th>Baseline histological Grading</th>\n",
       "      <th>Baselinehistological staging</th>\n",
       "    </tr>\n",
       "    <tr>\n",
       "      <th>Gender</th>\n",
       "      <th>Fever</th>\n",
       "      <th></th>\n",
       "      <th></th>\n",
       "      <th></th>\n",
       "      <th></th>\n",
       "      <th></th>\n",
       "      <th></th>\n",
       "      <th></th>\n",
       "      <th></th>\n",
       "      <th></th>\n",
       "      <th></th>\n",
       "      <th></th>\n",
       "      <th></th>\n",
       "      <th></th>\n",
       "      <th></th>\n",
       "      <th></th>\n",
       "      <th></th>\n",
       "      <th></th>\n",
       "    </tr>\n",
       "  </thead>\n",
       "  <tbody>\n",
       "    <tr>\n",
       "      <th>Female</th>\n",
       "      <th>Present</th>\n",
       "      <td>165</td>\n",
       "      <td>165</td>\n",
       "      <td>165</td>\n",
       "      <td>165</td>\n",
       "      <td>165</td>\n",
       "      <td>165</td>\n",
       "      <td>165</td>\n",
       "      <td>165</td>\n",
       "      <td>165</td>\n",
       "      <td>165</td>\n",
       "      <td>165</td>\n",
       "      <td>165</td>\n",
       "      <td>165</td>\n",
       "      <td>165</td>\n",
       "      <td>165</td>\n",
       "      <td>165</td>\n",
       "      <td>165</td>\n",
       "    </tr>\n",
       "    <tr>\n",
       "      <th>Male</th>\n",
       "      <th>Present</th>\n",
       "      <td>166</td>\n",
       "      <td>166</td>\n",
       "      <td>166</td>\n",
       "      <td>166</td>\n",
       "      <td>166</td>\n",
       "      <td>166</td>\n",
       "      <td>166</td>\n",
       "      <td>166</td>\n",
       "      <td>166</td>\n",
       "      <td>166</td>\n",
       "      <td>166</td>\n",
       "      <td>166</td>\n",
       "      <td>166</td>\n",
       "      <td>166</td>\n",
       "      <td>166</td>\n",
       "      <td>166</td>\n",
       "      <td>166</td>\n",
       "    </tr>\n",
       "    <tr>\n",
       "      <th>Female</th>\n",
       "      <th>Absent</th>\n",
       "      <td>175</td>\n",
       "      <td>175</td>\n",
       "      <td>175</td>\n",
       "      <td>175</td>\n",
       "      <td>175</td>\n",
       "      <td>175</td>\n",
       "      <td>175</td>\n",
       "      <td>175</td>\n",
       "      <td>175</td>\n",
       "      <td>175</td>\n",
       "      <td>175</td>\n",
       "      <td>175</td>\n",
       "      <td>175</td>\n",
       "      <td>175</td>\n",
       "      <td>175</td>\n",
       "      <td>175</td>\n",
       "      <td>175</td>\n",
       "    </tr>\n",
       "    <tr>\n",
       "      <th>Male</th>\n",
       "      <th>Absent</th>\n",
       "      <td>186</td>\n",
       "      <td>186</td>\n",
       "      <td>186</td>\n",
       "      <td>186</td>\n",
       "      <td>186</td>\n",
       "      <td>186</td>\n",
       "      <td>186</td>\n",
       "      <td>186</td>\n",
       "      <td>186</td>\n",
       "      <td>186</td>\n",
       "      <td>186</td>\n",
       "      <td>186</td>\n",
       "      <td>186</td>\n",
       "      <td>186</td>\n",
       "      <td>186</td>\n",
       "      <td>186</td>\n",
       "      <td>186</td>\n",
       "    </tr>\n",
       "  </tbody>\n",
       "</table>\n",
       "</div>"
      ],
      "text/plain": [
       "                Patient_id  Age  BMI  Nausea/Vomiting  Headache  Diarrhea  \\\n",
       "Gender Fever                                                                \n",
       "Female Present         165  165  165              165       165       165   \n",
       "Male   Present         166  166  166              166       166       166   \n",
       "Female Absent          175  175  175              175       175       175   \n",
       "Male   Absent          186  186  186              186       186       186   \n",
       "\n",
       "                Fatigue & generalized bone ache  Jaundice  Epigastric pain  \\\n",
       "Gender Fever                                                                 \n",
       "Female Present                              165       165              165   \n",
       "Male   Present                              166       166              166   \n",
       "Female Absent                               175       175              175   \n",
       "Male   Absent                               186       186              186   \n",
       "\n",
       "                WBC  RBC  HGB  Plat  AST 1  ALT 1  \\\n",
       "Gender Fever                                        \n",
       "Female Present  165  165  165   165    165    165   \n",
       "Male   Present  166  166  166   166    166    166   \n",
       "Female Absent   175  175  175   175    175    175   \n",
       "Male   Absent   186  186  186   186    186    186   \n",
       "\n",
       "                Baseline histological Grading  Baselinehistological staging  \n",
       "Gender Fever                                                                 \n",
       "Female Present                            165                           165  \n",
       "Male   Present                            166                           166  \n",
       "Female Absent                             175                           175  \n",
       "Male   Absent                             186                           186  "
      ]
     },
     "execution_count": 5,
     "metadata": {},
     "output_type": "execute_result"
    }
   ],
   "source": [
    "hepatitis.groupby(['Gender','Fever']).count().sort_values('Fever',ascending =False)"
   ]
  },
  {
   "cell_type": "code",
   "execution_count": 6,
   "metadata": {},
   "outputs": [
    {
     "data": {
      "text/plain": [
       "Gender\n",
       "Female    340\n",
       "Male      352\n",
       "Name: Fever, dtype: int64"
      ]
     },
     "execution_count": 6,
     "metadata": {},
     "output_type": "execute_result"
    }
   ],
   "source": [
    " hepatitis.groupby(['Gender']).count()['Fever']"
   ]
  },
  {
   "cell_type": "code",
   "execution_count": 7,
   "metadata": {},
   "outputs": [],
   "source": [
    "Fever=hepatitis.loc[hepatitis['Fever']=='Present'].groupby(['Gender']).count().sort_values('Fever',ascending=False)['Fever']"
   ]
  },
  {
   "cell_type": "code",
   "execution_count": 8,
   "metadata": {},
   "outputs": [],
   "source": [
    "Feverdf= pd.DataFrame(Fever)"
   ]
  },
  {
   "cell_type": "code",
   "execution_count": 9,
   "metadata": {},
   "outputs": [
    {
     "data": {
      "text/html": [
       "<div>\n",
       "<style scoped>\n",
       "    .dataframe tbody tr th:only-of-type {\n",
       "        vertical-align: middle;\n",
       "    }\n",
       "\n",
       "    .dataframe tbody tr th {\n",
       "        vertical-align: top;\n",
       "    }\n",
       "\n",
       "    .dataframe thead th {\n",
       "        text-align: right;\n",
       "    }\n",
       "</style>\n",
       "<table border=\"1\" class=\"dataframe\">\n",
       "  <thead>\n",
       "    <tr style=\"text-align: right;\">\n",
       "      <th></th>\n",
       "      <th>Fever</th>\n",
       "    </tr>\n",
       "    <tr>\n",
       "      <th>Gender</th>\n",
       "      <th></th>\n",
       "    </tr>\n",
       "  </thead>\n",
       "  <tbody>\n",
       "    <tr>\n",
       "      <th>Male</th>\n",
       "      <td>166</td>\n",
       "    </tr>\n",
       "    <tr>\n",
       "      <th>Female</th>\n",
       "      <td>165</td>\n",
       "    </tr>\n",
       "  </tbody>\n",
       "</table>\n",
       "</div>"
      ],
      "text/plain": [
       "        Fever\n",
       "Gender       \n",
       "Male      166\n",
       "Female    165"
      ]
     },
     "execution_count": 9,
     "metadata": {},
     "output_type": "execute_result"
    }
   ],
   "source": [
    "Feverdf"
   ]
  },
  {
   "cell_type": "code",
   "execution_count": 10,
   "metadata": {},
   "outputs": [
    {
     "data": {
      "text/html": [
       "<div>\n",
       "<style scoped>\n",
       "    .dataframe tbody tr th:only-of-type {\n",
       "        vertical-align: middle;\n",
       "    }\n",
       "\n",
       "    .dataframe tbody tr th {\n",
       "        vertical-align: top;\n",
       "    }\n",
       "\n",
       "    .dataframe thead th {\n",
       "        text-align: right;\n",
       "    }\n",
       "</style>\n",
       "<table border=\"1\" class=\"dataframe\">\n",
       "  <thead>\n",
       "    <tr style=\"text-align: right;\">\n",
       "      <th></th>\n",
       "      <th>Fever</th>\n",
       "    </tr>\n",
       "    <tr>\n",
       "      <th>Gender</th>\n",
       "      <th></th>\n",
       "    </tr>\n",
       "  </thead>\n",
       "  <tbody>\n",
       "    <tr>\n",
       "      <th>Male</th>\n",
       "      <td>166</td>\n",
       "    </tr>\n",
       "  </tbody>\n",
       "</table>\n",
       "</div>"
      ],
      "text/plain": [
       "        Fever\n",
       "Gender       \n",
       "Male      166"
      ]
     },
     "execution_count": 10,
     "metadata": {},
     "output_type": "execute_result"
    }
   ],
   "source": [
    "Feverdf.sort_values('Fever',ascending=False).head(1)"
   ]
  },
  {
   "cell_type": "code",
   "execution_count": 11,
   "metadata": {},
   "outputs": [
    {
     "data": {
      "text/plain": [
       "'Male'"
      ]
     },
     "execution_count": 11,
     "metadata": {},
     "output_type": "execute_result"
    }
   ],
   "source": [
    "hepatitis.loc[hepatitis['Fever']=='Present'].groupby(['Gender']).count().sort_values('Fever',ascending=False).index[0]"
   ]
  },
  {
   "cell_type": "markdown",
   "metadata": {},
   "source": [
    "### Question 2: Write a funcation which returns average BMI of patients having Nausea/Vomiting, Diarehhae and Jaundice"
   ]
  },
  {
   "cell_type": "code",
   "execution_count": 20,
   "metadata": {},
   "outputs": [
    {
     "data": {
      "text/plain": [
       "BMI    28.5\n",
       "dtype: float64"
      ]
     },
     "execution_count": 20,
     "metadata": {},
     "output_type": "execute_result"
    }
   ],
   "source": [
    "hepatitis.loc[(hepatitis['Nausea/Vomiting']=='Present') & (hepatitis['Diarrhea']=='Present') & (hepatitis['Jaundice']=='Present')].groupby(['BMI']).agg({'BMI':np.mean}).mean()"
   ]
  },
  {
   "cell_type": "code",
   "execution_count": 22,
   "metadata": {},
   "outputs": [
    {
     "data": {
      "text/plain": [
       "Index(['Patient_id', 'Age', 'Gender', 'BMI', 'Fever', 'Nausea/Vomiting',\n",
       "       'Headache', 'Diarrhea', 'Fatigue & generalized bone ache', 'Jaundice',\n",
       "       'Epigastric pain', 'WBC', 'RBC', 'HGB', 'Plat', 'AST 1', 'ALT 1',\n",
       "       'Baseline histological Grading', 'Baselinehistological staging'],\n",
       "      dtype='object')"
      ]
     },
     "execution_count": 22,
     "metadata": {},
     "output_type": "execute_result"
    }
   ],
   "source": [
    "hepatitis.columns"
   ]
  },
  {
   "cell_type": "markdown",
   "metadata": {},
   "source": [
    "### Question 3:Return Patient_id as list of Patients who have maximum baseline histological grading and baseline histological staging"
   ]
  },
  {
   "cell_type": "code",
   "execution_count": 42,
   "metadata": {},
   "outputs": [],
   "source": [
    "patientBaseGrade=hepatitis.groupby(['Patient_id']).agg({'Baseline histological Grading':np.max}).sort_values('Baseline histological Grading',ascending = False).head(1).index[0]"
   ]
  },
  {
   "cell_type": "code",
   "execution_count": 43,
   "metadata": {},
   "outputs": [],
   "source": [
    "patientBaseStage=hepatitis.groupby(['Patient_id']).agg({'Baselinehistological staging':np.max}).sort_values('Baselinehistological staging',ascending = False).head(1).index[0]"
   ]
  },
  {
   "cell_type": "code",
   "execution_count": 44,
   "metadata": {},
   "outputs": [
    {
     "data": {
      "text/plain": [
       "numpy.int64"
      ]
     },
     "execution_count": 44,
     "metadata": {},
     "output_type": "execute_result"
    }
   ],
   "source": [
    "type(patientBaseGrade)"
   ]
  },
  {
   "cell_type": "code",
   "execution_count": 50,
   "metadata": {},
   "outputs": [],
   "source": [
    "final_patient=np.array([patientBaseGrade,patientBaseStage]).tolist()"
   ]
  },
  {
   "cell_type": "code",
   "execution_count": 51,
   "metadata": {},
   "outputs": [
    {
     "data": {
      "text/plain": [
       "[714, 249]"
      ]
     },
     "execution_count": 51,
     "metadata": {},
     "output_type": "execute_result"
    }
   ],
   "source": [
    "final_patient"
   ]
  },
  {
   "cell_type": "markdown",
   "metadata": {},
   "source": [
    "### Question 4: Return a list containing the number of patients in each range of BMI"
   ]
  },
  {
   "cell_type": "code",
   "execution_count": null,
   "metadata": {},
   "outputs": [],
   "source": [
    "'''\n",
    "BMI Chart:\n",
    "Under_Weight <19\n",
    "Healthy : 19 to 24\n",
    "Over_weight: 25 to 29\n",
    "Obese>=30\n",
    "'''"
   ]
  },
  {
   "cell_type": "code",
   "execution_count": 60,
   "metadata": {},
   "outputs": [],
   "source": [
    "def bmirange(bmi):\n",
    "    if bmi < 19:\n",
    "        return 'Under_Weight'\n",
    "    if bmi>=19 and bmi <=24:\n",
    "        return 'Healthy'\n",
    "    if bmi>=25 and bmi<=29:\n",
    "        return 'Over_weight'\n",
    "    else:\n",
    "        return 'Obese'"
   ]
  },
  {
   "cell_type": "code",
   "execution_count": 61,
   "metadata": {},
   "outputs": [],
   "source": [
    "hepatitis['BMIrange']= hepatitis['BMI'].apply(bmirange)"
   ]
  },
  {
   "cell_type": "code",
   "execution_count": 62,
   "metadata": {},
   "outputs": [
    {
     "data": {
      "text/html": [
       "<div>\n",
       "<style scoped>\n",
       "    .dataframe tbody tr th:only-of-type {\n",
       "        vertical-align: middle;\n",
       "    }\n",
       "\n",
       "    .dataframe tbody tr th {\n",
       "        vertical-align: top;\n",
       "    }\n",
       "\n",
       "    .dataframe thead th {\n",
       "        text-align: right;\n",
       "    }\n",
       "</style>\n",
       "<table border=\"1\" class=\"dataframe\">\n",
       "  <thead>\n",
       "    <tr style=\"text-align: right;\">\n",
       "      <th></th>\n",
       "      <th>Patient_id</th>\n",
       "      <th>Age</th>\n",
       "      <th>Gender</th>\n",
       "      <th>BMI</th>\n",
       "      <th>Fever</th>\n",
       "      <th>Nausea/Vomiting</th>\n",
       "      <th>Headache</th>\n",
       "      <th>Diarrhea</th>\n",
       "      <th>Fatigue &amp; generalized bone ache</th>\n",
       "      <th>Jaundice</th>\n",
       "      <th>Epigastric pain</th>\n",
       "      <th>WBC</th>\n",
       "      <th>RBC</th>\n",
       "      <th>HGB</th>\n",
       "      <th>Plat</th>\n",
       "      <th>AST 1</th>\n",
       "      <th>ALT 1</th>\n",
       "      <th>Baseline histological Grading</th>\n",
       "      <th>Baselinehistological staging</th>\n",
       "      <th>BMIrange</th>\n",
       "    </tr>\n",
       "  </thead>\n",
       "  <tbody>\n",
       "    <tr>\n",
       "      <th>0</th>\n",
       "      <td>651</td>\n",
       "      <td>42</td>\n",
       "      <td>Male</td>\n",
       "      <td>25</td>\n",
       "      <td>Present</td>\n",
       "      <td>Absent</td>\n",
       "      <td>Absent</td>\n",
       "      <td>Present</td>\n",
       "      <td>Absent</td>\n",
       "      <td>Present</td>\n",
       "      <td>Absent</td>\n",
       "      <td>4119</td>\n",
       "      <td>4724628</td>\n",
       "      <td>13</td>\n",
       "      <td>199651</td>\n",
       "      <td>112</td>\n",
       "      <td>119</td>\n",
       "      <td>15</td>\n",
       "      <td>3</td>\n",
       "      <td>Over_weight</td>\n",
       "    </tr>\n",
       "    <tr>\n",
       "      <th>1</th>\n",
       "      <td>453</td>\n",
       "      <td>38</td>\n",
       "      <td>Male</td>\n",
       "      <td>28</td>\n",
       "      <td>Absent</td>\n",
       "      <td>Present</td>\n",
       "      <td>Present</td>\n",
       "      <td>Absent</td>\n",
       "      <td>Absent</td>\n",
       "      <td>Absent</td>\n",
       "      <td>Absent</td>\n",
       "      <td>4937</td>\n",
       "      <td>4677001</td>\n",
       "      <td>12</td>\n",
       "      <td>157697</td>\n",
       "      <td>90</td>\n",
       "      <td>53</td>\n",
       "      <td>4</td>\n",
       "      <td>4</td>\n",
       "      <td>Over_weight</td>\n",
       "    </tr>\n",
       "    <tr>\n",
       "      <th>2</th>\n",
       "      <td>163</td>\n",
       "      <td>34</td>\n",
       "      <td>Male</td>\n",
       "      <td>28</td>\n",
       "      <td>Absent</td>\n",
       "      <td>Present</td>\n",
       "      <td>Absent</td>\n",
       "      <td>Absent</td>\n",
       "      <td>Present</td>\n",
       "      <td>Absent</td>\n",
       "      <td>Present</td>\n",
       "      <td>11951</td>\n",
       "      <td>4679689</td>\n",
       "      <td>15</td>\n",
       "      <td>120161</td>\n",
       "      <td>66</td>\n",
       "      <td>77</td>\n",
       "      <td>6</td>\n",
       "      <td>3</td>\n",
       "      <td>Over_weight</td>\n",
       "    </tr>\n",
       "    <tr>\n",
       "      <th>3</th>\n",
       "      <td>488</td>\n",
       "      <td>58</td>\n",
       "      <td>Male</td>\n",
       "      <td>24</td>\n",
       "      <td>Absent</td>\n",
       "      <td>Present</td>\n",
       "      <td>Present</td>\n",
       "      <td>Absent</td>\n",
       "      <td>Absent</td>\n",
       "      <td>Absent</td>\n",
       "      <td>Absent</td>\n",
       "      <td>9767</td>\n",
       "      <td>4697603</td>\n",
       "      <td>13</td>\n",
       "      <td>224572</td>\n",
       "      <td>98</td>\n",
       "      <td>112</td>\n",
       "      <td>10</td>\n",
       "      <td>1</td>\n",
       "      <td>Healthy</td>\n",
       "    </tr>\n",
       "    <tr>\n",
       "      <th>4</th>\n",
       "      <td>695</td>\n",
       "      <td>50</td>\n",
       "      <td>Female</td>\n",
       "      <td>35</td>\n",
       "      <td>Present</td>\n",
       "      <td>Absent</td>\n",
       "      <td>Present</td>\n",
       "      <td>Absent</td>\n",
       "      <td>Present</td>\n",
       "      <td>Absent</td>\n",
       "      <td>Absent</td>\n",
       "      <td>7523</td>\n",
       "      <td>4140662</td>\n",
       "      <td>11</td>\n",
       "      <td>215007</td>\n",
       "      <td>48</td>\n",
       "      <td>122</td>\n",
       "      <td>11</td>\n",
       "      <td>1</td>\n",
       "      <td>Obese</td>\n",
       "    </tr>\n",
       "  </tbody>\n",
       "</table>\n",
       "</div>"
      ],
      "text/plain": [
       "   Patient_id  Age  Gender  BMI    Fever Nausea/Vomiting Headache Diarrhea  \\\n",
       "0         651   42    Male   25  Present          Absent   Absent  Present   \n",
       "1         453   38    Male   28   Absent         Present  Present   Absent   \n",
       "2         163   34    Male   28   Absent         Present   Absent   Absent   \n",
       "3         488   58    Male   24   Absent         Present  Present   Absent   \n",
       "4         695   50  Female   35  Present          Absent  Present   Absent   \n",
       "\n",
       "  Fatigue & generalized bone ache Jaundice Epigastric pain    WBC      RBC  \\\n",
       "0                          Absent  Present          Absent   4119  4724628   \n",
       "1                          Absent   Absent          Absent   4937  4677001   \n",
       "2                         Present   Absent         Present  11951  4679689   \n",
       "3                          Absent   Absent          Absent   9767  4697603   \n",
       "4                         Present   Absent          Absent   7523  4140662   \n",
       "\n",
       "   HGB    Plat  AST 1  ALT 1  Baseline histological Grading  \\\n",
       "0   13  199651    112    119                             15   \n",
       "1   12  157697     90     53                              4   \n",
       "2   15  120161     66     77                              6   \n",
       "3   13  224572     98    112                             10   \n",
       "4   11  215007     48    122                             11   \n",
       "\n",
       "   Baselinehistological staging     BMIrange  \n",
       "0                             3  Over_weight  \n",
       "1                             4  Over_weight  \n",
       "2                             3  Over_weight  \n",
       "3                             1      Healthy  \n",
       "4                             1        Obese  "
      ]
     },
     "execution_count": 62,
     "metadata": {},
     "output_type": "execute_result"
    }
   ],
   "source": [
    "hepatitis.head()"
   ]
  },
  {
   "cell_type": "code",
   "execution_count": 66,
   "metadata": {},
   "outputs": [
    {
     "data": {
      "text/plain": [
       "BMIrange\n",
       "Healthy        160\n",
       "Obese          322\n",
       "Over_weight    210\n",
       "Name: BMI, dtype: int64"
      ]
     },
     "execution_count": 66,
     "metadata": {},
     "output_type": "execute_result"
    }
   ],
   "source": [
    "hepatitis.groupby('BMIrange').count()['BMI']"
   ]
  },
  {
   "cell_type": "markdown",
   "metadata": {},
   "source": [
    "### Question 5: Percentage of Patients having a healthy BMI rounded off to two  decimal places"
   ]
  },
  {
   "cell_type": "code",
   "execution_count": 72,
   "metadata": {},
   "outputs": [
    {
     "data": {
      "text/plain": [
       "BMIrange\n",
       "Healthy        160\n",
       "Obese          322\n",
       "Over_weight    210\n",
       "Name: BMI, dtype: int64"
      ]
     },
     "execution_count": 72,
     "metadata": {},
     "output_type": "execute_result"
    }
   ],
   "source": [
    "hepatitis.groupby('BMIrange').count()['BMI']"
   ]
  },
  {
   "cell_type": "code",
   "execution_count": 67,
   "metadata": {},
   "outputs": [],
   "source": [
    "bmicount=hepatitis.groupby('BMIrange').count()['BMI']"
   ]
  },
  {
   "cell_type": "code",
   "execution_count": 76,
   "metadata": {},
   "outputs": [
    {
     "data": {
      "text/plain": [
       "30.08"
      ]
     },
     "execution_count": 76,
     "metadata": {},
     "output_type": "execute_result"
    }
   ],
   "source": [
    "round(((bmicount.Healthy)/(bmicount.Obese+bmicount.Over_weight)) * 100, 2)"
   ]
  },
  {
   "cell_type": "markdown",
   "metadata": {},
   "source": [
    "### Question 6: Find the Age group with most number of patitens and return the no. of patients in that group."
   ]
  },
  {
   "cell_type": "code",
   "execution_count": null,
   "metadata": {},
   "outputs": [],
   "source": [
    "'''\n",
    "Divide the group of age with a period of 5\n",
    "1 to 5\n",
    "6 to 10\n",
    "11 to 15\n",
    "16 to 20  and so on\n",
    "'''"
   ]
  },
  {
   "cell_type": "code",
   "execution_count": 79,
   "metadata": {},
   "outputs": [
    {
     "data": {
      "text/plain": [
       "61"
      ]
     },
     "execution_count": 79,
     "metadata": {},
     "output_type": "execute_result"
    }
   ],
   "source": [
    "hepatitis['Age'].max()"
   ]
  },
  {
   "cell_type": "code",
   "execution_count": 81,
   "metadata": {},
   "outputs": [],
   "source": [
    "def agerange(age):\n",
    "    if age>=1 and age <=5:\n",
    "        return 'BTW 1 & 5'\n",
    "    if age>=6 and age <=10:\n",
    "        return 'BTW 6 & 10'\n",
    "    if age>=11 and age <=15:\n",
    "        return 'BTW 11 & 15'\n",
    "    if age>=16 and age <=20:\n",
    "        return 'BTW 16 & 20'\n",
    "    if age>=21 and age <=25:\n",
    "        return 'BTW 21 & 25'\n",
    "    if age>=26 and age <=30:\n",
    "        return 'BTW 26 & 30'\n",
    "    if age>=31 and age <=35:\n",
    "        return 'BTW 31 & 35'\n",
    "    if age>=36 and age <=40:\n",
    "        return 'BTW 36 & 40'\n",
    "    if age>=41 and age <=45:\n",
    "        return 'BTW 41 & 45'\n",
    "    if age>=45 and age <=50:\n",
    "        return 'BTW 45 & 50'\n",
    "    if age>=51 and age <=55:\n",
    "        return 'BTW 51 & 55'\n",
    "    if age>=56 and age <=60:\n",
    "        return 'BTW 56 & 60'\n",
    "    else:\n",
    "        return 'Greater than 60'"
   ]
  },
  {
   "cell_type": "code",
   "execution_count": 82,
   "metadata": {},
   "outputs": [],
   "source": [
    "hepatitis['AgeRange']=hepatitis['Age'].apply(agerange)"
   ]
  },
  {
   "cell_type": "code",
   "execution_count": 83,
   "metadata": {},
   "outputs": [
    {
     "data": {
      "text/html": [
       "<div>\n",
       "<style scoped>\n",
       "    .dataframe tbody tr th:only-of-type {\n",
       "        vertical-align: middle;\n",
       "    }\n",
       "\n",
       "    .dataframe tbody tr th {\n",
       "        vertical-align: top;\n",
       "    }\n",
       "\n",
       "    .dataframe thead th {\n",
       "        text-align: right;\n",
       "    }\n",
       "</style>\n",
       "<table border=\"1\" class=\"dataframe\">\n",
       "  <thead>\n",
       "    <tr style=\"text-align: right;\">\n",
       "      <th></th>\n",
       "      <th>Patient_id</th>\n",
       "      <th>Age</th>\n",
       "      <th>Gender</th>\n",
       "      <th>BMI</th>\n",
       "      <th>Fever</th>\n",
       "      <th>Nausea/Vomiting</th>\n",
       "      <th>Headache</th>\n",
       "      <th>Diarrhea</th>\n",
       "      <th>Fatigue &amp; generalized bone ache</th>\n",
       "      <th>Jaundice</th>\n",
       "      <th>...</th>\n",
       "      <th>WBC</th>\n",
       "      <th>RBC</th>\n",
       "      <th>HGB</th>\n",
       "      <th>Plat</th>\n",
       "      <th>AST 1</th>\n",
       "      <th>ALT 1</th>\n",
       "      <th>Baseline histological Grading</th>\n",
       "      <th>Baselinehistological staging</th>\n",
       "      <th>BMIrange</th>\n",
       "      <th>AgeRange</th>\n",
       "    </tr>\n",
       "  </thead>\n",
       "  <tbody>\n",
       "    <tr>\n",
       "      <th>0</th>\n",
       "      <td>651</td>\n",
       "      <td>42</td>\n",
       "      <td>Male</td>\n",
       "      <td>25</td>\n",
       "      <td>Present</td>\n",
       "      <td>Absent</td>\n",
       "      <td>Absent</td>\n",
       "      <td>Present</td>\n",
       "      <td>Absent</td>\n",
       "      <td>Present</td>\n",
       "      <td>...</td>\n",
       "      <td>4119</td>\n",
       "      <td>4724628</td>\n",
       "      <td>13</td>\n",
       "      <td>199651</td>\n",
       "      <td>112</td>\n",
       "      <td>119</td>\n",
       "      <td>15</td>\n",
       "      <td>3</td>\n",
       "      <td>Over_weight</td>\n",
       "      <td>BTW 41 &amp; 45</td>\n",
       "    </tr>\n",
       "    <tr>\n",
       "      <th>1</th>\n",
       "      <td>453</td>\n",
       "      <td>38</td>\n",
       "      <td>Male</td>\n",
       "      <td>28</td>\n",
       "      <td>Absent</td>\n",
       "      <td>Present</td>\n",
       "      <td>Present</td>\n",
       "      <td>Absent</td>\n",
       "      <td>Absent</td>\n",
       "      <td>Absent</td>\n",
       "      <td>...</td>\n",
       "      <td>4937</td>\n",
       "      <td>4677001</td>\n",
       "      <td>12</td>\n",
       "      <td>157697</td>\n",
       "      <td>90</td>\n",
       "      <td>53</td>\n",
       "      <td>4</td>\n",
       "      <td>4</td>\n",
       "      <td>Over_weight</td>\n",
       "      <td>BTW 36 &amp; 40</td>\n",
       "    </tr>\n",
       "    <tr>\n",
       "      <th>2</th>\n",
       "      <td>163</td>\n",
       "      <td>34</td>\n",
       "      <td>Male</td>\n",
       "      <td>28</td>\n",
       "      <td>Absent</td>\n",
       "      <td>Present</td>\n",
       "      <td>Absent</td>\n",
       "      <td>Absent</td>\n",
       "      <td>Present</td>\n",
       "      <td>Absent</td>\n",
       "      <td>...</td>\n",
       "      <td>11951</td>\n",
       "      <td>4679689</td>\n",
       "      <td>15</td>\n",
       "      <td>120161</td>\n",
       "      <td>66</td>\n",
       "      <td>77</td>\n",
       "      <td>6</td>\n",
       "      <td>3</td>\n",
       "      <td>Over_weight</td>\n",
       "      <td>BTW 31 &amp; 35</td>\n",
       "    </tr>\n",
       "    <tr>\n",
       "      <th>3</th>\n",
       "      <td>488</td>\n",
       "      <td>58</td>\n",
       "      <td>Male</td>\n",
       "      <td>24</td>\n",
       "      <td>Absent</td>\n",
       "      <td>Present</td>\n",
       "      <td>Present</td>\n",
       "      <td>Absent</td>\n",
       "      <td>Absent</td>\n",
       "      <td>Absent</td>\n",
       "      <td>...</td>\n",
       "      <td>9767</td>\n",
       "      <td>4697603</td>\n",
       "      <td>13</td>\n",
       "      <td>224572</td>\n",
       "      <td>98</td>\n",
       "      <td>112</td>\n",
       "      <td>10</td>\n",
       "      <td>1</td>\n",
       "      <td>Healthy</td>\n",
       "      <td>BTW 56 &amp; 60</td>\n",
       "    </tr>\n",
       "    <tr>\n",
       "      <th>4</th>\n",
       "      <td>695</td>\n",
       "      <td>50</td>\n",
       "      <td>Female</td>\n",
       "      <td>35</td>\n",
       "      <td>Present</td>\n",
       "      <td>Absent</td>\n",
       "      <td>Present</td>\n",
       "      <td>Absent</td>\n",
       "      <td>Present</td>\n",
       "      <td>Absent</td>\n",
       "      <td>...</td>\n",
       "      <td>7523</td>\n",
       "      <td>4140662</td>\n",
       "      <td>11</td>\n",
       "      <td>215007</td>\n",
       "      <td>48</td>\n",
       "      <td>122</td>\n",
       "      <td>11</td>\n",
       "      <td>1</td>\n",
       "      <td>Obese</td>\n",
       "      <td>BTW 45 &amp; 50</td>\n",
       "    </tr>\n",
       "  </tbody>\n",
       "</table>\n",
       "<p>5 rows × 21 columns</p>\n",
       "</div>"
      ],
      "text/plain": [
       "   Patient_id  Age  Gender  BMI    Fever Nausea/Vomiting Headache Diarrhea  \\\n",
       "0         651   42    Male   25  Present          Absent   Absent  Present   \n",
       "1         453   38    Male   28   Absent         Present  Present   Absent   \n",
       "2         163   34    Male   28   Absent         Present   Absent   Absent   \n",
       "3         488   58    Male   24   Absent         Present  Present   Absent   \n",
       "4         695   50  Female   35  Present          Absent  Present   Absent   \n",
       "\n",
       "  Fatigue & generalized bone ache Jaundice  ...    WBC      RBC  HGB    Plat  \\\n",
       "0                          Absent  Present  ...   4119  4724628   13  199651   \n",
       "1                          Absent   Absent  ...   4937  4677001   12  157697   \n",
       "2                         Present   Absent  ...  11951  4679689   15  120161   \n",
       "3                          Absent   Absent  ...   9767  4697603   13  224572   \n",
       "4                         Present   Absent  ...   7523  4140662   11  215007   \n",
       "\n",
       "   AST 1  ALT 1  Baseline histological Grading  Baselinehistological staging  \\\n",
       "0    112    119                             15                             3   \n",
       "1     90     53                              4                             4   \n",
       "2     66     77                              6                             3   \n",
       "3     98    112                             10                             1   \n",
       "4     48    122                             11                             1   \n",
       "\n",
       "      BMIrange     AgeRange  \n",
       "0  Over_weight  BTW 41 & 45  \n",
       "1  Over_weight  BTW 36 & 40  \n",
       "2  Over_weight  BTW 31 & 35  \n",
       "3      Healthy  BTW 56 & 60  \n",
       "4        Obese  BTW 45 & 50  \n",
       "\n",
       "[5 rows x 21 columns]"
      ]
     },
     "execution_count": 83,
     "metadata": {},
     "output_type": "execute_result"
    }
   ],
   "source": [
    "hepatitis.head()"
   ]
  },
  {
   "cell_type": "code",
   "execution_count": 86,
   "metadata": {},
   "outputs": [
    {
     "data": {
      "text/plain": [
       "AgeRange\n",
       "BTW 31 & 35         96\n",
       "BTW 36 & 40        123\n",
       "BTW 41 & 45        115\n",
       "BTW 45 & 50        100\n",
       "BTW 51 & 55        114\n",
       "BTW 56 & 60        127\n",
       "Greater than 60     17\n",
       "Name: Age, dtype: int64"
      ]
     },
     "execution_count": 86,
     "metadata": {},
     "output_type": "execute_result"
    }
   ],
   "source": [
    "hepatitis.groupby('AgeRange').count()['Age']"
   ]
  }
 ],
 "metadata": {
  "kernelspec": {
   "display_name": "Python 3",
   "language": "python",
   "name": "python3"
  },
  "language_info": {
   "codemirror_mode": {
    "name": "ipython",
    "version": 3
   },
   "file_extension": ".py",
   "mimetype": "text/x-python",
   "name": "python",
   "nbconvert_exporter": "python",
   "pygments_lexer": "ipython3",
   "version": "3.7.6"
  }
 },
 "nbformat": 4,
 "nbformat_minor": 4
}
